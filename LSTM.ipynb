{
 "cells": [
  {
   "cell_type": "code",
   "execution_count": 1,
   "id": "7e632e83",
   "metadata": {},
   "outputs": [],
   "source": [
    "import keras\n",
    "import matplotlib.pyplot as plt\n",
    "import numpy as np\n",
    "import pandas as pd\n",
    "from keras.layers import *\n",
    "from keras.models import *\n",
    "from keras.optimizers import *\n",
    "from sklearn.decomposition import PCA\n",
    "from sklearn.compose import make_column_transformer\n",
    "from sklearn.preprocessing import OneHotEncoder\n",
    "from sklearn.metrics import accuracy_score\n",
    "from sklearn.model_selection import train_test_split\n",
    "from tensorflow.keras.callbacks import EarlyStopping, ModelCheckpoint, TensorBoard\n",
    "from sklearn.metrics import plot_confusion_matrix, confusion_matrix, classification_report\n",
    "import seaborn as sns"
   ]
  },
  {
   "cell_type": "code",
   "execution_count": 5,
   "id": "b97ac74a",
   "metadata": {},
   "outputs": [
    {
     "name": "stdout",
     "output_type": "stream",
     "text": [
      "(1262, 11619)\n"
     ]
    },
    {
     "data": {
      "text/plain": [
       "(949, 11619)"
      ]
     },
     "execution_count": 5,
     "metadata": {},
     "output_type": "execute_result"
    }
   ],
   "source": [
    "df = pd.read_csv('C:/Users/norma/Desktop/BITIRME/(Mcisiz)GSE_OrtakData_NormR.csv', sep = \";\", decimal=\",\")\n",
    "print(df.shape)\n",
    "df = df[df.Class != 2]\n",
    "df.shape"
   ]
  },
  {
   "cell_type": "code",
   "execution_count": 6,
   "id": "16f87b8c",
   "metadata": {},
   "outputs": [],
   "source": [
    "features = df.drop('Class',axis=1)\n",
    "labels_dr = 'C:/Users/norma/Desktop/BITIRME/gse_less_feature.csv'\n",
    "labels_df = pd.read_csv(labels_dr, sep = \",\", dtype='unicode')"
   ]
  },
  {
   "cell_type": "code",
   "execution_count": 7,
   "id": "6c08cab9",
   "metadata": {},
   "outputs": [],
   "source": [
    "labels = labels_df.iloc[:949,:2]"
   ]
  },
  {
   "cell_type": "code",
   "execution_count": 8,
   "id": "03e0b85c",
   "metadata": {},
   "outputs": [],
   "source": [
    "pca = PCA(n_components = 225).fit(features)\n",
    "principalComponents = pca.fit_transform(features)\n",
    "columns = ['Pc' + str(i) for i in range(1,226)]\n",
    "principalDf = pd.DataFrame(data = principalComponents\n",
    "             , columns = columns)"
   ]
  },
  {
   "cell_type": "code",
   "execution_count": 20,
   "id": "fd4d82a6",
   "metadata": {},
   "outputs": [
    {
     "data": {
      "text/plain": [
       "(949, 225)"
      ]
     },
     "execution_count": 20,
     "metadata": {},
     "output_type": "execute_result"
    }
   ],
   "source": [
    "principalDf.shape"
   ]
  },
  {
   "cell_type": "code",
   "execution_count": 68,
   "id": "263ef193",
   "metadata": {},
   "outputs": [],
   "source": [
    "Batch_size = 32\n",
    "def build_model(TIME_PERIODS):\n",
    "    input_shape=(TIME_PERIODS,)\n",
    "    model = Sequential()\n",
    "    model.add(keras.Input(shape=(TIME_PERIODS,1)))\n",
    "    model.add(LSTM(22, input_shape=(principalDf.sha,1)))\n",
    "    model.add(LSTM(100))\n",
    "    model.add(Dense(2))\n",
    "    model.add(Activation('sigmoid'))\n",
    "    return model\n",
    "\n"
   ]
  },
  {
   "cell_type": "code",
   "execution_count": 55,
   "id": "10bef7b3",
   "metadata": {},
   "outputs": [],
   "source": [
    "x_train_225, x_test_225, y_train_225, y_test_225 = train_test_split(principalDf, labels, test_size= 0.2, random_state=42)\n",
    "x_train_225, x_val_225, y_train_225, y_val_225 = train_test_split(x_train_225, y_train_225, test_size=0.25, random_state= 42)"
   ]
  },
  {
   "cell_type": "code",
   "execution_count": 56,
   "id": "c46b96b2",
   "metadata": {},
   "outputs": [],
   "source": [
    "y_train_225 = y_train_225.astype(int)\n",
    "y_test_225 = y_test_225.astype(int)\n",
    "y_val_225 = y_val_225.astype(int)"
   ]
  },
  {
   "cell_type": "code",
   "execution_count": 69,
   "id": "0b3e83b6",
   "metadata": {
    "scrolled": false
   },
   "outputs": [
    {
     "ename": "ValueError",
     "evalue": "Input 0 of layer \"lstm_32\" is incompatible with the layer: expected ndim=3, found ndim=2. Full shape received: (None, 22)",
     "output_type": "error",
     "traceback": [
      "\u001b[1;31m---------------------------------------------------------------------------\u001b[0m",
      "\u001b[1;31mValueError\u001b[0m                                Traceback (most recent call last)",
      "\u001b[1;32m~\\AppData\\Local\\Temp/ipykernel_7644/2415563596.py\u001b[0m in \u001b[0;36m<module>\u001b[1;34m\u001b[0m\n\u001b[0;32m     12\u001b[0m          ckpt, tensorboard]\n\u001b[0;32m     13\u001b[0m \u001b[1;33m\u001b[0m\u001b[0m\n\u001b[1;32m---> 14\u001b[1;33m \u001b[0mmodel_225\u001b[0m \u001b[1;33m=\u001b[0m \u001b[0mbuild_model\u001b[0m\u001b[1;33m(\u001b[0m\u001b[0mprincipalDf\u001b[0m\u001b[1;33m.\u001b[0m\u001b[0mshape\u001b[0m\u001b[1;33m[\u001b[0m\u001b[1;36m1\u001b[0m\u001b[1;33m]\u001b[0m\u001b[1;33m)\u001b[0m\u001b[1;33m\u001b[0m\u001b[1;33m\u001b[0m\u001b[0m\n\u001b[0m\u001b[0;32m     15\u001b[0m \u001b[0mopt\u001b[0m \u001b[1;33m=\u001b[0m \u001b[0mtf\u001b[0m\u001b[1;33m.\u001b[0m\u001b[0mkeras\u001b[0m\u001b[1;33m.\u001b[0m\u001b[0moptimizers\u001b[0m\u001b[1;33m.\u001b[0m\u001b[0mAdam\u001b[0m\u001b[1;33m(\u001b[0m\u001b[1;36m0.0001\u001b[0m\u001b[1;33m)\u001b[0m\u001b[1;33m\u001b[0m\u001b[1;33m\u001b[0m\u001b[0m\n\u001b[0;32m     16\u001b[0m model_225.compile(loss='categorical_crossentropy',\n",
      "\u001b[1;32m~\\AppData\\Local\\Temp/ipykernel_7644/2535608741.py\u001b[0m in \u001b[0;36mbuild_model\u001b[1;34m(TIME_PERIODS)\u001b[0m\n\u001b[0;32m      5\u001b[0m     \u001b[0mmodel\u001b[0m\u001b[1;33m.\u001b[0m\u001b[0madd\u001b[0m\u001b[1;33m(\u001b[0m\u001b[0mkeras\u001b[0m\u001b[1;33m.\u001b[0m\u001b[0mInput\u001b[0m\u001b[1;33m(\u001b[0m\u001b[0mshape\u001b[0m\u001b[1;33m=\u001b[0m\u001b[1;33m(\u001b[0m\u001b[0mTIME_PERIODS\u001b[0m\u001b[1;33m,\u001b[0m\u001b[1;36m1\u001b[0m\u001b[1;33m)\u001b[0m\u001b[1;33m)\u001b[0m\u001b[1;33m)\u001b[0m\u001b[1;33m\u001b[0m\u001b[1;33m\u001b[0m\u001b[0m\n\u001b[0;32m      6\u001b[0m     \u001b[0mmodel\u001b[0m\u001b[1;33m.\u001b[0m\u001b[0madd\u001b[0m\u001b[1;33m(\u001b[0m\u001b[0mLSTM\u001b[0m\u001b[1;33m(\u001b[0m\u001b[1;36m22\u001b[0m\u001b[1;33m,\u001b[0m \u001b[0minput_shape\u001b[0m\u001b[1;33m=\u001b[0m\u001b[1;33m(\u001b[0m\u001b[0mprincipalDf\u001b[0m\u001b[1;33m.\u001b[0m\u001b[0mshape\u001b[0m\u001b[1;33m[\u001b[0m\u001b[1;36m0\u001b[0m\u001b[1;33m]\u001b[0m\u001b[1;33m,\u001b[0m \u001b[0mprincipalDf\u001b[0m\u001b[1;33m.\u001b[0m\u001b[0mshape\u001b[0m\u001b[1;33m[\u001b[0m\u001b[1;36m1\u001b[0m\u001b[1;33m]\u001b[0m\u001b[1;33m)\u001b[0m\u001b[1;33m)\u001b[0m\u001b[1;33m)\u001b[0m\u001b[1;33m\u001b[0m\u001b[1;33m\u001b[0m\u001b[0m\n\u001b[1;32m----> 7\u001b[1;33m     \u001b[0mmodel\u001b[0m\u001b[1;33m.\u001b[0m\u001b[0madd\u001b[0m\u001b[1;33m(\u001b[0m\u001b[0mLSTM\u001b[0m\u001b[1;33m(\u001b[0m\u001b[1;36m100\u001b[0m\u001b[1;33m)\u001b[0m\u001b[1;33m)\u001b[0m\u001b[1;33m\u001b[0m\u001b[1;33m\u001b[0m\u001b[0m\n\u001b[0m\u001b[0;32m      8\u001b[0m     \u001b[0mmodel\u001b[0m\u001b[1;33m.\u001b[0m\u001b[0madd\u001b[0m\u001b[1;33m(\u001b[0m\u001b[0mDense\u001b[0m\u001b[1;33m(\u001b[0m\u001b[1;36m2\u001b[0m\u001b[1;33m)\u001b[0m\u001b[1;33m)\u001b[0m\u001b[1;33m\u001b[0m\u001b[1;33m\u001b[0m\u001b[0m\n\u001b[0;32m      9\u001b[0m     \u001b[0mmodel\u001b[0m\u001b[1;33m.\u001b[0m\u001b[0madd\u001b[0m\u001b[1;33m(\u001b[0m\u001b[0mActivation\u001b[0m\u001b[1;33m(\u001b[0m\u001b[1;34m'sigmoid'\u001b[0m\u001b[1;33m)\u001b[0m\u001b[1;33m)\u001b[0m\u001b[1;33m\u001b[0m\u001b[1;33m\u001b[0m\u001b[0m\n",
      "\u001b[1;32mC:\\ProgramData\\Anaconda3\\lib\\site-packages\\tensorflow\\python\\training\\tracking\\base.py\u001b[0m in \u001b[0;36m_method_wrapper\u001b[1;34m(self, *args, **kwargs)\u001b[0m\n\u001b[0;32m    627\u001b[0m     \u001b[0mself\u001b[0m\u001b[1;33m.\u001b[0m\u001b[0m_self_setattr_tracking\u001b[0m \u001b[1;33m=\u001b[0m \u001b[1;32mFalse\u001b[0m  \u001b[1;31m# pylint: disable=protected-access\u001b[0m\u001b[1;33m\u001b[0m\u001b[1;33m\u001b[0m\u001b[0m\n\u001b[0;32m    628\u001b[0m     \u001b[1;32mtry\u001b[0m\u001b[1;33m:\u001b[0m\u001b[1;33m\u001b[0m\u001b[1;33m\u001b[0m\u001b[0m\n\u001b[1;32m--> 629\u001b[1;33m       \u001b[0mresult\u001b[0m \u001b[1;33m=\u001b[0m \u001b[0mmethod\u001b[0m\u001b[1;33m(\u001b[0m\u001b[0mself\u001b[0m\u001b[1;33m,\u001b[0m \u001b[1;33m*\u001b[0m\u001b[0margs\u001b[0m\u001b[1;33m,\u001b[0m \u001b[1;33m**\u001b[0m\u001b[0mkwargs\u001b[0m\u001b[1;33m)\u001b[0m\u001b[1;33m\u001b[0m\u001b[1;33m\u001b[0m\u001b[0m\n\u001b[0m\u001b[0;32m    630\u001b[0m     \u001b[1;32mfinally\u001b[0m\u001b[1;33m:\u001b[0m\u001b[1;33m\u001b[0m\u001b[1;33m\u001b[0m\u001b[0m\n\u001b[0;32m    631\u001b[0m       \u001b[0mself\u001b[0m\u001b[1;33m.\u001b[0m\u001b[0m_self_setattr_tracking\u001b[0m \u001b[1;33m=\u001b[0m \u001b[0mprevious_value\u001b[0m  \u001b[1;31m# pylint: disable=protected-access\u001b[0m\u001b[1;33m\u001b[0m\u001b[1;33m\u001b[0m\u001b[0m\n",
      "\u001b[1;32mC:\\ProgramData\\Anaconda3\\lib\\site-packages\\keras\\utils\\traceback_utils.py\u001b[0m in \u001b[0;36merror_handler\u001b[1;34m(*args, **kwargs)\u001b[0m\n\u001b[0;32m     65\u001b[0m     \u001b[1;32mexcept\u001b[0m \u001b[0mException\u001b[0m \u001b[1;32mas\u001b[0m \u001b[0me\u001b[0m\u001b[1;33m:\u001b[0m  \u001b[1;31m# pylint: disable=broad-except\u001b[0m\u001b[1;33m\u001b[0m\u001b[1;33m\u001b[0m\u001b[0m\n\u001b[0;32m     66\u001b[0m       \u001b[0mfiltered_tb\u001b[0m \u001b[1;33m=\u001b[0m \u001b[0m_process_traceback_frames\u001b[0m\u001b[1;33m(\u001b[0m\u001b[0me\u001b[0m\u001b[1;33m.\u001b[0m\u001b[0m__traceback__\u001b[0m\u001b[1;33m)\u001b[0m\u001b[1;33m\u001b[0m\u001b[1;33m\u001b[0m\u001b[0m\n\u001b[1;32m---> 67\u001b[1;33m       \u001b[1;32mraise\u001b[0m \u001b[0me\u001b[0m\u001b[1;33m.\u001b[0m\u001b[0mwith_traceback\u001b[0m\u001b[1;33m(\u001b[0m\u001b[0mfiltered_tb\u001b[0m\u001b[1;33m)\u001b[0m \u001b[1;32mfrom\u001b[0m \u001b[1;32mNone\u001b[0m\u001b[1;33m\u001b[0m\u001b[1;33m\u001b[0m\u001b[0m\n\u001b[0m\u001b[0;32m     68\u001b[0m     \u001b[1;32mfinally\u001b[0m\u001b[1;33m:\u001b[0m\u001b[1;33m\u001b[0m\u001b[1;33m\u001b[0m\u001b[0m\n\u001b[0;32m     69\u001b[0m       \u001b[1;32mdel\u001b[0m \u001b[0mfiltered_tb\u001b[0m\u001b[1;33m\u001b[0m\u001b[1;33m\u001b[0m\u001b[0m\n",
      "\u001b[1;32mC:\\ProgramData\\Anaconda3\\lib\\site-packages\\keras\\engine\\input_spec.py\u001b[0m in \u001b[0;36massert_input_compatibility\u001b[1;34m(input_spec, inputs, layer_name)\u001b[0m\n\u001b[0;32m    212\u001b[0m       \u001b[0mndim\u001b[0m \u001b[1;33m=\u001b[0m \u001b[0mshape\u001b[0m\u001b[1;33m.\u001b[0m\u001b[0mrank\u001b[0m\u001b[1;33m\u001b[0m\u001b[1;33m\u001b[0m\u001b[0m\n\u001b[0;32m    213\u001b[0m       \u001b[1;32mif\u001b[0m \u001b[0mndim\u001b[0m \u001b[1;33m!=\u001b[0m \u001b[0mspec\u001b[0m\u001b[1;33m.\u001b[0m\u001b[0mndim\u001b[0m\u001b[1;33m:\u001b[0m\u001b[1;33m\u001b[0m\u001b[1;33m\u001b[0m\u001b[0m\n\u001b[1;32m--> 214\u001b[1;33m         raise ValueError(f'Input {input_index} of layer \"{layer_name}\" '\n\u001b[0m\u001b[0;32m    215\u001b[0m                          \u001b[1;34m'is incompatible with the layer: '\u001b[0m\u001b[1;33m\u001b[0m\u001b[1;33m\u001b[0m\u001b[0m\n\u001b[0;32m    216\u001b[0m                          \u001b[1;34mf'expected ndim={spec.ndim}, found ndim={ndim}. '\u001b[0m\u001b[1;33m\u001b[0m\u001b[1;33m\u001b[0m\u001b[0m\n",
      "\u001b[1;31mValueError\u001b[0m: Input 0 of layer \"lstm_32\" is incompatible with the layer: expected ndim=3, found ndim=2. Full shape received: (None, 22)"
     ]
    }
   ],
   "source": [
    "ckpt = keras.callbacks.ModelCheckpoint(\n",
    "        filepath='C:/Users/norma/Desktop/BITIRME/Models/LSTM/best_model.{epoch:02d}-{val_accuracy:.4f}.h5',\n",
    "        monitor='val_accuracy', save_best_only=True,verbose=1)\n",
    "\n",
    "tensorboard = TensorBoard(\n",
    "  log_dir='.\\logs',\n",
    "  histogram_freq=1,\n",
    "  write_images=True\n",
    ")\n",
    "\n",
    "callbacks = [EarlyStopping(monitor='val_accuracy', patience=30, mode='min', min_delta=0.0001),\n",
    "         ckpt, tensorboard]\n",
    "\n",
    "model_225 = build_model(principalDf.shape[1])\n",
    "opt = tf.keras.optimizers.Adam(0.0001)\n",
    "model_225.compile(loss='categorical_crossentropy',\n",
    "            optimizer=opt, metrics=['accuracy'])"
   ]
  },
  {
   "cell_type": "code",
   "execution_count": 65,
   "id": "e26f53ca",
   "metadata": {
    "scrolled": true
   },
   "outputs": [
    {
     "name": "stdout",
     "output_type": "stream",
     "text": [
      "Epoch 1/50\n",
      "29/29 [==============================] - ETA: 0s - loss: 0.6932 - accuracy: 0.4903\n",
      "Epoch 1: val_accuracy improved from -inf to 0.48947, saving model to C:/Users/norma/Desktop/BITIRME/Models/LSTM\\best_model.01-0.4895.h5\n",
      "29/29 [==============================] - 5s 123ms/step - loss: 0.6932 - accuracy: 0.4903 - val_loss: 0.6932 - val_accuracy: 0.4895\n",
      "Epoch 2/50\n",
      "29/29 [==============================] - ETA: 0s - loss: 0.6931 - accuracy: 0.5149\n",
      "Epoch 2: val_accuracy did not improve from 0.48947\n",
      "29/29 [==============================] - 3s 108ms/step - loss: 0.6931 - accuracy: 0.5149 - val_loss: 0.6932 - val_accuracy: 0.4789\n",
      "Epoch 3/50\n",
      "29/29 [==============================] - ETA: 0s - loss: 0.6931 - accuracy: 0.5202\n",
      "Epoch 3: val_accuracy did not improve from 0.48947\n",
      "29/29 [==============================] - 3s 110ms/step - loss: 0.6931 - accuracy: 0.5202 - val_loss: 0.6932 - val_accuracy: 0.4789\n",
      "Epoch 4/50\n",
      "29/29 [==============================] - ETA: 0s - loss: 0.6930 - accuracy: 0.5202\n",
      "Epoch 4: val_accuracy did not improve from 0.48947\n",
      "29/29 [==============================] - 3s 108ms/step - loss: 0.6930 - accuracy: 0.5202 - val_loss: 0.6933 - val_accuracy: 0.4789\n",
      "Epoch 5/50\n",
      "29/29 [==============================] - ETA: 0s - loss: 0.6930 - accuracy: 0.5202\n",
      "Epoch 5: val_accuracy did not improve from 0.48947\n",
      "29/29 [==============================] - 3s 110ms/step - loss: 0.6930 - accuracy: 0.5202 - val_loss: 0.6934 - val_accuracy: 0.4789\n",
      "Epoch 6/50\n",
      "29/29 [==============================] - ETA: 0s - loss: 0.6929 - accuracy: 0.5202\n",
      "Epoch 6: val_accuracy did not improve from 0.48947\n",
      "29/29 [==============================] - 3s 109ms/step - loss: 0.6929 - accuracy: 0.5202 - val_loss: 0.6936 - val_accuracy: 0.4789\n",
      "Epoch 7/50\n",
      "29/29 [==============================] - ETA: 0s - loss: 0.6927 - accuracy: 0.5202\n",
      "Epoch 7: val_accuracy did not improve from 0.48947\n",
      "29/29 [==============================] - 3s 106ms/step - loss: 0.6927 - accuracy: 0.5202 - val_loss: 0.6937 - val_accuracy: 0.4789\n",
      "Epoch 8/50\n",
      "29/29 [==============================] - ETA: 0s - loss: 0.6927 - accuracy: 0.5202\n",
      "Epoch 8: val_accuracy did not improve from 0.48947\n",
      "29/29 [==============================] - 3s 107ms/step - loss: 0.6927 - accuracy: 0.5202 - val_loss: 0.6939 - val_accuracy: 0.4789\n",
      "Epoch 9/50\n",
      "29/29 [==============================] - ETA: 0s - loss: 0.6928 - accuracy: 0.5202\n",
      "Epoch 9: val_accuracy did not improve from 0.48947\n",
      "29/29 [==============================] - 3s 111ms/step - loss: 0.6928 - accuracy: 0.5202 - val_loss: 0.6938 - val_accuracy: 0.4789\n",
      "Epoch 10/50\n",
      "29/29 [==============================] - ETA: 0s - loss: 0.6928 - accuracy: 0.5202\n",
      "Epoch 10: val_accuracy did not improve from 0.48947\n",
      "29/29 [==============================] - 3s 108ms/step - loss: 0.6928 - accuracy: 0.5202 - val_loss: 0.6946 - val_accuracy: 0.4789\n",
      "Epoch 11/50\n",
      "29/29 [==============================] - ETA: 0s - loss: 0.6925 - accuracy: 0.5202\n",
      "Epoch 11: val_accuracy did not improve from 0.48947\n",
      "29/29 [==============================] - 3s 109ms/step - loss: 0.6925 - accuracy: 0.5202 - val_loss: 0.6944 - val_accuracy: 0.4789\n",
      "Epoch 12/50\n",
      "29/29 [==============================] - ETA: 0s - loss: 0.6926 - accuracy: 0.5202\n",
      "Epoch 12: val_accuracy did not improve from 0.48947\n",
      "29/29 [==============================] - 3s 108ms/step - loss: 0.6926 - accuracy: 0.5202 - val_loss: 0.6945 - val_accuracy: 0.4789\n",
      "Epoch 13/50\n",
      "29/29 [==============================] - ETA: 0s - loss: 0.6925 - accuracy: 0.5202\n",
      "Epoch 13: val_accuracy did not improve from 0.48947\n",
      "29/29 [==============================] - 3s 112ms/step - loss: 0.6925 - accuracy: 0.5202 - val_loss: 0.6944 - val_accuracy: 0.4789\n",
      "Epoch 14/50\n",
      "29/29 [==============================] - ETA: 0s - loss: 0.6924 - accuracy: 0.5202\n",
      "Epoch 14: val_accuracy did not improve from 0.48947\n",
      "29/29 [==============================] - 3s 113ms/step - loss: 0.6924 - accuracy: 0.5202 - val_loss: 0.6947 - val_accuracy: 0.4789\n",
      "Epoch 15/50\n",
      "29/29 [==============================] - ETA: 0s - loss: 0.6924 - accuracy: 0.5202\n",
      "Epoch 15: val_accuracy did not improve from 0.48947\n",
      "29/29 [==============================] - 3s 111ms/step - loss: 0.6924 - accuracy: 0.5202 - val_loss: 0.6949 - val_accuracy: 0.4789\n",
      "Epoch 16/50\n",
      "29/29 [==============================] - ETA: 0s - loss: 0.6925 - accuracy: 0.5202\n",
      "Epoch 16: val_accuracy did not improve from 0.48947\n",
      "29/29 [==============================] - 3s 116ms/step - loss: 0.6925 - accuracy: 0.5202 - val_loss: 0.6954 - val_accuracy: 0.4789\n",
      "Epoch 17/50\n",
      "29/29 [==============================] - ETA: 0s - loss: 0.6924 - accuracy: 0.5202\n",
      "Epoch 17: val_accuracy did not improve from 0.48947\n",
      "29/29 [==============================] - 3s 112ms/step - loss: 0.6924 - accuracy: 0.5202 - val_loss: 0.6952 - val_accuracy: 0.4789\n",
      "Epoch 18/50\n",
      "29/29 [==============================] - ETA: 0s - loss: 0.6925 - accuracy: 0.5202\n",
      "Epoch 18: val_accuracy did not improve from 0.48947\n",
      "29/29 [==============================] - 3s 112ms/step - loss: 0.6925 - accuracy: 0.5202 - val_loss: 0.6947 - val_accuracy: 0.4789\n",
      "Epoch 19/50\n",
      "29/29 [==============================] - ETA: 0s - loss: 0.6922 - accuracy: 0.5202\n",
      "Epoch 19: val_accuracy did not improve from 0.48947\n",
      "29/29 [==============================] - 3s 112ms/step - loss: 0.6922 - accuracy: 0.5202 - val_loss: 0.6951 - val_accuracy: 0.4789\n",
      "Epoch 20/50\n",
      "29/29 [==============================] - ETA: 0s - loss: 0.6923 - accuracy: 0.5202\n",
      "Epoch 20: val_accuracy did not improve from 0.48947\n",
      "29/29 [==============================] - 3s 111ms/step - loss: 0.6923 - accuracy: 0.5202 - val_loss: 0.6956 - val_accuracy: 0.4789\n",
      "Epoch 21/50\n",
      "29/29 [==============================] - ETA: 0s - loss: 0.6923 - accuracy: 0.5202\n",
      "Epoch 21: val_accuracy did not improve from 0.48947\n",
      "29/29 [==============================] - 3s 114ms/step - loss: 0.6923 - accuracy: 0.5202 - val_loss: 0.6953 - val_accuracy: 0.4789\n",
      "Epoch 22/50\n",
      "29/29 [==============================] - ETA: 0s - loss: 0.6924 - accuracy: 0.5202\n",
      "Epoch 22: val_accuracy did not improve from 0.48947\n",
      "29/29 [==============================] - 3s 108ms/step - loss: 0.6924 - accuracy: 0.5202 - val_loss: 0.6954 - val_accuracy: 0.4789\n",
      "Epoch 23/50\n",
      "29/29 [==============================] - ETA: 0s - loss: 0.6923 - accuracy: 0.5202\n",
      "Epoch 23: val_accuracy did not improve from 0.48947\n",
      "29/29 [==============================] - 3s 117ms/step - loss: 0.6923 - accuracy: 0.5202 - val_loss: 0.6956 - val_accuracy: 0.4789\n",
      "Epoch 24/50\n",
      "29/29 [==============================] - ETA: 0s - loss: 0.6922 - accuracy: 0.5202\n",
      "Epoch 24: val_accuracy did not improve from 0.48947\n",
      "29/29 [==============================] - 3s 111ms/step - loss: 0.6922 - accuracy: 0.5202 - val_loss: 0.6954 - val_accuracy: 0.4789\n",
      "Epoch 25/50\n",
      "29/29 [==============================] - ETA: 0s - loss: 0.6923 - accuracy: 0.5202\n",
      "Epoch 25: val_accuracy did not improve from 0.48947\n",
      "29/29 [==============================] - 3s 111ms/step - loss: 0.6923 - accuracy: 0.5202 - val_loss: 0.6957 - val_accuracy: 0.4789\n",
      "Epoch 26/50\n",
      "29/29 [==============================] - ETA: 0s - loss: 0.6923 - accuracy: 0.5202\n",
      "Epoch 26: val_accuracy did not improve from 0.48947\n",
      "29/29 [==============================] - 3s 113ms/step - loss: 0.6923 - accuracy: 0.5202 - val_loss: 0.6955 - val_accuracy: 0.4789\n",
      "Epoch 27/50\n",
      "29/29 [==============================] - ETA: 0s - loss: 0.6922 - accuracy: 0.5202\n",
      "Epoch 27: val_accuracy did not improve from 0.48947\n",
      "29/29 [==============================] - 3s 111ms/step - loss: 0.6922 - accuracy: 0.5202 - val_loss: 0.6956 - val_accuracy: 0.4789\n",
      "Epoch 28/50\n",
      "29/29 [==============================] - ETA: 0s - loss: 0.6922 - accuracy: 0.5202\n",
      "Epoch 28: val_accuracy did not improve from 0.48947\n",
      "29/29 [==============================] - 3s 111ms/step - loss: 0.6922 - accuracy: 0.5202 - val_loss: 0.6957 - val_accuracy: 0.4789\n",
      "Epoch 29/50\n",
      "29/29 [==============================] - ETA: 0s - loss: 0.6922 - accuracy: 0.5202\n",
      "Epoch 29: val_accuracy did not improve from 0.48947\n",
      "29/29 [==============================] - 3s 111ms/step - loss: 0.6922 - accuracy: 0.5202 - val_loss: 0.6954 - val_accuracy: 0.4789\n",
      "Epoch 30/50\n"
     ]
    },
    {
     "name": "stdout",
     "output_type": "stream",
     "text": [
      "29/29 [==============================] - ETA: 0s - loss: 0.6922 - accuracy: 0.5202\n",
      "Epoch 30: val_accuracy did not improve from 0.48947\n",
      "29/29 [==============================] - 3s 112ms/step - loss: 0.6922 - accuracy: 0.5202 - val_loss: 0.6955 - val_accuracy: 0.4789\n",
      "Epoch 31/50\n",
      "29/29 [==============================] - ETA: 0s - loss: 0.6922 - accuracy: 0.5202\n",
      "Epoch 31: val_accuracy did not improve from 0.48947\n",
      "29/29 [==============================] - 3s 111ms/step - loss: 0.6922 - accuracy: 0.5202 - val_loss: 0.6959 - val_accuracy: 0.4789\n",
      "Epoch 32/50\n",
      "29/29 [==============================] - ETA: 0s - loss: 0.6921 - accuracy: 0.5202\n",
      "Epoch 32: val_accuracy did not improve from 0.48947\n",
      "29/29 [==============================] - 3s 112ms/step - loss: 0.6921 - accuracy: 0.5202 - val_loss: 0.6957 - val_accuracy: 0.4789\n"
     ]
    }
   ],
   "source": [
    "history_225 = model_225.fit(\n",
    "      x= x_train_225,\n",
    "      y = y_train_225,\n",
    "      steps_per_epoch=len(principalDf)//Batch_size,\n",
    "      validation_data=(x_val_225, y_val_225),\n",
    "      epochs=50,\n",
    "      callbacks=[callbacks]\n",
    "      )\n",
    "\n",
    "y_pred_225 = model_225.predict(x_test_225)\n",
    "y_pred_225 = np.argmax(y_pred_225, axis=1)\n",
    "\n",
    "class_d = 'C:/Users/norma/Desktop/BITIRME/(Mcisiz)GSE_OrtakData_NormR.csv'\n",
    "class_df = pd.read_csv(class_d, sep = ';', decimal = ',')\n",
    "class_df = class_df[class_df.Class != 2]\n",
    "\n",
    "#creating instance of one-hot-encoder\n",
    "encoder = OneHotEncoder(handle_unknown='ignore')\n",
    "\n",
    "#perform one-hot encoding on 'team' column \n",
    "encoder_df = pd.DataFrame(encoder.fit_transform(class_df[['Class']]).toarray())\n",
    "encoder_df.columns = ['AD','CTL']\n",
    "\n",
    "y_test_n225_ = encoder.inverse_transform(y_test_225).ravel()"
   ]
  },
  {
   "cell_type": "code",
   "execution_count": 18,
   "id": "e8683ebd",
   "metadata": {},
   "outputs": [
    {
     "name": "stdout",
     "output_type": "stream",
     "text": [
      "0.5\n"
     ]
    }
   ],
   "source": [
    "print(accuracy_score(y_test_n225_,y_pred_225))"
   ]
  },
  {
   "cell_type": "code",
   "execution_count": 19,
   "id": "d32819b3",
   "metadata": {},
   "outputs": [
    {
     "name": "stderr",
     "output_type": "stream",
     "text": [
      "C:\\ProgramData\\Anaconda3\\lib\\site-packages\\sklearn\\metrics\\_classification.py:1318: UndefinedMetricWarning: Precision and F-score are ill-defined and being set to 0.0 in labels with no predicted samples. Use `zero_division` parameter to control this behavior.\n",
      "  _warn_prf(average, modifier, msg_start, len(result))\n",
      "C:\\ProgramData\\Anaconda3\\lib\\site-packages\\sklearn\\metrics\\_classification.py:1318: UndefinedMetricWarning: Precision and F-score are ill-defined and being set to 0.0 in labels with no predicted samples. Use `zero_division` parameter to control this behavior.\n",
      "  _warn_prf(average, modifier, msg_start, len(result))\n",
      "C:\\ProgramData\\Anaconda3\\lib\\site-packages\\sklearn\\metrics\\_classification.py:1318: UndefinedMetricWarning: Precision and F-score are ill-defined and being set to 0.0 in labels with no predicted samples. Use `zero_division` parameter to control this behavior.\n",
      "  _warn_prf(average, modifier, msg_start, len(result))\n"
     ]
    },
    {
     "name": "stdout",
     "output_type": "stream",
     "text": [
      "Classification report : \n",
      "               precision    recall  f1-score   support\n",
      "\n",
      "           1       0.00      0.00      0.00        95\n",
      "           0       0.50      1.00      0.67        95\n",
      "\n",
      "    accuracy                           0.50       190\n",
      "   macro avg       0.25      0.50      0.33       190\n",
      "weighted avg       0.25      0.50      0.33       190\n",
      "\n"
     ]
    },
    {
     "data": {
      "image/png": "[encoded data removed]",
      "text/plain": [
       "<Figure size 432x288 with 2 Axes>"
      ]
     },
     "metadata": {
      "needs_background": "light"
     },
     "output_type": "display_data"
    }
   ],
   "source": [
    "# classification report for precision, recall f1-score and accuracy\n",
    "matrix = classification_report(y_test_n225_,y_pred_225,labels=[1,0])\n",
    "print('Classification report : \\n',matrix)\n",
    "\n",
    "labels_ = [1,0]\n",
    "ax= plt.subplot()\n",
    "\n",
    "# confusion matrix\n",
    "matrix = confusion_matrix(\n",
    "    y_test_n225_, y_pred_225)\n",
    "\n",
    "sns.heatmap(matrix, annot=True, fmt='g', ax=ax);  #annot=True to annotate cells, ftm='g' to disable scientific notation\n",
    "\n",
    "# labels, title and ticks\n",
    "ax.set_xlabel('Predicted labels');ax.set_ylabel('True labels'); \n",
    "ax.set_title('Confusion Matrix'); \n",
    "ax.xaxis.set_ticklabels(labels); ax.yaxis.set_ticklabels(labels_);"
   ]
  },
  {
   "cell_type": "code",
   "execution_count": null,
   "id": "5c42a5c4",
   "metadata": {},
   "outputs": [],
   "source": []
  }
 ],
 "metadata": {
  "kernelspec": {
   "display_name": "Python 3 (ipykernel)",
   "language": "python",
   "name": "python3"
  },
  "language_info": {
   "codemirror_mode": {
    "name": "ipython",
    "version": 3
   },
   "file_extension": ".py",
   "mimetype": "text/x-python",
   "name": "python",
   "nbconvert_exporter": "python",
   "pygments_lexer": "ipython3",
   "version": "3.9.7"
  }
 },
 "nbformat": 4,
 "nbformat_minor": 5
}
