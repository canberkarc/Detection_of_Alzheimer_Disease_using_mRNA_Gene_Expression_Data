{
 "cells": [
  {
   "cell_type": "code",
   "execution_count": 1,
   "id": "292aeac3",
   "metadata": {},
   "outputs": [],
   "source": [
    "from tensorflow import keras\n",
    "import matplotlib.pyplot as plt\n",
    "import numpy as np\n",
    "import pandas as pd\n",
    "from keras.layers import *\n",
    "from keras.models import *\n",
    "from keras.optimizers import *\n",
    "from sklearn.decomposition import PCA\n",
    "from sklearn.compose import make_column_transformer\n",
    "from sklearn.preprocessing import OneHotEncoder\n",
    "from sklearn.metrics import accuracy_score\n",
    "from sklearn.model_selection import train_test_split\n",
    "from tensorflow.keras.callbacks import EarlyStopping, ModelCheckpoint, TensorBoard\n",
    "from sklearn.metrics import plot_confusion_matrix, confusion_matrix, classification_report\n",
    "from tensorflow.python.keras.optimizer_v2.adam import Adam\n",
    "import seaborn as sns"
   ]
  },
  {
   "cell_type": "code",
   "execution_count": 2,
   "id": "c2dabbff",
   "metadata": {},
   "outputs": [],
   "source": [
    "from keras.backend import manual_variable_initialization\n",
    "\n",
    "manual_variable_initialization(True)"
   ]
  },
  {
   "cell_type": "markdown",
   "id": "393456b0",
   "metadata": {},
   "source": [
    "# Used CSV Files in This Notebook Can Be Reached Via The Link Given Below\n",
    "https://drive.google.com/drive/folders/1LJBghznfrr3SfxHZ8sUenAc6pdhb5vKK?usp=sharing"
   ]
  },
  {
   "cell_type": "markdown",
   "id": "8ed60150",
   "metadata": {},
   "source": [
    "# READ DATASET"
   ]
  },
  {
   "cell_type": "code",
   "execution_count": 3,
   "id": "20232eda",
   "metadata": {},
   "outputs": [],
   "source": [
    "df = pd.read_csv('C:/Users/norma/Desktop/BİTİRME/BITIRME/Without_MCI_GSE_OrtakData_NormR.csv', sep = \";\", decimal=\",\")\n",
    "# Keeping only 2 classes which are AD and CTL\n",
    "df = df[df.Class != 2]"
   ]
  },
  {
   "cell_type": "code",
   "execution_count": 4,
   "id": "ad961e9c",
   "metadata": {},
   "outputs": [],
   "source": [
    "features = df.drop('Class',axis=1)\n",
    "labels_dr = 'C:/Users/norma/Desktop/BİTİRME/BITIRME/OneHotEncoded_Labels.csv'\n",
    "labels_df = pd.read_csv(labels_dr, sep = ',')\n",
    "labels = labels_df.iloc[:949,:2]"
   ]
  },
  {
   "cell_type": "markdown",
   "id": "d39e49d9",
   "metadata": {},
   "source": [
    "# PCA"
   ]
  },
  {
   "cell_type": "code",
   "execution_count": 5,
   "id": "bbb4b27b",
   "metadata": {},
   "outputs": [],
   "source": [
    "n_components = 225\n",
    "pca = PCA(n_components = n_components).fit(features)\n",
    "principalComponents = pca.fit_transform(features)\n",
    "columns = ['Pc' + str(i) for i in range(1,n_components+1)]\n",
    "principalDf = pd.DataFrame(data = principalComponents\n",
    "             , columns = columns)"
   ]
  },
  {
   "cell_type": "code",
   "execution_count": 6,
   "id": "1e376f91",
   "metadata": {},
   "outputs": [],
   "source": [
    "x_train, x_test, y_train, y_test = train_test_split(principalDf, labels, test_size= 0.22, random_state = 41)"
   ]
  },
  {
   "cell_type": "code",
   "execution_count": 7,
   "id": "d50f287d",
   "metadata": {},
   "outputs": [],
   "source": [
    "y_train = y_train.astype(int)\n",
    "y_test = y_test.astype(int)"
   ]
  },
  {
   "cell_type": "markdown",
   "id": "569f3028",
   "metadata": {},
   "source": [
    "## MODEL"
   ]
  },
  {
   "cell_type": "code",
   "execution_count": 8,
   "id": "8d8aa9a5",
   "metadata": {},
   "outputs": [],
   "source": [
    "opt = tf.keras.optimizers.Adam(0.0001)"
   ]
  },
  {
   "cell_type": "code",
   "execution_count": 9,
   "id": "bfd8c7c2",
   "metadata": {},
   "outputs": [],
   "source": [
    "input_dim = principalDf.shape[1]\n",
    "\n",
    "def build_model(optimizer=opt, init_mode='he_uniform'):\n",
    "    model = Sequential()\n",
    "    model.add(Dense(64, input_dim=input_dim, kernel_initializer=init_mode, activation='relu'))\n",
    "    model.add(Dropout(0.1))\n",
    "    model.add(Dense(64, kernel_initializer=init_mode, activation='relu'))\n",
    "    model.add(Dense(128, kernel_initializer=init_mode, activation='relu'))\n",
    "    model.add(Dense(128, kernel_initializer=init_mode, activation='relu'))\n",
    "    model.add(Dense(256, kernel_initializer=init_mode, activation='relu'))\n",
    "    model.add(Dense(256, kernel_initializer=init_mode, activation='relu'))\n",
    "    model.add(Dense(512, kernel_initializer=init_mode, activation='relu'))\n",
    "    model.add(Dense(512, kernel_initializer=init_mode, activation='relu'))\n",
    "    model.add(Dropout(0.1))\n",
    "    model.add(Dense(256, kernel_initializer=init_mode, activation='relu'))\n",
    "    model.add(Dropout(0.1))\n",
    "    model.add(Dense(256, kernel_initializer=init_mode, activation='relu'))\n",
    "    model.add(Dropout(0.1))\n",
    "    model.add(Dense(128, kernel_initializer=init_mode, activation='relu'))\n",
    "    model.add(Dropout(0.1))\n",
    "    model.add(Dense(128, kernel_initializer=init_mode, activation='relu'))\n",
    "    model.add(Dense(64, kernel_initializer=init_mode, activation='relu'))\n",
    "    model.add(Dense(64, kernel_initializer=init_mode, activation='relu'))\n",
    "    model.add(Dense(32, kernel_initializer=init_mode, activation='relu'))\n",
    "    model.add(Dense(32, kernel_initializer=init_mode, activation='relu'))\n",
    "    model.add(Dense(2, kernel_initializer=init_mode, activation='softmax'))\n",
    "\n",
    "    # compile model\n",
    "    model.compile(loss='categorical_crossentropy', \n",
    "                  optimizer='adam', \n",
    "                  metrics=['categorical_accuracy'])\n",
    "\n",
    "    return model"
   ]
  },
  {
   "cell_type": "code",
   "execution_count": 10,
   "id": "110217c1",
   "metadata": {
    "scrolled": true
   },
   "outputs": [
    {
     "name": "stdout",
     "output_type": "stream",
     "text": [
      "Epoch 1/10\n",
      "29/29 [==============================] - 1s 18ms/step - loss: 0.7298 - categorical_accuracy: 0.5203 - val_loss: 0.6901 - val_categorical_accuracy: 0.6029\n",
      "\n",
      "Epoch 00001: val_categorical_accuracy improved from -inf to 0.60287, saving model to C:/Users/norma/Desktop/BITIRME/Models/MLP\\best_model.01-0.6029.h5\n",
      "Epoch 2/10\n",
      "29/29 [==============================] - 0s 10ms/step - loss: 0.7114 - categorical_accuracy: 0.4689 - val_loss: 0.6970 - val_categorical_accuracy: 0.4163\n",
      "\n",
      "Epoch 00002: val_categorical_accuracy did not improve from 0.60287\n",
      "Epoch 3/10\n",
      "29/29 [==============================] - 0s 11ms/step - loss: 0.6874 - categorical_accuracy: 0.5378 - val_loss: 0.7248 - val_categorical_accuracy: 0.4163\n",
      "\n",
      "Epoch 00003: val_categorical_accuracy did not improve from 0.60287\n",
      "Epoch 4/10\n",
      "29/29 [==============================] - 0s 10ms/step - loss: 0.6820 - categorical_accuracy: 0.5365 - val_loss: 0.6759 - val_categorical_accuracy: 0.6411\n",
      "\n",
      "Epoch 00004: val_categorical_accuracy improved from 0.60287 to 0.64115, saving model to C:/Users/norma/Desktop/BITIRME/Models/MLP\\best_model.04-0.6411.h5\n",
      "Epoch 5/10\n",
      "29/29 [==============================] - 0s 11ms/step - loss: 0.6845 - categorical_accuracy: 0.5797 - val_loss: 0.7042 - val_categorical_accuracy: 0.4306\n",
      "\n",
      "Epoch 00005: val_categorical_accuracy did not improve from 0.64115\n",
      "Epoch 6/10\n",
      "29/29 [==============================] - 0s 10ms/step - loss: 0.6649 - categorical_accuracy: 0.5851 - val_loss: 0.7210 - val_categorical_accuracy: 0.5837\n",
      "\n",
      "Epoch 00006: val_categorical_accuracy did not improve from 0.64115\n",
      "Epoch 7/10\n",
      "29/29 [==============================] - 0s 10ms/step - loss: 0.6190 - categorical_accuracy: 0.6486 - val_loss: 0.6244 - val_categorical_accuracy: 0.6842\n",
      "\n",
      "Epoch 00007: val_categorical_accuracy improved from 0.64115 to 0.68421, saving model to C:/Users/norma/Desktop/BITIRME/Models/MLP\\best_model.07-0.6842.h5\n",
      "Epoch 8/10\n",
      "29/29 [==============================] - 0s 10ms/step - loss: 0.5851 - categorical_accuracy: 0.6892 - val_loss: 0.6247 - val_categorical_accuracy: 0.5933\n",
      "\n",
      "Epoch 00008: val_categorical_accuracy did not improve from 0.68421\n",
      "Epoch 9/10\n",
      "29/29 [==============================] - 0s 11ms/step - loss: 0.5489 - categorical_accuracy: 0.7365 - val_loss: 0.6151 - val_categorical_accuracy: 0.6938\n",
      "\n",
      "Epoch 00009: val_categorical_accuracy improved from 0.68421 to 0.69378, saving model to C:/Users/norma/Desktop/BITIRME/Models/MLP\\best_model.09-0.6938.h5\n",
      "Epoch 10/10\n",
      "29/29 [==============================] - 0s 11ms/step - loss: 0.4958 - categorical_accuracy: 0.7595 - val_loss: 0.6674 - val_categorical_accuracy: 0.6746\n",
      "\n",
      "Epoch 00010: val_categorical_accuracy did not improve from 0.69378\n"
     ]
    }
   ],
   "source": [
    "ckpt = keras.callbacks.ModelCheckpoint(\n",
    "        filepath='C:/Users/norma/Desktop/BITIRME/Models/MLP/best_model.{epoch:02d}-{val_categorical_accuracy:.4f}.h5',\n",
    "        monitor='val_categorical_accuracy', save_best_only=True,verbose=1)\n",
    "\n",
    "callbacks = [EarlyStopping(monitor='val_categorical_accuracy', patience=4, mode='auto', verbose=1, min_delta=0.0001),\n",
    "         ckpt]\n",
    "\n",
    "model = build_model(principalDf.shape[1])\n",
    "history = model.fit(\n",
    "          x = np.asarray(x_train).astype('float32'),\n",
    "          y = y_train,\n",
    "          steps_per_epoch=len(principalDf)//32,\n",
    "          validation_data=(x_test, y_test),\n",
    "          epochs=10,\n",
    "          callbacks=[callbacks]\n",
    "          )"
   ]
  },
  {
   "cell_type": "code",
   "execution_count": 11,
   "id": "04e57d21",
   "metadata": {},
   "outputs": [],
   "source": [
    "y_pred = model.predict(x_test)\n",
    "y_pred_ = np.argmax(y_pred, axis=1)\n",
    "\n",
    "class_d = 'C:/Users/norma/Desktop/BİTİRME/BITIRME/LabelEncoded_GSE_OrtakData_NormR.csv'\n",
    "class_df = pd.read_csv(class_d, sep = ';', decimal = ',')\n",
    "class_df = class_df[class_df.Class != 2]\n",
    "#creating instance of one-hot-encoder\n",
    "encoder = OneHotEncoder(handle_unknown='ignore')\n",
    "\n",
    "encoder_df = pd.DataFrame(encoder.fit_transform(class_df[['Class']]).toarray())\n",
    "encoder_df.columns = ['AD','CTL']\n",
    "\n",
    "y_test_encoded = encoder.inverse_transform(y_test).ravel()"
   ]
  },
  {
   "cell_type": "code",
   "execution_count": 12,
   "id": "3543cd7a",
   "metadata": {},
   "outputs": [
    {
     "name": "stdout",
     "output_type": "stream",
     "text": [
      "Classification report : \n",
      "               precision    recall  f1-score   support\n",
      "\n",
      "           1       0.85      0.54      0.66       122\n",
      "           0       0.57      0.86      0.69        87\n",
      "\n",
      "    accuracy                           0.67       209\n",
      "   macro avg       0.71      0.70      0.67       209\n",
      "weighted avg       0.73      0.67      0.67       209\n",
      "\n"
     ]
    },
    {
     "data": {
      "image/png": "[encoded data removed]",
      "text/plain": [
       "<Figure size 432x288 with 2 Axes>"
      ]
     },
     "metadata": {
      "needs_background": "light"
     },
     "output_type": "display_data"
    }
   ],
   "source": [
    "# classification report for precision, recall f1-score and accuracy\n",
    "matrix = classification_report(y_test_encoded,y_pred_,labels=[1,0])\n",
    "print('Classification report : \\n',matrix)\n",
    "\n",
    "labels = ['AD','CTL']\n",
    "ax= plt.subplot()\n",
    "\n",
    "# confusion matrix\n",
    "matrix = confusion_matrix(\n",
    "    y_test_encoded, y_pred_)\n",
    "\n",
    "sns.heatmap(matrix, annot=True, fmt='g', ax=ax);  #annot=True to annotate cells, ftm='g' to disable scientific notation\n",
    "\n",
    "# labels, title and ticks\n",
    "ax.set_xlabel('Predicted labels');ax.set_ylabel('True labels');\n",
    "ax.set_title('Confusion Matrix'); \n",
    "ax.xaxis.set_ticklabels(labels); ax.yaxis.set_ticklabels(labels);"
   ]
  },
  {
   "cell_type": "code",
   "execution_count": 13,
   "id": "6fcce83d",
   "metadata": {
    "scrolled": true
   },
   "outputs": [
    {
     "name": "stdout",
     "output_type": "stream",
     "text": [
      "\n",
      "\n",
      "dict_keys(['loss', 'categorical_accuracy', 'val_loss', 'val_categorical_accuracy'])\n"
     ]
    },
    {
     "data": {
      "image/png": "[encoded data removed]",
      "text/plain": [
       "<Figure size 432x288 with 1 Axes>"
      ]
     },
     "metadata": {
      "needs_background": "light"
     },
     "output_type": "display_data"
    },
    {
     "data": {
      "image/png": "[encoded data removed]",
      "text/plain": [
       "<Figure size 432x288 with 1 Axes>"
      ]
     },
     "metadata": {
      "needs_background": "light"
     },
     "output_type": "display_data"
    }
   ],
   "source": [
    "print(\"\\n\")\n",
    "print(history.history.keys())\n",
    "\n",
    "# summarize history for accuracy\n",
    "plt.plot(history.history['categorical_accuracy'])\n",
    "plt.plot(history.history['val_categorical_accuracy'])\n",
    "plt.title('model accuracy')\n",
    "plt.ylabel('accuracy')\n",
    "plt.xlabel('epoch')\n",
    "plt.legend(['train', 'test'], loc='upper left')\n",
    "plt.show()\n",
    "\n",
    "# summarize history for loss\n",
    "plt.plot(history.history['loss'])\n",
    "plt.plot(history.history['val_loss'])\n",
    "plt.title('model loss')\n",
    "plt.ylabel('loss')\n",
    "plt.xlabel('epoch')\n",
    "plt.legend(['train', 'test'], loc='upper left')\n",
    "plt.show()"
   ]
  },
  {
   "cell_type": "markdown",
   "id": "5ffc4013",
   "metadata": {},
   "source": [
    "# AUC - ROC"
   ]
  },
  {
   "cell_type": "code",
   "execution_count": 14,
   "id": "ce4a8d20",
   "metadata": {},
   "outputs": [
    {
     "data": {
      "image/png": "[encoded data removed]",
      "text/plain": [
       "<Figure size 500x500 with 1 Axes>"
      ]
     },
     "metadata": {
      "needs_background": "light"
     },
     "output_type": "display_data"
    }
   ],
   "source": [
    "from sklearn.metrics import roc_curve, auc\n",
    "\n",
    "fpr, tpr, threshold = roc_curve(y_test_encoded, y_pred[:,1])\n",
    "auc_mlp = auc(fpr,tpr)\n",
    "\n",
    "plt.figure(figsize=(5,5), dpi=100)\n",
    "plt.plot(fpr, tpr, linestyle = '-', label = 'MLP (auc = %0.3f)' % auc_mlp)\n",
    "\n",
    "plt.xlabel('False Positive Rate -->')\n",
    "plt.ylabel('True Positive Rate -->')\n",
    "plt.legend()\n",
    "plt.show()"
   ]
  },
  {
   "cell_type": "markdown",
   "id": "358108db",
   "metadata": {},
   "source": [
    "# Model Save"
   ]
  },
  {
   "cell_type": "code",
   "execution_count": 15,
   "id": "0a004035",
   "metadata": {},
   "outputs": [],
   "source": [
    "model.save(\"C:/Users/norma/Desktop/src/MLP.h5\")"
   ]
  },
  {
   "cell_type": "markdown",
   "id": "151dbe95",
   "metadata": {},
   "source": [
    "# Load Model"
   ]
  },
  {
   "cell_type": "code",
   "execution_count": 20,
   "id": "51e29587",
   "metadata": {},
   "outputs": [],
   "source": [
    "mlp_model = tf.keras.models.load_model(\"C:/Users/norma/Desktop/src/MLP.h5\")"
   ]
  },
  {
   "cell_type": "code",
   "execution_count": 21,
   "id": "c3669410",
   "metadata": {},
   "outputs": [],
   "source": [
    "y_pred_load = mlp_model.predict(x_test)"
   ]
  },
  {
   "cell_type": "code",
   "execution_count": 22,
   "id": "256d8d33",
   "metadata": {},
   "outputs": [
    {
     "data": {
      "image/png": "[encoded data removed]",
      "text/plain": [
       "<Figure size 500x500 with 1 Axes>"
      ]
     },
     "metadata": {
      "needs_background": "light"
     },
     "output_type": "display_data"
    }
   ],
   "source": [
    "from sklearn.metrics import roc_curve, auc\n",
    "\n",
    "fpr, tpr, threshold = roc_curve(y_test_encoded, y_pred_load[:,1])\n",
    "auc_mlp = auc(fpr,tpr)\n",
    "\n",
    "plt.figure(figsize=(5,5), dpi=100)\n",
    "plt.plot(fpr, tpr, linestyle = '-', label = 'MLP (auc = %0.3f)' % auc_mlp)\n",
    "\n",
    "plt.xlabel('False Positive Rate -->')\n",
    "plt.ylabel('True Positive Rate -->')\n",
    "plt.legend()\n",
    "plt.show()"
   ]
  },
  {
   "cell_type": "code",
   "execution_count": null,
   "id": "a226b18d",
   "metadata": {},
   "outputs": [],
   "source": []
  }
 ],
 "metadata": {
  "kernelspec": {
   "display_name": "Python 3 (ipykernel)",
   "language": "python",
   "name": "python3"
  },
  "language_info": {
   "codemirror_mode": {
    "name": "ipython",
    "version": 3
   },
   "file_extension": ".py",
   "mimetype": "text/x-python",
   "name": "python",
   "nbconvert_exporter": "python",
   "pygments_lexer": "ipython3",
   "version": "3.9.7"
  }
 },
 "nbformat": 4,
 "nbformat_minor": 5
}
