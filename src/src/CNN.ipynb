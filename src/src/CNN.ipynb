{
 "cells": [
  {
   "cell_type": "code",
   "execution_count": 1,
   "id": "04d06235",
   "metadata": {},
   "outputs": [],
   "source": [
    "import keras\n",
    "import matplotlib.pyplot as plt\n",
    "import numpy as np\n",
    "import pandas as pd\n",
    "from keras.layers import *\n",
    "from keras.models import *\n",
    "from keras.optimizers import *\n",
    "from sklearn.decomposition import PCA\n",
    "from sklearn.compose import make_column_transformer\n",
    "from sklearn.preprocessing import OneHotEncoder\n",
    "from sklearn.metrics import accuracy_score, roc_auc_score\n",
    "from sklearn.model_selection import train_test_split\n",
    "from tensorflow.keras.callbacks import EarlyStopping, ModelCheckpoint, TensorBoard\n",
    "from sklearn.metrics import plot_confusion_matrix, confusion_matrix, classification_report\n",
    "import seaborn as sns\n",
    "from sklearn import metrics\n",
    "import joblib"
   ]
  },
  {
   "cell_type": "code",
   "execution_count": 2,
   "id": "35fa3a33",
   "metadata": {},
   "outputs": [
    {
     "name": "stdout",
     "output_type": "stream",
     "text": [
      "(1262, 11619)\n"
     ]
    },
    {
     "data": {
      "text/plain": [
       "(949, 11619)"
      ]
     },
     "execution_count": 2,
     "metadata": {},
     "output_type": "execute_result"
    }
   ],
   "source": [
    "df = pd.read_csv('C:/Users/norma/Desktop/BITIRME/Without_MCI_GSE_OrtakData_NormR.csv', sep = \";\", decimal=\",\")\n",
    "print(df.shape)\n",
    "df = df[df.Class != 2]\n",
    "df.shape"
   ]
  },
  {
   "cell_type": "code",
   "execution_count": 4,
   "id": "b7dc8bbf",
   "metadata": {},
   "outputs": [],
   "source": [
    "features = df.drop('Class',axis=1)\n",
    "labels_dr = 'C:/Users/norma/Desktop/BITIRME/OneHotEncoded_Labels.csv'\n",
    "labels_df = pd.read_csv(labels_dr, sep = ',')\n",
    "labels = labels_df.iloc[:949,:2]"
   ]
  },
  {
   "cell_type": "markdown",
   "id": "e68bf983",
   "metadata": {},
   "source": [
    "# PCA"
   ]
  },
  {
   "cell_type": "code",
   "execution_count": 7,
   "id": "e7a19757",
   "metadata": {},
   "outputs": [],
   "source": [
    "n_components = 225\n",
    "pca = PCA(n_components = n_components).fit(features)\n",
    "principalComponents = pca.fit_transform(features)\n",
    "columns = ['Pc' + str(i) for i in range(1,n_components+1)]\n",
    "principalDf = pd.DataFrame(data = principalComponents\n",
    "             , columns = columns)"
   ]
  },
  {
   "cell_type": "markdown",
   "id": "bebb6fa9",
   "metadata": {},
   "source": [
    "# CNN ARCHITECTURE"
   ]
  },
  {
   "cell_type": "code",
   "execution_count": 9,
   "id": "b6f9394e",
   "metadata": {},
   "outputs": [],
   "source": [
    "Batch_size = 32\n",
    "def build_model(TIME_PERIODS):\n",
    "    input_shape=(TIME_PERIODS,)\n",
    "    model = Sequential()\n",
    "    model.add(keras.Input(shape=(TIME_PERIODS,1)))\n",
    "    model.add(Conv1D(512, 2,strides=2,input_shape=(TIME_PERIODS,1)))\n",
    "    model.add(Activation('relu'))\n",
    "    model.add(Conv1D(512, 2,strides=2, kernel_initializer='glorot_uniform', padding=\"same\"))\n",
    "    model.add(Activation('relu'))\n",
    "    \n",
    "    model.add(Conv1D(256, 2,strides=2, kernel_initializer='glorot_uniform', padding=\"same\"))\n",
    "    model.add(Activation('relu'))\n",
    "    model.add(Conv1D(256, 2,strides=2, kernel_initializer='glorot_uniform', padding=\"same\"))\n",
    "    model.add(Activation('relu'))\n",
    "    model.add(Conv1D(128, 2,strides=2, kernel_initializer='glorot_uniform', padding=\"same\"))\n",
    "    model.add(Activation('relu'))\n",
    "    model.add(Conv1D(128, 2,strides=2, kernel_initializer='glorot_uniform', padding=\"same\"))\n",
    "    model.add(Activation('relu'))\n",
    "    model.add(Conv1D(64, 1,strides=2, kernel_initializer='glorot_uniform', padding=\"same\"))\n",
    "    model.add(Activation('relu'))\n",
    "    model.add(Conv1D(64, 1,strides=2, kernel_initializer='glorot_uniform', padding=\"same\"))\n",
    "    model.add(Activation('relu'))\n",
    "    model.add(Conv1D(32, 1,strides=1, kernel_initializer='glorot_uniform', padding=\"same\"))\n",
    "    model.add(Activation('relu'))\n",
    "    model.add(Dropout(0.3))\n",
    "    model.add(Dense(32))\n",
    "    model.add(Activation('relu'))\n",
    "    model.add(GlobalAveragePooling1D())\n",
    "    model.add(Dropout(0.3))\n",
    "    model.add(Dense(2))\n",
    "    model.add(Activation('softmax'))\n",
    "    return(model)"
   ]
  },
  {
   "cell_type": "code",
   "execution_count": 10,
   "id": "25667231",
   "metadata": {},
   "outputs": [],
   "source": [
    "x_train_225, x_test_225, y_train_225, y_test_225 = train_test_split(principalDf, labels, test_size= 0.2, random_state=42)"
   ]
  },
  {
   "cell_type": "code",
   "execution_count": 12,
   "id": "2004d85c",
   "metadata": {},
   "outputs": [],
   "source": [
    "x_train_225 = tf.expand_dims(x_train_225, axis=-1)\n",
    "x_test_225 = tf.expand_dims(x_test_225, axis=-1)\n",
    "y_train_225 = y_train_225.astype(int)\n",
    "y_test_225 = y_test_225.astype(int)"
   ]
  },
  {
   "cell_type": "code",
   "execution_count": 13,
   "id": "42141eed",
   "metadata": {},
   "outputs": [],
   "source": [
    "ckpt = keras.callbacks.ModelCheckpoint(\n",
    "        filepath='C:/Users/norma/Desktop/BITIRME/Models/CNN/best_model.{epoch:02d}-{val_accuracy:.4f}.h5',\n",
    "        monitor='val_accuracy', save_best_only=True,verbose=1)\n",
    "\n",
    "callbacks = [EarlyStopping(monitor='val_accuracy', patience=10, mode='auto', verbose=1, min_delta=0.0001),\n",
    "         ckpt]\n",
    "\n",
    "model_225 = build_model(principalDf.shape[1])\n",
    "opt = tf.keras.optimizers.Adam(0.0001)\n",
    "model_225.compile(loss='categorical_crossentropy',\n",
    "            optimizer=opt, metrics=['accuracy'])"
   ]
  },
  {
   "cell_type": "code",
   "execution_count": 14,
   "id": "7cd499c8",
   "metadata": {},
   "outputs": [
    {
     "name": "stdout",
     "output_type": "stream",
     "text": [
      "Epoch 1/30\n",
      "29/29 [==============================] - 4s 106ms/step - loss: 0.6930 - accuracy: 0.5125 - val_loss: 0.6927 - val_accuracy: 0.5000\n",
      "\n",
      "Epoch 00001: val_accuracy improved from -inf to 0.50000, saving model to C:/Users/norma/Desktop/BITIRME/Models/CNN\\best_model.01-0.5000.h5\n",
      "Epoch 2/30\n",
      "29/29 [==============================] - 3s 96ms/step - loss: 0.6916 - accuracy: 0.5204 - val_loss: 0.6922 - val_accuracy: 0.5368\n",
      "\n",
      "Epoch 00002: val_accuracy improved from 0.50000 to 0.53684, saving model to C:/Users/norma/Desktop/BITIRME/Models/CNN\\best_model.02-0.5368.h5\n",
      "Epoch 3/30\n",
      "29/29 [==============================] - 3s 94ms/step - loss: 0.6914 - accuracy: 0.5336 - val_loss: 0.6897 - val_accuracy: 0.5000\n",
      "\n",
      "Epoch 00003: val_accuracy did not improve from 0.53684\n",
      "Epoch 4/30\n",
      "29/29 [==============================] - 3s 93ms/step - loss: 0.6925 - accuracy: 0.5283 - val_loss: 0.6906 - val_accuracy: 0.6158\n",
      "\n",
      "Epoch 00004: val_accuracy improved from 0.53684 to 0.61579, saving model to C:/Users/norma/Desktop/BITIRME/Models/CNN\\best_model.04-0.6158.h5\n",
      "Epoch 5/30\n",
      "29/29 [==============================] - 3s 94ms/step - loss: 0.6920 - accuracy: 0.5362 - val_loss: 0.6904 - val_accuracy: 0.5105\n",
      "\n",
      "Epoch 00005: val_accuracy did not improve from 0.61579\n",
      "Epoch 6/30\n",
      "29/29 [==============================] - 3s 96ms/step - loss: 0.6891 - accuracy: 0.5692 - val_loss: 0.6850 - val_accuracy: 0.6000\n",
      "\n",
      "Epoch 00006: val_accuracy did not improve from 0.61579\n",
      "Epoch 7/30\n",
      "29/29 [==============================] - 3s 93ms/step - loss: 0.6838 - accuracy: 0.5758 - val_loss: 0.6798 - val_accuracy: 0.5368\n",
      "\n",
      "Epoch 00007: val_accuracy did not improve from 0.61579\n",
      "Epoch 8/30\n",
      "29/29 [==============================] - 3s 95ms/step - loss: 0.6847 - accuracy: 0.5692 - val_loss: 0.6695 - val_accuracy: 0.5579\n",
      "\n",
      "Epoch 00008: val_accuracy did not improve from 0.61579\n",
      "Epoch 9/30\n",
      "29/29 [==============================] - 3s 93ms/step - loss: 0.6678 - accuracy: 0.5982 - val_loss: 0.6791 - val_accuracy: 0.5526\n",
      "\n",
      "Epoch 00009: val_accuracy did not improve from 0.61579\n",
      "Epoch 10/30\n",
      "29/29 [==============================] - 3s 96ms/step - loss: 0.6722 - accuracy: 0.5731 - val_loss: 0.6501 - val_accuracy: 0.6368\n",
      "\n",
      "Epoch 00010: val_accuracy improved from 0.61579 to 0.63684, saving model to C:/Users/norma/Desktop/BITIRME/Models/CNN\\best_model.10-0.6368.h5\n",
      "Epoch 11/30\n",
      "29/29 [==============================] - 3s 97ms/step - loss: 0.6426 - accuracy: 0.6548 - val_loss: 0.6403 - val_accuracy: 0.6263\n",
      "\n",
      "Epoch 00011: val_accuracy did not improve from 0.63684\n",
      "Epoch 12/30\n",
      "29/29 [==============================] - 3s 114ms/step - loss: 0.6293 - accuracy: 0.6403 - val_loss: 0.6243 - val_accuracy: 0.6737\n",
      "\n",
      "Epoch 00012: val_accuracy improved from 0.63684 to 0.67368, saving model to C:/Users/norma/Desktop/BITIRME/Models/CNN\\best_model.12-0.6737.h5\n",
      "Epoch 13/30\n",
      "29/29 [==============================] - 3s 112ms/step - loss: 0.6179 - accuracy: 0.6535 - val_loss: 0.6085 - val_accuracy: 0.6632\n",
      "\n",
      "Epoch 00013: val_accuracy did not improve from 0.67368\n",
      "Epoch 14/30\n",
      "29/29 [==============================] - 3s 108ms/step - loss: 0.5918 - accuracy: 0.7115 - val_loss: 0.5647 - val_accuracy: 0.7105\n",
      "\n",
      "Epoch 00014: val_accuracy improved from 0.67368 to 0.71053, saving model to C:/Users/norma/Desktop/BITIRME/Models/CNN\\best_model.14-0.7105.h5\n",
      "Epoch 15/30\n",
      "29/29 [==============================] - 3s 107ms/step - loss: 0.5598 - accuracy: 0.7233 - val_loss: 0.6062 - val_accuracy: 0.6474\n",
      "\n",
      "Epoch 00015: val_accuracy did not improve from 0.71053\n",
      "Epoch 16/30\n",
      "29/29 [==============================] - 3s 106ms/step - loss: 0.5745 - accuracy: 0.6930 - val_loss: 0.5616 - val_accuracy: 0.7000\n",
      "\n",
      "Epoch 00016: val_accuracy did not improve from 0.71053\n",
      "Epoch 17/30\n",
      "29/29 [==============================] - 3s 108ms/step - loss: 0.5630 - accuracy: 0.7299 - val_loss: 0.5612 - val_accuracy: 0.6895\n",
      "\n",
      "Epoch 00017: val_accuracy did not improve from 0.71053\n",
      "Epoch 18/30\n",
      "29/29 [==============================] - 3s 108ms/step - loss: 0.5351 - accuracy: 0.7628 - val_loss: 0.5756 - val_accuracy: 0.7000\n",
      "\n",
      "Epoch 00018: val_accuracy did not improve from 0.71053\n",
      "Epoch 19/30\n",
      "29/29 [==============================] - 3s 108ms/step - loss: 0.5202 - accuracy: 0.7444 - val_loss: 0.5511 - val_accuracy: 0.7000\n",
      "\n",
      "Epoch 00019: val_accuracy did not improve from 0.71053\n",
      "Epoch 20/30\n",
      "29/29 [==============================] - 3s 106ms/step - loss: 0.5049 - accuracy: 0.7747 - val_loss: 0.5372 - val_accuracy: 0.7000\n",
      "\n",
      "Epoch 00020: val_accuracy did not improve from 0.71053\n",
      "Epoch 21/30\n",
      "29/29 [==============================] - 3s 109ms/step - loss: 0.4880 - accuracy: 0.7958 - val_loss: 0.5424 - val_accuracy: 0.7316\n",
      "\n",
      "Epoch 00021: val_accuracy improved from 0.71053 to 0.73158, saving model to C:/Users/norma/Desktop/BITIRME/Models/CNN\\best_model.21-0.7316.h5\n",
      "Epoch 22/30\n",
      "29/29 [==============================] - 3s 106ms/step - loss: 0.4767 - accuracy: 0.7694 - val_loss: 0.5576 - val_accuracy: 0.6737\n",
      "\n",
      "Epoch 00022: val_accuracy did not improve from 0.73158\n",
      "Epoch 23/30\n",
      "29/29 [==============================] - 3s 109ms/step - loss: 0.4414 - accuracy: 0.7905 - val_loss: 0.5670 - val_accuracy: 0.6842\n",
      "\n",
      "Epoch 00023: val_accuracy did not improve from 0.73158\n",
      "Epoch 24/30\n",
      "29/29 [==============================] - 3s 110ms/step - loss: 0.4554 - accuracy: 0.8024 - val_loss: 0.5769 - val_accuracy: 0.7158\n",
      "\n",
      "Epoch 00024: val_accuracy did not improve from 0.73158\n",
      "Epoch 25/30\n",
      "29/29 [==============================] - 3s 108ms/step - loss: 0.4662 - accuracy: 0.8050 - val_loss: 0.5519 - val_accuracy: 0.7053\n",
      "\n",
      "Epoch 00025: val_accuracy did not improve from 0.73158\n",
      "Epoch 26/30\n",
      "29/29 [==============================] - 3s 106ms/step - loss: 0.4293 - accuracy: 0.8195 - val_loss: 0.6307 - val_accuracy: 0.6947\n",
      "\n",
      "Epoch 00026: val_accuracy did not improve from 0.73158\n",
      "Epoch 27/30\n",
      "29/29 [==============================] - 3s 107ms/step - loss: 0.4276 - accuracy: 0.8195 - val_loss: 0.6681 - val_accuracy: 0.6263\n",
      "\n",
      "Epoch 00027: val_accuracy did not improve from 0.73158\n",
      "Epoch 28/30\n",
      "29/29 [==============================] - 3s 107ms/step - loss: 0.4267 - accuracy: 0.8221 - val_loss: 0.5525 - val_accuracy: 0.7263\n",
      "\n",
      "Epoch 00028: val_accuracy did not improve from 0.73158\n",
      "Epoch 29/30\n",
      "29/29 [==============================] - 3s 107ms/step - loss: 0.4194 - accuracy: 0.8353 - val_loss: 0.6033 - val_accuracy: 0.6842\n",
      "\n",
      "Epoch 00029: val_accuracy did not improve from 0.73158\n",
      "Epoch 30/30\n",
      "29/29 [==============================] - 3s 105ms/step - loss: 0.3960 - accuracy: 0.8314 - val_loss: 0.6081 - val_accuracy: 0.6421\n",
      "\n",
      "Epoch 00030: val_accuracy did not improve from 0.73158\n"
     ]
    }
   ],
   "source": [
    "history_225 = model_225.fit(\n",
    "      x_train_225,y_train_225,\n",
    "      steps_per_epoch=len(principalDf)//Batch_size,\n",
    "      validation_data=(x_test_225, y_test_225),\n",
    "      epochs=30,\n",
    "      callbacks=[callbacks]\n",
    "      )\n",
    "\n",
    "y_pred_225 = model_225.predict(x_test_225)"
   ]
  },
  {
   "cell_type": "code",
   "execution_count": 16,
   "id": "92a75015",
   "metadata": {},
   "outputs": [],
   "source": [
    "class_d = 'C:/Users/norma/Desktop/BITIRME/LabelEncoded_GSE_OrtakData_NormR.csv'\n",
    "class_df = pd.read_csv(class_d, sep = ';', decimal = ',')\n",
    "class_df = class_df[class_df.Class != 2]\n",
    "\n",
    "#creating instance of one-hot-encoder\n",
    "encoder = OneHotEncoder(handle_unknown='ignore')\n",
    "\n",
    "encoder_df = pd.DataFrame(encoder.fit_transform(class_df[['Class']]).toarray())\n",
    "encoder_df.columns = ['AD','CTL']\n",
    "\n",
    "y_test = encoder.inverse_transform(y_test_225).ravel()"
   ]
  },
  {
   "cell_type": "markdown",
   "id": "af8070d3",
   "metadata": {},
   "source": [
    "# Load Model"
   ]
  },
  {
   "cell_type": "code",
   "execution_count": 15,
   "id": "fd27e582",
   "metadata": {},
   "outputs": [],
   "source": [
    "cnn_model = tf.keras.models.load_model(\"C:/Users/norma/Desktop/BITIRME/Models/cnn.h5\")"
   ]
  },
  {
   "cell_type": "code",
   "execution_count": 17,
   "id": "1a091ba8",
   "metadata": {},
   "outputs": [],
   "source": [
    "y_pred = np.argmax(y_pred_225, axis=1)\n",
    "# y_pred_load = cnn_model.predict(x_test_225)\n",
    "# y_pred = np.argmax(y_pred_load, axis=1)"
   ]
  },
  {
   "cell_type": "code",
   "execution_count": 18,
   "id": "253746e3",
   "metadata": {
    "scrolled": true
   },
   "outputs": [
    {
     "name": "stderr",
     "output_type": "stream",
     "text": [
      "C:\\ProgramData\\Anaconda3\\lib\\site-packages\\sklearn\\metrics\\_ranking.py:999: UndefinedMetricWarning: No positive samples in y_true, true positive value should be meaningless\n",
      "  warnings.warn(\n"
     ]
    }
   ],
   "source": [
    "fpr, tpr, thresholds = metrics.roc_curve(y_pred, y_test, pos_label=2)"
   ]
  },
  {
   "cell_type": "code",
   "execution_count": 19,
   "id": "63f3767a",
   "metadata": {},
   "outputs": [
    {
     "name": "stdout",
     "output_type": "stream",
     "text": [
      "Classification report : \n",
      "               precision    recall  f1-score   support\n",
      "\n",
      "           0       0.71      0.47      0.57        95\n",
      "           1       0.61      0.81      0.69        95\n",
      "\n",
      "    accuracy                           0.64       190\n",
      "   macro avg       0.66      0.64      0.63       190\n",
      "weighted avg       0.66      0.64      0.63       190\n",
      "\n"
     ]
    },
    {
     "data": {
      "image/png": "[encoded data removed]",
      "text/plain": [
       "<Figure size 432x288 with 2 Axes>"
      ]
     },
     "metadata": {
      "needs_background": "light"
     },
     "output_type": "display_data"
    }
   ],
   "source": [
    "# classification report for precision, recall f1-score and accuracy\n",
    "matrix = classification_report(y_test,y_pred,labels=[0,1])\n",
    "print('Classification report : \\n',matrix)\n",
    "\n",
    "labels_ = ['AD','CTL']\n",
    "ax= plt.subplot()\n",
    "\n",
    "# confusion matrix\n",
    "matrix = confusion_matrix(\n",
    "    y_test, y_pred)\n",
    "\n",
    "sns.heatmap(matrix, annot=True, fmt='g', ax=ax);  #annot=True to annotate cells, ftm='g' to disable scientific notation\n",
    "\n",
    "# labels, title and ticks\n",
    "ax.set_xlabel('Predicted labels');ax.set_ylabel('True labels'); \n",
    "ax.set_title('Confusion Matrix'); \n",
    "ax.xaxis.set_ticklabels(labels); ax.yaxis.set_ticklabels(labels_);"
   ]
  },
  {
   "cell_type": "code",
   "execution_count": 20,
   "id": "5dbf469e",
   "metadata": {},
   "outputs": [
    {
     "name": "stdout",
     "output_type": "stream",
     "text": [
      "\n",
      "\n",
      "dict_keys(['loss', 'accuracy', 'val_loss', 'val_accuracy'])\n"
     ]
    },
    {
     "data": {
      "image/png": "[encoded data removed]",
      "text/plain": [
       "<Figure size 432x288 with 1 Axes>"
      ]
     },
     "metadata": {
      "needs_background": "light"
     },
     "output_type": "display_data"
    },
    {
     "data": {
      "image/png": "[encoded data removed]",
      "text/plain": [
       "<Figure size 432x288 with 1 Axes>"
      ]
     },
     "metadata": {
      "needs_background": "light"
     },
     "output_type": "display_data"
    }
   ],
   "source": [
    "print(\"\\n\")\n",
    "print(history_225.history.keys())\n",
    "\n",
    "# summarize history for accuracy\n",
    "plt.plot(history_225.history['accuracy'])\n",
    "plt.plot(history_225.history['val_accuracy'])\n",
    "plt.title('model accuracy')\n",
    "plt.ylabel('accuracy')\n",
    "plt.xlabel('epoch')\n",
    "plt.legend(['train', 'test'], loc='upper left')\n",
    "plt.show()\n",
    "\n",
    "# summarize history for loss\n",
    "plt.plot(history_225.history['loss'])\n",
    "plt.plot(history_225.history['val_loss'])\n",
    "plt.title('model loss')\n",
    "plt.ylabel('loss')\n",
    "plt.xlabel('epoch')\n",
    "plt.legend(['train', 'test'], loc='upper left')\n",
    "plt.show()"
   ]
  },
  {
   "cell_type": "code",
   "execution_count": 21,
   "id": "417bcfbc",
   "metadata": {},
   "outputs": [
    {
     "data": {
      "image/png": "[encoded data removed]",
      "text/plain": [
       "<Figure size 500x500 with 1 Axes>"
      ]
     },
     "metadata": {
      "needs_background": "light"
     },
     "output_type": "display_data"
    }
   ],
   "source": [
    "from sklearn.metrics import roc_curve, auc\n",
    "\n",
    "fpr, tpr, threshold = roc_curve(y_test, y_pred_225[:,1])\n",
    "auc_cnn = auc(fpr,tpr)\n",
    "\n",
    "plt.figure(figsize=(5,5), dpi=100)\n",
    "plt.plot(fpr, tpr, linestyle = '-', label = 'CNN (auc = %0.3f)' % auc_cnn)\n",
    "\n",
    "plt.xlabel('False Positive Rate -->')\n",
    "plt.ylabel('True Positive Rate -->')\n",
    "plt.legend()\n",
    "plt.show()"
   ]
  },
  {
   "cell_type": "markdown",
   "id": "9ecc4f4c",
   "metadata": {},
   "source": [
    "# Save Model"
   ]
  },
  {
   "cell_type": "code",
   "execution_count": 22,
   "id": "9a17dd1e",
   "metadata": {},
   "outputs": [],
   "source": [
    "#model_225.save(\"C:/Users/norma/Desktop/BITIRME/Models/cnn.h5\")"
   ]
  }
 ],
 "metadata": {
  "kernelspec": {
   "display_name": "Python 3 (ipykernel)",
   "language": "python",
   "name": "python3"
  },
  "language_info": {
   "codemirror_mode": {
    "name": "ipython",
    "version": 3
   },
   "file_extension": ".py",
   "mimetype": "text/x-python",
   "name": "python",
   "nbconvert_exporter": "python",
   "pygments_lexer": "ipython3",
   "version": "3.9.7"
  }
 },
 "nbformat": 4,
 "nbformat_minor": 5
}
