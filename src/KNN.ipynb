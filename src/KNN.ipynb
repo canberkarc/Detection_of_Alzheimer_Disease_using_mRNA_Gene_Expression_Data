{
 "cells": [
  {
   "cell_type": "code",
   "execution_count": 24,
   "id": "05fb86ce",
   "metadata": {},
   "outputs": [],
   "source": [
    "import pandas as pd\n",
    "import numpy as np\n",
    "from sklearn.model_selection import cross_val_score, learning_curve, GridSearchCV, ShuffleSplit, train_test_split, RepeatedKFold\n",
    "from sklearn.neighbors import KNeighborsClassifier   \n",
    "from numpy import mean, std\n",
    "from sklearn.decomposition import PCA\n",
    "from sklearn.metrics import plot_confusion_matrix, confusion_matrix, classification_report, accuracy_score\n",
    "from sklearn.metrics import roc_curve, auc \n",
    "import seaborn as sns\n",
    "import matplotlib.pyplot as plt"
   ]
  },
  {
   "cell_type": "markdown",
   "id": "adb8482c",
   "metadata": {},
   "source": [
    "## 2 Class"
   ]
  },
  {
   "cell_type": "code",
   "execution_count": 2,
   "id": "894a11b2",
   "metadata": {},
   "outputs": [
    {
     "name": "stdout",
     "output_type": "stream",
     "text": [
      "(1262, 11619)\n"
     ]
    },
    {
     "data": {
      "text/plain": [
       "(949, 11619)"
      ]
     },
     "execution_count": 2,
     "metadata": {},
     "output_type": "execute_result"
    }
   ],
   "source": [
    "df = pd.read_csv('C:/Users/norma/Desktop/BITIRME/(Mcisiz)GSE_OrtakData_NormR.csv', sep = \";\", decimal=\",\")\n",
    "print(df.shape)\n",
    "df = df[df.Class != 2]\n",
    "df.shape"
   ]
  },
  {
   "cell_type": "code",
   "execution_count": 3,
   "id": "65391dc5",
   "metadata": {},
   "outputs": [],
   "source": [
    "features = df.drop('Class',axis=1)\n",
    "labels_dr = 'C:/Users/norma/Desktop/BITIRME/gse_less_feature.csv'\n",
    "labels_df = pd.read_csv(labels_dr, sep = ',')\n",
    "labels = labels_df.iloc[:949,:2]"
   ]
  },
  {
   "cell_type": "markdown",
   "id": "77aeeb5a",
   "metadata": {},
   "source": [
    "## 3 Class"
   ]
  },
  {
   "cell_type": "code",
   "execution_count": 5,
   "id": "fa3be597",
   "metadata": {},
   "outputs": [
    {
     "name": "stdout",
     "output_type": "stream",
     "text": [
      "(1262, 11619)\n"
     ]
    }
   ],
   "source": [
    "# df = pd.read_csv('C:/Users/norma/Desktop/BITIRME/(Mcisiz)GSE_OrtakData_NormR.csv', sep = \";\", decimal=\",\")\n",
    "# print(df.shape)"
   ]
  },
  {
   "cell_type": "code",
   "execution_count": 6,
   "id": "a96690ee",
   "metadata": {},
   "outputs": [],
   "source": [
    "# features = df.drop('Class',axis=1)\n",
    "# labels_dr = 'C:/Users/norma/Desktop/BITIRME/gse_less_feature.csv'\n",
    "# labels_df = pd.read_csv(labels_dr, sep = ',')\n",
    "# labels = labels_df.iloc[:,:3]"
   ]
  },
  {
   "cell_type": "markdown",
   "id": "db268153",
   "metadata": {},
   "source": [
    "### N COMPONENTS = 225"
   ]
  },
  {
   "cell_type": "code",
   "execution_count": 4,
   "id": "3f538e46",
   "metadata": {},
   "outputs": [],
   "source": [
    "n_components = 225\n",
    "pca = PCA(n_components = n_components).fit(features)\n",
    "principalComponents = pca.fit_transform(features)\n",
    "columns = ['Pc' + str(i) for i in range(1,n_components+1)]\n",
    "principalDf = pd.DataFrame(data = principalComponents\n",
    "             , columns = columns)"
   ]
  },
  {
   "cell_type": "code",
   "execution_count": 5,
   "id": "bef4708c",
   "metadata": {},
   "outputs": [],
   "source": [
    "x_train, x_test, y_train, y_test = train_test_split(principalDf, labels, test_size= 0.25, random_state=42)"
   ]
  },
  {
   "cell_type": "code",
   "execution_count": 6,
   "id": "6a6ac8f0",
   "metadata": {},
   "outputs": [],
   "source": [
    "y_train = y_train.astype(int)\n",
    "y_test = y_test.astype(int)"
   ]
  },
  {
   "cell_type": "markdown",
   "id": "15274de0",
   "metadata": {},
   "source": [
    "## List Hyperparameters to tune"
   ]
  },
  {
   "cell_type": "code",
   "execution_count": 10,
   "id": "ae0384b7",
   "metadata": {},
   "outputs": [],
   "source": [
    "# p=[1,2]\n",
    "\n",
    "# optimal_p = 0\n",
    "# best_acc = 0\n",
    "# for i in p:\n",
    "#     knn = KNeighborsClassifier(p = i)\n",
    "#     knn.fit(x_train, y_train)\n",
    "#     if best_acc < knn.score(x_test,y_test):\n",
    "#         best_acc = knn.score(x_test,y_test)\n",
    "#         optimal_p = i\n",
    "\n",
    "# print(\"Optimal p: {}, Accuracy: {}\".format(optimal_p,best_acc))\n"
   ]
  },
  {
   "cell_type": "code",
   "execution_count": 11,
   "id": "d2814816",
   "metadata": {},
   "outputs": [],
   "source": [
    "# optimal_weights = 'uniform'\n",
    "# best_acc = 0\n",
    "# weights = ['uniform', 'distance']\n",
    "# for i in weights:\n",
    "#     knn = KNeighborsClassifier(n_neighbors = 17, p = 2, weights = i)\n",
    "#     knn.fit(x_train, y_train)\n",
    "#     if best_acc < knn.score(x_test,y_test):\n",
    "#         best_acc = knn.score(x_test,y_test)\n",
    "#         optimal_weights = i\n",
    "\n",
    "# print(\"Optimal Weights: {}, Accuracy: {}\".format(optimal_weights,best_acc))\n"
   ]
  },
  {
   "cell_type": "code",
   "execution_count": 7,
   "id": "8844e744",
   "metadata": {},
   "outputs": [
    {
     "name": "stdout",
     "output_type": "stream",
     "text": [
      "Optimal N-Neighbors: 11, Accuracy: 0.6386554621848739\n"
     ]
    }
   ],
   "source": [
    "n_neighbors = list(range(1,60))\n",
    "\n",
    "optimal_n_neighbors = 0\n",
    "best_acc = 0\n",
    "for i in n_neighbors:\n",
    "    knn = KNeighborsClassifier(n_neighbors = i)\n",
    "    knn.fit(x_train, y_train)\n",
    "    if best_acc < knn.score(x_test,y_test):\n",
    "        best_acc = knn.score(x_test,y_test)\n",
    "        optimal_n_neighbors = i\n",
    "\n",
    "print(\"Optimal N-Neighbors: {}, Accuracy: {}\".format(optimal_n_neighbors,best_acc))"
   ]
  },
  {
   "cell_type": "markdown",
   "id": "d26f3987",
   "metadata": {},
   "source": [
    "# Optimal K-NN Model"
   ]
  },
  {
   "cell_type": "code",
   "execution_count": 10,
   "id": "1c91a900",
   "metadata": {},
   "outputs": [
    {
     "name": "stdout",
     "output_type": "stream",
     "text": [
      "Accuracy: 0.6386554621848739\n"
     ]
    }
   ],
   "source": [
    "knn = KNeighborsClassifier(n_neighbors = 11, p = 2, weights = 'uniform')\n",
    "knn.fit(x_train, y_train)\n",
    "print(\"Accuracy: {}\".format(knn.score(x_test,y_test)))\n",
    "y_pred = knn.predict(x_test)\n",
    "\n",
    "# # classification report for precision, recall f1-score and accuracy\n",
    "# matrix = classification_report(y_test,y_pred,labels=[2,1,0])\n",
    "# print('Classification report : \\n',matrix)\n",
    "\n",
    "# labels = ['MCI','AD','CTL']\n",
    "# ax= plt.subplot()\n",
    "\n",
    "# # confusion matrix\n",
    "# matrix = confusion_matrix(\n",
    "#     y_test.values.argmax(axis=1), y_pred.argmax(axis=1))\n",
    "\n",
    "# sns.heatmap(matrix, annot=True, fmt='g', ax=ax);  #annot=True to annotate cells, ftm='g' to disable scientific notation\n",
    "\n",
    "# # labels, title and ticks\n",
    "# ax.set_xlabel('Predicted labels');ax.set_ylabel('True labels'); \n",
    "# ax.set_title('Confusion Matrix'); \n",
    "# ax.xaxis.set_ticklabels(labels); ax.yaxis.set_ticklabels(labels);"
   ]
  },
  {
   "cell_type": "code",
   "execution_count": 8,
   "id": "015c07fb",
   "metadata": {},
   "outputs": [],
   "source": [
    "from sklearn.preprocessing import OneHotEncoder\n",
    "class_d = 'C:/Users/norma/Desktop/BITIRME/duzgun_GSE_OrtakData_NormR.csv'\n",
    "class_df = pd.read_csv(class_d, sep = ';', decimal = ',')\n",
    "class_df = class_df[class_df.Class != 2]\n",
    "\n",
    "#creating instance of one-hot-encoder\n",
    "encoder = OneHotEncoder(handle_unknown='ignore')\n",
    "\n",
    "encoder_df = pd.DataFrame(encoder.fit_transform(class_df[['Class']]).toarray())\n",
    "encoder_df.columns = ['AD','CTL']\n",
    "\n",
    "y_test_ = encoder.inverse_transform(y_test).ravel()"
   ]
  },
  {
   "cell_type": "code",
   "execution_count": 16,
   "id": "5a8f0175",
   "metadata": {},
   "outputs": [
    {
     "data": {
      "image/png": "[encoded data removed]",
      "text/plain": [
       "<Figure size 500x500 with 1 Axes>"
      ]
     },
     "metadata": {
      "needs_background": "light"
     },
     "output_type": "display_data"
    }
   ],
   "source": [
    "from sklearn.metrics import roc_curve, auc\n",
    "\n",
    "fpr, tpr, threshold = roc_curve(y_test_, y_pred[:,1])\n",
    "auc_knn = auc(fpr,tpr)\n",
    "\n",
    "plt.figure(figsize=(5,5), dpi=100)\n",
    "plt.plot(fpr, tpr, linestyle = '-', label = 'KNN (auc = %0.3f)' % auc_knn)\n",
    "\n",
    "plt.xlabel('False Positive Rate -->')\n",
    "plt.ylabel('True Positive Rate -->')\n",
    "plt.legend()\n",
    "plt.show()"
   ]
  }
 ],
 "metadata": {
  "kernelspec": {
   "display_name": "Python 3 (ipykernel)",
   "language": "python",
   "name": "python3"
  },
  "language_info": {
   "codemirror_mode": {
    "name": "ipython",
    "version": 3
   },
   "file_extension": ".py",
   "mimetype": "text/x-python",
   "name": "python",
   "nbconvert_exporter": "python",
   "pygments_lexer": "ipython3",
   "version": "3.9.7"
  }
 },
 "nbformat": 4,
 "nbformat_minor": 5
}
