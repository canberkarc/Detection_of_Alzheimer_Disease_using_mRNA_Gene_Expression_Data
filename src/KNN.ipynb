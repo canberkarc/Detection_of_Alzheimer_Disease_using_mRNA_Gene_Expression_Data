{
 "cells": [
  {
   "cell_type": "code",
   "execution_count": 1,
   "id": "05fb86ce",
   "metadata": {},
   "outputs": [],
   "source": [
    "import pandas as pd\n",
    "import numpy as np\n",
    "from sklearn.model_selection import cross_val_score, learning_curve, GridSearchCV, ShuffleSplit, train_test_split, RepeatedKFold\n",
    "from sklearn.neighbors import KNeighborsClassifier   \n",
    "from numpy import mean, std\n",
    "from sklearn.decomposition import PCA\n",
    "from sklearn.metrics import plot_confusion_matrix, confusion_matrix, classification_report, accuracy_score\n",
    "from sklearn.metrics import roc_curve, auc \n",
    "import seaborn as sns\n",
    "import matplotlib.pyplot as plt\n",
    "import joblib\n",
    "from sklearn.preprocessing import OneHotEncoder"
   ]
  },
  {
   "cell_type": "markdown",
   "id": "2245c4ba",
   "metadata": {},
   "source": [
    "# Used CSV Files in This Notebook Can Be Reached Via The Link Given Below\n",
    "https://drive.google.com/drive/folders/1LJBghznfrr3SfxHZ8sUenAc6pdhb5vKK?usp=sharing"
   ]
  },
  {
   "cell_type": "code",
   "execution_count": 2,
   "id": "894a11b2",
   "metadata": {},
   "outputs": [],
   "source": [
    "df = pd.read_csv('C:/Users/norma/Desktop/BİTİRME/BITIRME/Without_MCI_GSE_OrtakData_NormR.csv', sep = \";\", decimal=\",\")\n",
    "# Keeping only 2 classes which are AD and CTL\n",
    "df = df[df.Class != 2]"
   ]
  },
  {
   "cell_type": "code",
   "execution_count": 3,
   "id": "65391dc5",
   "metadata": {},
   "outputs": [],
   "source": [
    "features = df.drop('Class',axis=1)\n",
    "labels_dr = 'C:/Users/norma/Desktop/BİTİRME/BITIRME/OneHotEncoded_Labels.csv'\n",
    "labels_df = pd.read_csv(labels_dr, sep = ',')\n",
    "labels = labels_df.iloc[:949,:2]"
   ]
  },
  {
   "cell_type": "markdown",
   "id": "db268153",
   "metadata": {},
   "source": [
    "### PCA WITH N COMPONENTS = 225"
   ]
  },
  {
   "cell_type": "code",
   "execution_count": 4,
   "id": "3f538e46",
   "metadata": {},
   "outputs": [],
   "source": [
    "n_components = 225\n",
    "pca = PCA(n_components = n_components).fit(features)\n",
    "principalComponents = pca.fit_transform(features)\n",
    "columns = ['Pc' + str(i) for i in range(1,n_components+1)]\n",
    "principalDf = pd.DataFrame(data = principalComponents\n",
    "             , columns = columns)"
   ]
  },
  {
   "cell_type": "code",
   "execution_count": 5,
   "id": "bef4708c",
   "metadata": {},
   "outputs": [],
   "source": [
    "x_train, x_test, y_train, y_test = train_test_split(principalDf, labels, test_size = 0.22, random_state=41)"
   ]
  },
  {
   "cell_type": "code",
   "execution_count": 6,
   "id": "95321311",
   "metadata": {},
   "outputs": [],
   "source": [
    "class_d = 'C:/Users/norma/Desktop/BİTİRME/BITIRME/LabelEncoded_GSE_OrtakData_NormR.csv'\n",
    "class_df = pd.read_csv(class_d, sep = ';', decimal = ',')\n",
    "class_df = class_df[class_df.Class != 2]\n",
    "\n",
    "#creating instance of one-hot-encoder\n",
    "encoder = OneHotEncoder(handle_unknown='ignore')\n",
    "\n",
    "encoder_df = pd.DataFrame(encoder.fit_transform(class_df[['Class']]).toarray())\n",
    "encoder_df.columns = ['AD','CTL']\n",
    "\n",
    "y_test = encoder.inverse_transform(y_test).ravel()"
   ]
  },
  {
   "cell_type": "markdown",
   "id": "15274de0",
   "metadata": {},
   "source": [
    "## List Hyperparameters to Tune\n",
    "### I selected optimal parameters manually because GridSearchCV was taking too much time"
   ]
  },
  {
   "cell_type": "code",
   "execution_count": 7,
   "id": "ae0384b7",
   "metadata": {},
   "outputs": [
    {
     "name": "stdout",
     "output_type": "stream",
     "text": [
      "Optimal p: 1, The Best AUC Score: 0.6956378368192953\n"
     ]
    }
   ],
   "source": [
    "p=[1,2]\n",
    "\n",
    "optimal_p = 0\n",
    "best_auc = 0\n",
    "for i in p:\n",
    "    knn = KNeighborsClassifier(p = i)\n",
    "    knn.fit(x_train, y_train)\n",
    "    y_pred = knn.predict(x_test)\n",
    "    fpr, tpr, threshold = roc_curve(y_test, y_pred[:,1])\n",
    "    auc_knn = auc(fpr,tpr)\n",
    "    if best_auc < auc_knn:\n",
    "        best_auc = auc_knn\n",
    "        optimal_p = i\n",
    "\n",
    "print(\"Optimal p: {}, The Best AUC Score: {}\".format(optimal_p,best_auc))"
   ]
  },
  {
   "cell_type": "code",
   "execution_count": 8,
   "id": "8844e744",
   "metadata": {},
   "outputs": [
    {
     "name": "stdout",
     "output_type": "stream",
     "text": [
      "Optimal N-Neighbors: 17, The Best AUC Score: 0.6964386659129452\n"
     ]
    }
   ],
   "source": [
    "n_neighbors = list(range(1,60))\n",
    "\n",
    "optimal_n_neighbors = 0\n",
    "best_auc = 0\n",
    "for i in n_neighbors:\n",
    "    knn = KNeighborsClassifier(n_neighbors = i, p=1)\n",
    "    knn.fit(x_train, y_train)\n",
    "    y_pred = knn.predict(x_test)\n",
    "    fpr, tpr, threshold = roc_curve(y_test, y_pred[:,1])\n",
    "    auc_knn = auc(fpr,tpr)\n",
    "    if best_auc < auc_knn:\n",
    "        best_auc = auc_knn\n",
    "        optimal_n_neighbors = i\n",
    "\n",
    "print(\"Optimal N-Neighbors: {}, The Best AUC Score: {}\".format(optimal_n_neighbors,best_auc))"
   ]
  },
  {
   "cell_type": "code",
   "execution_count": 9,
   "id": "d2814816",
   "metadata": {},
   "outputs": [
    {
     "name": "stdout",
     "output_type": "stream",
     "text": [
      "Optimal Weights: distance, The Best AUC Score: 0.671848501978519\n"
     ]
    }
   ],
   "source": [
    "optimal_weights = 'uniform'\n",
    "best_auc = 0\n",
    "weights = ['uniform', 'distance']\n",
    "for i in weights:\n",
    "    knn = KNeighborsClassifier(n_neighbors = 47, p = 1, weights = i)\n",
    "    knn.fit(x_train, y_train)\n",
    "    y_pred = knn.predict(x_test)\n",
    "    fpr, tpr, threshold = roc_curve(y_test, y_pred[:,1])\n",
    "    auc_knn = auc(fpr,tpr)\n",
    "    if best_auc < auc_knn:\n",
    "        best_auc = auc_knn\n",
    "        optimal_weights = i\n",
    "\n",
    "print(\"Optimal Weights: {}, The Best AUC Score: {}\".format(optimal_weights,best_auc))\n"
   ]
  },
  {
   "cell_type": "markdown",
   "id": "d26f3987",
   "metadata": {},
   "source": [
    "# Optimal K-NN Model"
   ]
  },
  {
   "cell_type": "code",
   "execution_count": 10,
   "id": "1c91a900",
   "metadata": {},
   "outputs": [
    {
     "name": "stdout",
     "output_type": "stream",
     "text": [
      "The Best AUC Score: 0.671848501978519\n",
      "Classification report : \n",
      "               precision    recall  f1-score   support\n",
      "\n",
      "           1       0.74      0.69      0.71       122\n",
      "           0       0.60      0.66      0.63        87\n",
      "\n",
      "    accuracy                           0.67       209\n",
      "   macro avg       0.67      0.67      0.67       209\n",
      "weighted avg       0.68      0.67      0.68       209\n",
      "\n"
     ]
    },
    {
     "data": {
      "image/png": "[encoded data removed]",
      "text/plain": [
       "<Figure size 432x288 with 2 Axes>"
      ]
     },
     "metadata": {
      "needs_background": "light"
     },
     "output_type": "display_data"
    }
   ],
   "source": [
    "knn = KNeighborsClassifier(n_neighbors = 47, p = 1, weights = 'distance')\n",
    "knn.fit(x_train, y_train)\n",
    "y_pred = knn.predict(x_test)\n",
    "fpr, tpr, threshold = roc_curve(y_test, y_pred[:,1])\n",
    "auc_knn = auc(fpr,tpr)\n",
    "print(\"The Best AUC Score: {}\".format(auc_knn))\n",
    "\n",
    "# classification report for precision, recall f1-score and accuracy\n",
    "matrix = classification_report(y_test,y_pred[:,1],labels=[1,0])\n",
    "print('Classification report : \\n',matrix)\n",
    "\n",
    "labels = ['AD','CTL']\n",
    "ax= plt.subplot()\n",
    "\n",
    "# confusion matrix\n",
    "matrix = confusion_matrix(\n",
    "    y_test, y_pred.argmax(axis=1))\n",
    "\n",
    "sns.heatmap(matrix, annot=True, fmt='g', ax=ax);  #annot=True to annotate cells, ftm='g' to disable scientific notation\n",
    "\n",
    "# labels, title and ticks\n",
    "ax.set_xlabel('Predicted labels');ax.set_ylabel('True labels'); \n",
    "ax.set_title('Confusion Matrix'); \n",
    "ax.xaxis.set_ticklabels(labels); ax.yaxis.set_ticklabels(labels);"
   ]
  },
  {
   "cell_type": "code",
   "execution_count": 11,
   "id": "5a8f0175",
   "metadata": {},
   "outputs": [
    {
     "data": {
      "image/png": "[encoded data removed]",
      "text/plain": [
       "<Figure size 500x500 with 1 Axes>"
      ]
     },
     "metadata": {
      "needs_background": "light"
     },
     "output_type": "display_data"
    }
   ],
   "source": [
    "from sklearn.metrics import roc_curve, auc\n",
    "\n",
    "fpr, tpr, threshold = roc_curve(y_test, y_pred[:,1])\n",
    "auc_knn = auc(fpr,tpr)\n",
    "\n",
    "plt.figure(figsize=(5,5), dpi=100)\n",
    "plt.plot(fpr, tpr, linestyle = '-', label = 'KNN (auc = %0.3f)' % auc_knn)\n",
    "\n",
    "plt.xlabel('False Positive Rate -->')\n",
    "plt.ylabel('True Positive Rate -->')\n",
    "plt.legend()\n",
    "plt.show()"
   ]
  },
  {
   "cell_type": "markdown",
   "id": "b87ef174",
   "metadata": {},
   "source": [
    "# SAVE MODEL"
   ]
  },
  {
   "cell_type": "code",
   "execution_count": 12,
   "id": "308866ee",
   "metadata": {},
   "outputs": [
    {
     "data": {
      "text/plain": [
       "['C:/Users/norma/Desktop/src/KNN.h5']"
      ]
     },
     "execution_count": 12,
     "metadata": {},
     "output_type": "execute_result"
    }
   ],
   "source": [
    "filename = 'C:/Users/norma/Desktop/src/KNN.h5'\n",
    "joblib.dump(knn, filename)"
   ]
  },
  {
   "cell_type": "markdown",
   "id": "319f0a04",
   "metadata": {},
   "source": [
    "# LOAD MODEL"
   ]
  },
  {
   "cell_type": "code",
   "execution_count": 13,
   "id": "01d66dac",
   "metadata": {},
   "outputs": [],
   "source": [
    "# Load the model from the file\n",
    "knn_from_joblib = joblib.load(filename)\n",
    " \n",
    "# Use the loaded model to make predictions\n",
    "y_pred_load = knn_from_joblib.predict(x_test)"
   ]
  },
  {
   "cell_type": "code",
   "execution_count": 15,
   "id": "194acd99",
   "metadata": {},
   "outputs": [
    {
     "data": {
      "image/png": "[encoded data removed]",
      "text/plain": [
       "<Figure size 500x500 with 1 Axes>"
      ]
     },
     "metadata": {
      "needs_background": "light"
     },
     "output_type": "display_data"
    }
   ],
   "source": [
    "from sklearn.metrics import roc_curve, auc\n",
    "\n",
    "fpr, tpr, threshold = roc_curve(y_test, y_pred_load[:,1])\n",
    "auc_knn = auc(fpr,tpr)\n",
    "\n",
    "plt.figure(figsize=(5,5), dpi=100)\n",
    "plt.plot(fpr, tpr, linestyle = '-', label = 'KNN (auc = %0.3f)' % auc_knn)\n",
    "\n",
    "plt.xlabel('False Positive Rate -->')\n",
    "plt.ylabel('True Positive Rate -->')\n",
    "plt.legend()\n",
    "plt.show()"
   ]
  },
  {
   "cell_type": "code",
   "execution_count": null,
   "id": "fdc46ba6",
   "metadata": {},
   "outputs": [],
   "source": []
  }
 ],
 "metadata": {
  "kernelspec": {
   "display_name": "Python 3 (ipykernel)",
   "language": "python",
   "name": "python3"
  },
  "language_info": {
   "codemirror_mode": {
    "name": "ipython",
    "version": 3
   },
   "file_extension": ".py",
   "mimetype": "text/x-python",
   "name": "python",
   "nbconvert_exporter": "python",
   "pygments_lexer": "ipython3",
   "version": "3.9.7"
  }
 },
 "nbformat": 4,
 "nbformat_minor": 5
}
