{
 "cells": [
  {
   "cell_type": "code",
   "execution_count": 52,
   "id": "7e632e83",
   "metadata": {},
   "outputs": [],
   "source": [
    "import keras\n",
    "import matplotlib.pyplot as plt\n",
    "import numpy as np\n",
    "import pandas as pd\n",
    "from keras.layers import *\n",
    "from keras.models import *\n",
    "from keras.optimizers import *\n",
    "from sklearn.decomposition import PCA\n",
    "from sklearn.compose import make_column_transformer\n",
    "from sklearn.preprocessing import OneHotEncoder\n",
    "from sklearn.metrics import accuracy_score\n",
    "from sklearn.model_selection import train_test_split\n",
    "from tensorflow.keras.callbacks import EarlyStopping, ModelCheckpoint, TensorBoard\n",
    "from sklearn.metrics import plot_confusion_matrix, confusion_matrix, classification_report\n",
    "import seaborn as sns"
   ]
  },
  {
   "cell_type": "code",
   "execution_count": 53,
   "id": "b97ac74a",
   "metadata": {},
   "outputs": [
    {
     "name": "stdout",
     "output_type": "stream",
     "text": [
      "(1262, 11619)\n"
     ]
    },
    {
     "data": {
      "text/plain": [
       "(949, 11619)"
      ]
     },
     "execution_count": 53,
     "metadata": {},
     "output_type": "execute_result"
    }
   ],
   "source": [
    "df = pd.read_csv('C:/Users/norma/Desktop/BITIRME/(Mcisiz)GSE_OrtakData_NormR.csv', sep = \";\", decimal=\",\")\n",
    "print(df.shape)\n",
    "df = df[df.Class != 2]\n",
    "df.shape"
   ]
  },
  {
   "cell_type": "code",
   "execution_count": 54,
   "id": "16f87b8c",
   "metadata": {},
   "outputs": [],
   "source": [
    "features = df.drop('Class',axis=1)\n",
    "labels_dr = 'C:/Users/norma/Desktop/BITIRME/gse_less_feature.csv'\n",
    "labels_df = pd.read_csv(labels_dr, sep = \",\", dtype='unicode')"
   ]
  },
  {
   "cell_type": "code",
   "execution_count": 55,
   "id": "6c08cab9",
   "metadata": {},
   "outputs": [],
   "source": [
    "labels = labels_df.iloc[:949,:2]"
   ]
  },
  {
   "cell_type": "code",
   "execution_count": 56,
   "id": "03e0b85c",
   "metadata": {},
   "outputs": [],
   "source": [
    "pca = PCA(n_components = 225).fit(features)\n",
    "principalComponents = pca.fit_transform(features)\n",
    "columns = ['Pc' + str(i) for i in range(1,226)]\n",
    "principalDf = pd.DataFrame(data = principalComponents\n",
    "             , columns = columns)"
   ]
  },
  {
   "cell_type": "code",
   "execution_count": 57,
   "id": "fd4d82a6",
   "metadata": {},
   "outputs": [
    {
     "data": {
      "text/plain": [
       "(949, 225)"
      ]
     },
     "execution_count": 57,
     "metadata": {},
     "output_type": "execute_result"
    }
   ],
   "source": [
    "principalDf.shape"
   ]
  },
  {
   "cell_type": "code",
   "execution_count": 65,
   "id": "263ef193",
   "metadata": {},
   "outputs": [],
   "source": [
    "Batch_size = 32\n",
    "def build_model(TIME_PERIODS):\n",
    "    input_shape=(TIME_PERIODS,)\n",
    "    model = Sequential()\n",
    "    model.add(keras.Input(shape=(TIME_PERIODS,1)))\n",
    "    model.add(Conv1D(512, 2,strides=2,input_shape=(TIME_PERIODS,1)))\n",
    "    model.add(Activation('relu'))\n",
    "    model.add(Conv1D(512, 2,strides=2, kernel_initializer='glorot_uniform', padding=\"same\"))\n",
    "    model.add(Activation('relu'))\n",
    "    \n",
    "    model.add(Conv1D(256, 2,strides=2, kernel_initializer='glorot_uniform', padding=\"same\"))\n",
    "    model.add(Activation('relu'))\n",
    "    model.add(Conv1D(256, 2,strides=2, kernel_initializer='glorot_uniform', padding=\"same\"))\n",
    "    model.add(Activation('relu'))\n",
    "    model.add(Conv1D(128, 2,strides=2, kernel_initializer='glorot_uniform', padding=\"same\"))\n",
    "    model.add(Activation('relu'))\n",
    "    model.add(Conv1D(128, 2,strides=2, kernel_initializer='glorot_uniform', padding=\"same\"))\n",
    "    model.add(Activation('relu'))\n",
    "    model.add(Conv1D(64, 1,strides=2, kernel_initializer='glorot_uniform', padding=\"same\"))\n",
    "    model.add(Activation('relu'))\n",
    "    model.add(Conv1D(64, 1,strides=2, kernel_initializer='glorot_uniform', padding=\"same\"))\n",
    "    model.add(Activation('relu'))\n",
    "    model.add(Conv1D(32, 1,strides=1, kernel_initializer='glorot_uniform', padding=\"same\"))\n",
    "    model.add(Activation('relu'))\n",
    "#     model.add(Conv1D(128, 2,strides=1, kernel_initializer='glorot_normal', padding=\"same\"))\n",
    "#     model.add(Activation('relu'))\n",
    "    model.add(LSTM(16, return_sequences=True))\n",
    "    model.add(Dropout(0.1))\n",
    "    model.add(Dense(32))\n",
    "    model.add(Activation('relu'))\n",
    "    model.add(GlobalAveragePooling1D())\n",
    "    model.add(Dropout(0.3))\n",
    "   # model.add(Flatten())\n",
    "   \n",
    "    \n",
    "    model.add(Dense(2))\n",
    "    model.add(Activation('softmax'))\n",
    "    return(model)"
   ]
  },
  {
   "cell_type": "code",
   "execution_count": 66,
   "id": "10bef7b3",
   "metadata": {},
   "outputs": [],
   "source": [
    "x_train_225, x_test_225, y_train_225, y_test_225 = train_test_split(principalDf, labels, test_size= 0.2, random_state=42)\n",
    "x_train_225, x_val_225, y_train_225, y_val_225 = train_test_split(x_train_225, y_train_225, test_size=0.25, random_state= 42)"
   ]
  },
  {
   "cell_type": "code",
   "execution_count": 67,
   "id": "c46b96b2",
   "metadata": {},
   "outputs": [],
   "source": [
    "y_train_225 = y_train_225.astype(int)\n",
    "y_test_225 = y_test_225.astype(int)\n",
    "y_val_225 = y_val_225.astype(int)"
   ]
  },
  {
   "cell_type": "code",
   "execution_count": 68,
   "id": "0b3e83b6",
   "metadata": {
    "scrolled": false
   },
   "outputs": [],
   "source": [
    "ckpt = keras.callbacks.ModelCheckpoint(\n",
    "        filepath='C:/Users/norma/Desktop/BITIRME/Models/LSTM/best_model.{epoch:02d}-{val_accuracy:.4f}.h5',\n",
    "        monitor='val_accuracy', save_best_only=True,verbose=1)\n",
    "\n",
    "tensorboard = TensorBoard(\n",
    "  log_dir='.\\logs',\n",
    "  histogram_freq=1,\n",
    "  write_images=True\n",
    ")\n",
    "\n",
    "callbacks = [EarlyStopping(monitor='val_accuracy', patience=30, mode='min', min_delta=0.0001),\n",
    "         ckpt, tensorboard]\n",
    "\n",
    "model_225 = build_model(principalDf.shape[1])\n",
    "opt = tf.keras.optimizers.Adam(0.0001)\n",
    "model_225.compile(loss='binary_crossentropy',\n",
    "            optimizer=opt, metrics=['accuracy'])"
   ]
  },
  {
   "cell_type": "code",
   "execution_count": 69,
   "id": "e26f53ca",
   "metadata": {
    "scrolled": false
   },
   "outputs": [
    {
     "name": "stdout",
     "output_type": "stream",
     "text": [
      "Epoch 1/50\n",
      "28/29 [===========================>..] - ETA: 0s - loss: 0.6932 - accuracy: 0.4821\n",
      "Epoch 1: val_accuracy improved from -inf to 0.47895, saving model to C:/Users/norma/Desktop/BITIRME/Models/LSTM\\best_model.01-0.4789.h5\n",
      "29/29 [==============================] - 6s 127ms/step - loss: 0.6932 - accuracy: 0.4851 - val_loss: 0.6931 - val_accuracy: 0.4789\n",
      "Epoch 2/50\n",
      "28/29 [===========================>..] - ETA: 0s - loss: 0.6931 - accuracy: 0.5304\n",
      "Epoch 2: val_accuracy did not improve from 0.47895\n",
      "29/29 [==============================] - 3s 104ms/step - loss: 0.6931 - accuracy: 0.5290 - val_loss: 0.6932 - val_accuracy: 0.4789\n",
      "Epoch 3/50\n",
      "28/29 [===========================>..] - ETA: 0s - loss: 0.6930 - accuracy: 0.5268\n",
      "Epoch 3: val_accuracy did not improve from 0.47895\n",
      "29/29 [==============================] - 3s 108ms/step - loss: 0.6930 - accuracy: 0.5290 - val_loss: 0.6932 - val_accuracy: 0.4789\n",
      "Epoch 4/50\n",
      "28/29 [===========================>..] - ETA: 0s - loss: 0.6930 - accuracy: 0.5232\n",
      "Epoch 4: val_accuracy did not improve from 0.47895\n",
      "29/29 [==============================] - 3s 111ms/step - loss: 0.6931 - accuracy: 0.5202 - val_loss: 0.6933 - val_accuracy: 0.4789\n",
      "Epoch 5/50\n",
      "28/29 [===========================>..] - ETA: 0s - loss: 0.6930 - accuracy: 0.5161\n",
      "Epoch 5: val_accuracy did not improve from 0.47895\n",
      "29/29 [==============================] - 3s 106ms/step - loss: 0.6930 - accuracy: 0.5132 - val_loss: 0.6930 - val_accuracy: 0.4789\n",
      "Epoch 6/50\n",
      "28/29 [===========================>..] - ETA: 0s - loss: 0.6926 - accuracy: 0.5393\n",
      "Epoch 6: val_accuracy did not improve from 0.47895\n",
      "29/29 [==============================] - 3s 104ms/step - loss: 0.6926 - accuracy: 0.5413 - val_loss: 0.6925 - val_accuracy: 0.4789\n",
      "Epoch 7/50\n",
      "28/29 [===========================>..] - ETA: 0s - loss: 0.6914 - accuracy: 0.5696\n",
      "Epoch 7: val_accuracy improved from 0.47895 to 0.60000, saving model to C:/Users/norma/Desktop/BITIRME/Models/LSTM\\best_model.07-0.6000.h5\n",
      "29/29 [==============================] - 3s 116ms/step - loss: 0.6914 - accuracy: 0.5712 - val_loss: 0.6907 - val_accuracy: 0.6000\n",
      "Epoch 8/50\n",
      "28/29 [===========================>..] - ETA: 0s - loss: 0.6883 - accuracy: 0.5946\n",
      "Epoch 8: val_accuracy did not improve from 0.60000\n",
      "29/29 [==============================] - 3s 108ms/step - loss: 0.6883 - accuracy: 0.5923 - val_loss: 0.6857 - val_accuracy: 0.5579\n",
      "Epoch 9/50\n",
      "28/29 [===========================>..] - ETA: 0s - loss: 0.6694 - accuracy: 0.6321\n",
      "Epoch 9: val_accuracy improved from 0.60000 to 0.61053, saving model to C:/Users/norma/Desktop/BITIRME/Models/LSTM\\best_model.09-0.6105.h5\n",
      "29/29 [==============================] - 3s 106ms/step - loss: 0.6683 - accuracy: 0.6344 - val_loss: 0.6590 - val_accuracy: 0.6105\n",
      "Epoch 10/50\n",
      "28/29 [===========================>..] - ETA: 0s - loss: 0.6475 - accuracy: 0.6482\n",
      "Epoch 10: val_accuracy did not improve from 0.61053\n",
      "29/29 [==============================] - 4s 122ms/step - loss: 0.6464 - accuracy: 0.6503 - val_loss: 0.6642 - val_accuracy: 0.6000\n",
      "Epoch 11/50\n",
      "28/29 [===========================>..] - ETA: 0s - loss: 0.6424 - accuracy: 0.6643\n",
      "Epoch 11: val_accuracy improved from 0.61053 to 0.62105, saving model to C:/Users/norma/Desktop/BITIRME/Models/LSTM\\best_model.11-0.6211.h5\n",
      "29/29 [==============================] - 3s 117ms/step - loss: 0.6433 - accuracy: 0.6643 - val_loss: 0.6482 - val_accuracy: 0.6211\n",
      "Epoch 12/50\n",
      "28/29 [===========================>..] - ETA: 0s - loss: 0.6194 - accuracy: 0.7018\n",
      "Epoch 12: val_accuracy improved from 0.62105 to 0.67368, saving model to C:/Users/norma/Desktop/BITIRME/Models/LSTM\\best_model.12-0.6737.h5\n",
      "29/29 [==============================] - 3s 115ms/step - loss: 0.6193 - accuracy: 0.7012 - val_loss: 0.6322 - val_accuracy: 0.6737\n",
      "Epoch 13/50\n",
      "28/29 [===========================>..] - ETA: 0s - loss: 0.6121 - accuracy: 0.7107\n",
      "Epoch 13: val_accuracy did not improve from 0.67368\n",
      "29/29 [==============================] - 3s 112ms/step - loss: 0.6130 - accuracy: 0.7083 - val_loss: 0.6328 - val_accuracy: 0.6579\n",
      "Epoch 14/50\n",
      "28/29 [===========================>..] - ETA: 0s - loss: 0.5947 - accuracy: 0.7196\n",
      "Epoch 14: val_accuracy improved from 0.67368 to 0.68421, saving model to C:/Users/norma/Desktop/BITIRME/Models/LSTM\\best_model.14-0.6842.h5\n",
      "29/29 [==============================] - 3s 112ms/step - loss: 0.5924 - accuracy: 0.7223 - val_loss: 0.6245 - val_accuracy: 0.6842\n",
      "Epoch 15/50\n",
      "28/29 [===========================>..] - ETA: 0s - loss: 0.5706 - accuracy: 0.7500\n",
      "Epoch 15: val_accuracy did not improve from 0.68421\n",
      "29/29 [==============================] - 3s 107ms/step - loss: 0.5709 - accuracy: 0.7469 - val_loss: 0.6353 - val_accuracy: 0.6526\n",
      "Epoch 16/50\n",
      "28/29 [===========================>..] - ETA: 0s - loss: 0.5932 - accuracy: 0.7018\n",
      "Epoch 16: val_accuracy did not improve from 0.68421\n",
      "29/29 [==============================] - 3s 113ms/step - loss: 0.5909 - accuracy: 0.7030 - val_loss: 0.6293 - val_accuracy: 0.6474\n",
      "Epoch 17/50\n",
      "28/29 [===========================>..] - ETA: 0s - loss: 0.5509 - accuracy: 0.7482\n",
      "Epoch 17: val_accuracy did not improve from 0.68421\n",
      "29/29 [==============================] - 3s 110ms/step - loss: 0.5532 - accuracy: 0.7469 - val_loss: 0.6422 - val_accuracy: 0.6579\n",
      "Epoch 18/50\n",
      "28/29 [===========================>..] - ETA: 0s - loss: 0.5446 - accuracy: 0.7679\n",
      "Epoch 18: val_accuracy did not improve from 0.68421\n",
      "29/29 [==============================] - 3s 107ms/step - loss: 0.5432 - accuracy: 0.7698 - val_loss: 0.6351 - val_accuracy: 0.6579\n",
      "Epoch 19/50\n",
      "28/29 [===========================>..] - ETA: 0s - loss: 0.5309 - accuracy: 0.7714\n",
      "Epoch 19: val_accuracy did not improve from 0.68421\n",
      "29/29 [==============================] - 3s 112ms/step - loss: 0.5301 - accuracy: 0.7733 - val_loss: 0.6393 - val_accuracy: 0.6368\n",
      "Epoch 20/50\n",
      "28/29 [===========================>..] - ETA: 0s - loss: 0.5099 - accuracy: 0.7911\n",
      "Epoch 20: val_accuracy did not improve from 0.68421\n",
      "29/29 [==============================] - 3s 107ms/step - loss: 0.5075 - accuracy: 0.7944 - val_loss: 0.6513 - val_accuracy: 0.6158\n",
      "Epoch 21/50\n",
      "28/29 [===========================>..] - ETA: 0s - loss: 0.4976 - accuracy: 0.7946\n",
      "Epoch 21: val_accuracy did not improve from 0.68421\n",
      "29/29 [==============================] - 3s 115ms/step - loss: 0.4956 - accuracy: 0.7961 - val_loss: 0.6498 - val_accuracy: 0.6632\n",
      "Epoch 22/50\n",
      "28/29 [===========================>..] - ETA: 0s - loss: 0.4920 - accuracy: 0.7911\n",
      "Epoch 22: val_accuracy did not improve from 0.68421\n",
      "29/29 [==============================] - 3s 107ms/step - loss: 0.4926 - accuracy: 0.7909 - val_loss: 0.6597 - val_accuracy: 0.6316\n",
      "Epoch 23/50\n",
      "28/29 [===========================>..] - ETA: 0s - loss: 0.4750 - accuracy: 0.8161\n",
      "Epoch 23: val_accuracy did not improve from 0.68421\n",
      "29/29 [==============================] - 3s 107ms/step - loss: 0.4743 - accuracy: 0.8172 - val_loss: 0.6595 - val_accuracy: 0.6474\n",
      "Epoch 24/50\n",
      "28/29 [===========================>..] - ETA: 0s - loss: 0.4568 - accuracy: 0.8429\n",
      "Epoch 24: val_accuracy did not improve from 0.68421\n",
      "29/29 [==============================] - 3s 109ms/step - loss: 0.4537 - accuracy: 0.8453 - val_loss: 0.6775 - val_accuracy: 0.6211\n",
      "Epoch 25/50\n",
      "28/29 [===========================>..] - ETA: 0s - loss: 0.4349 - accuracy: 0.8429\n",
      "Epoch 25: val_accuracy did not improve from 0.68421\n",
      "29/29 [==============================] - 3s 106ms/step - loss: 0.4328 - accuracy: 0.8436 - val_loss: 0.6756 - val_accuracy: 0.6737\n",
      "Epoch 26/50\n",
      "28/29 [===========================>..] - ETA: 0s - loss: 0.4214 - accuracy: 0.8679\n",
      "Epoch 26: val_accuracy did not improve from 0.68421\n",
      "29/29 [==============================] - 3s 109ms/step - loss: 0.4245 - accuracy: 0.8647 - val_loss: 0.6980 - val_accuracy: 0.6684\n",
      "Epoch 27/50\n",
      "28/29 [===========================>..] - ETA: 0s - loss: 0.4410 - accuracy: 0.8179\n",
      "Epoch 27: val_accuracy did not improve from 0.68421\n",
      "29/29 [==============================] - 3s 107ms/step - loss: 0.4394 - accuracy: 0.8190 - val_loss: 0.6801 - val_accuracy: 0.6368\n",
      "Epoch 28/50\n",
      "28/29 [===========================>..] - ETA: 0s - loss: 0.3830 - accuracy: 0.8839\n",
      "Epoch 28: val_accuracy did not improve from 0.68421\n",
      "29/29 [==============================] - 3s 109ms/step - loss: 0.3883 - accuracy: 0.8805 - val_loss: 0.7063 - val_accuracy: 0.6368\n"
     ]
    },
    {
     "name": "stdout",
     "output_type": "stream",
     "text": [
      "Epoch 29/50\n",
      "28/29 [===========================>..] - ETA: 0s - loss: 0.3903 - accuracy: 0.8768\n",
      "Epoch 29: val_accuracy did not improve from 0.68421\n",
      "29/29 [==============================] - 3s 105ms/step - loss: 0.3897 - accuracy: 0.8770 - val_loss: 0.7485 - val_accuracy: 0.6316\n",
      "Epoch 30/50\n",
      "28/29 [===========================>..] - ETA: 0s - loss: 0.3997 - accuracy: 0.8643\n",
      "Epoch 30: val_accuracy did not improve from 0.68421\n",
      "29/29 [==============================] - 3s 104ms/step - loss: 0.3976 - accuracy: 0.8647 - val_loss: 0.7007 - val_accuracy: 0.6632\n",
      "Epoch 31/50\n",
      "28/29 [===========================>..] - ETA: 0s - loss: 0.4050 - accuracy: 0.8679\n",
      "Epoch 31: val_accuracy did not improve from 0.68421\n",
      "29/29 [==============================] - 3s 104ms/step - loss: 0.4016 - accuracy: 0.8699 - val_loss: 0.7294 - val_accuracy: 0.6579\n"
     ]
    }
   ],
   "source": [
    "history_225 = model_225.fit(\n",
    "      x= x_train_225,\n",
    "      y = y_train_225,\n",
    "      steps_per_epoch=len(principalDf)//Batch_size,\n",
    "      validation_data=(x_val_225, y_val_225),\n",
    "      epochs=50,\n",
    "      callbacks=[callbacks]\n",
    "      )\n",
    "\n",
    "y_pred_225 = model_225.predict(x_test_225)\n",
    "y_pred_225 = np.argmax(y_pred_225, axis=1)\n",
    "\n",
    "class_d = 'C:/Users/norma/Desktop/BITIRME/(Mcisiz)GSE_OrtakData_NormR.csv'\n",
    "class_df = pd.read_csv(class_d, sep = ';', decimal = ',')\n",
    "class_df = class_df[class_df.Class != 2]\n",
    "\n",
    "#creating instance of one-hot-encoder\n",
    "encoder = OneHotEncoder(handle_unknown='ignore')\n",
    "\n",
    "#perform one-hot encoding on 'team' column \n",
    "encoder_df = pd.DataFrame(encoder.fit_transform(class_df[['Class']]).toarray())\n",
    "encoder_df.columns = ['AD','CTL']\n",
    "\n",
    "y_test_n225_ = encoder.inverse_transform(y_test_225).ravel()"
   ]
  },
  {
   "cell_type": "code",
   "execution_count": 70,
   "id": "e8683ebd",
   "metadata": {},
   "outputs": [
    {
     "name": "stdout",
     "output_type": "stream",
     "text": [
      "0.7315789473684211\n"
     ]
    }
   ],
   "source": [
    "print(accuracy_score(y_test_n225_,y_pred_225))"
   ]
  },
  {
   "cell_type": "code",
   "execution_count": 71,
   "id": "d32819b3",
   "metadata": {},
   "outputs": [
    {
     "name": "stdout",
     "output_type": "stream",
     "text": [
      "Classification report : \n",
      "               precision    recall  f1-score   support\n",
      "\n",
      "           1       0.87      0.55      0.67        95\n",
      "           0       0.67      0.92      0.77        95\n",
      "\n",
      "    accuracy                           0.73       190\n",
      "   macro avg       0.77      0.73      0.72       190\n",
      "weighted avg       0.77      0.73      0.72       190\n",
      "\n"
     ]
    },
    {
     "data": {
      "image/png": "[encoded data removed]",
      "text/plain": [
       "<Figure size 432x288 with 2 Axes>"
      ]
     },
     "metadata": {
      "needs_background": "light"
     },
     "output_type": "display_data"
    }
   ],
   "source": [
    "# classification report for precision, recall f1-score and accuracy\n",
    "matrix = classification_report(y_test_n225_,y_pred_225,labels=[1,0])\n",
    "print('Classification report : \\n',matrix)\n",
    "\n",
    "labels_ = [1,0]\n",
    "ax= plt.subplot()\n",
    "\n",
    "# confusion matrix\n",
    "matrix = confusion_matrix(\n",
    "    y_test_n225_, y_pred_225)\n",
    "\n",
    "sns.heatmap(matrix, annot=True, fmt='g', ax=ax);  #annot=True to annotate cells, ftm='g' to disable scientific notation\n",
    "\n",
    "# labels, title and ticks\n",
    "ax.set_xlabel('Predicted labels');ax.set_ylabel('True labels'); \n",
    "ax.set_title('Confusion Matrix'); \n",
    "ax.xaxis.set_ticklabels(labels); ax.yaxis.set_ticklabels(labels_);"
   ]
  },
  {
   "cell_type": "code",
   "execution_count": null,
   "id": "5c42a5c4",
   "metadata": {},
   "outputs": [],
   "source": []
  }
 ],
 "metadata": {
  "kernelspec": {
   "display_name": "Python 3 (ipykernel)",
   "language": "python",
   "name": "python3"
  },
  "language_info": {
   "codemirror_mode": {
    "name": "ipython",
    "version": 3
   },
   "file_extension": ".py",
   "mimetype": "text/x-python",
   "name": "python",
   "nbconvert_exporter": "python",
   "pygments_lexer": "ipython3",
   "version": "3.9.7"
  }
 },
 "nbformat": 4,
 "nbformat_minor": 5
}
