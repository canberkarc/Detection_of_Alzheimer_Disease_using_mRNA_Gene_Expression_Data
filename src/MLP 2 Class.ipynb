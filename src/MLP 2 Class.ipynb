{
 "cells": [
  {
   "cell_type": "code",
   "execution_count": 1,
   "id": "292aeac3",
   "metadata": {},
   "outputs": [],
   "source": [
    "from tensorflow import keras\n",
    "import matplotlib.pyplot as plt\n",
    "import numpy as np\n",
    "import pandas as pd\n",
    "from keras.layers import *\n",
    "from keras.models import *\n",
    "from keras.optimizers import *\n",
    "from sklearn.decomposition import PCA\n",
    "from sklearn.compose import make_column_transformer\n",
    "from sklearn.preprocessing import OneHotEncoder\n",
    "from sklearn.metrics import accuracy_score\n",
    "from sklearn.model_selection import train_test_split\n",
    "from tensorflow.keras.callbacks import EarlyStopping, ModelCheckpoint, TensorBoard\n",
    "from sklearn.metrics import plot_confusion_matrix, confusion_matrix, classification_report\n",
    "from tensorflow.python.keras.optimizer_v2.adam import Adam\n",
    "import seaborn as sns"
   ]
  },
  {
   "cell_type": "code",
   "execution_count": 2,
   "id": "20232eda",
   "metadata": {},
   "outputs": [
    {
     "name": "stdout",
     "output_type": "stream",
     "text": [
      "(1262, 11619)\n"
     ]
    },
    {
     "data": {
      "text/plain": [
       "(949, 11619)"
      ]
     },
     "execution_count": 2,
     "metadata": {},
     "output_type": "execute_result"
    }
   ],
   "source": [
    "df = pd.read_csv('C:/Users/norma/Desktop/BITIRME/(Mcisiz)GSE_OrtakData_NormR.csv', sep = \";\", decimal=\",\")\n",
    "print(df.shape)\n",
    "df = df[df.Class != 2]\n",
    "df.shape"
   ]
  },
  {
   "cell_type": "code",
   "execution_count": 3,
   "id": "ad961e9c",
   "metadata": {},
   "outputs": [],
   "source": [
    "features = df.drop('Class',axis=1)\n",
    "labels_dr = 'C:/Users/norma/Desktop/BITIRME/gse_less_feature.csv'\n",
    "labels_df = pd.read_csv(labels_dr, sep = ',')\n",
    "labels = labels_df.iloc[:949,:2]"
   ]
  },
  {
   "cell_type": "code",
   "execution_count": 4,
   "id": "4f18a67c",
   "metadata": {},
   "outputs": [],
   "source": [
    "labels = labels_df.iloc[:949,:2]"
   ]
  },
  {
   "cell_type": "code",
   "execution_count": 5,
   "id": "bbb4b27b",
   "metadata": {},
   "outputs": [],
   "source": [
    "n_components = 225\n",
    "pca = PCA(n_components = n_components).fit(features)\n",
    "principalComponents = pca.fit_transform(features)\n",
    "columns = ['Pc' + str(i) for i in range(1,n_components+1)]\n",
    "principalDf = pd.DataFrame(data = principalComponents\n",
    "             , columns = columns)"
   ]
  },
  {
   "cell_type": "code",
   "execution_count": 6,
   "id": "1e376f91",
   "metadata": {},
   "outputs": [],
   "source": [
    "x_train_225, x_test_225, y_train_225, y_test_225 = train_test_split(principalDf, labels, test_size= 0.2, random_state=42)\n",
    "#x_train_225, x_val_225, y_train_225, y_val_225 = train_test_split(x_train_225, y_train_225, test_size=0.25, random_state= 42)"
   ]
  },
  {
   "cell_type": "code",
   "execution_count": 7,
   "id": "d50f287d",
   "metadata": {},
   "outputs": [],
   "source": [
    "y_train_225 = y_train_225.astype(int)\n",
    "y_test_225 = y_test_225.astype(int)\n",
    "#y_val_225 = y_val_225.astype(int)"
   ]
  },
  {
   "cell_type": "markdown",
   "id": "569f3028",
   "metadata": {},
   "source": [
    "## MODEL"
   ]
  },
  {
   "cell_type": "code",
   "execution_count": 8,
   "id": "8d8aa9a5",
   "metadata": {},
   "outputs": [],
   "source": [
    "opt = tf.keras.optimizers.Adam(0.0001)"
   ]
  },
  {
   "cell_type": "code",
   "execution_count": 9,
   "id": "bfd8c7c2",
   "metadata": {},
   "outputs": [],
   "source": [
    "# repeat some of the initial values here so we make sure they were not changed\n",
    "input_dim = principalDf.shape[1]\n",
    "\n",
    "# let's create a function that creates the model (required for KerasClassifier) \n",
    "# while accepting the hyperparameters we want to tune \n",
    "# we also pass some default values such as optimizer='rmsprop'\n",
    "def build_model(optimizer=opt, init_mode='he_uniform'):\n",
    "    model = Sequential()\n",
    "    model.add(Dense(64, input_dim=input_dim, kernel_initializer=init_mode, activation='relu'))\n",
    "    model.add(Dropout(0.1))\n",
    "    model.add(Dense(64, kernel_initializer=init_mode, activation='relu'))\n",
    "    model.add(Dense(128, kernel_initializer=init_mode, activation='relu'))\n",
    "    model.add(Dense(128, kernel_initializer=init_mode, activation='relu'))\n",
    "    model.add(Dense(256, kernel_initializer=init_mode, activation='relu'))\n",
    "    model.add(Dense(256, kernel_initializer=init_mode, activation='relu'))\n",
    "    model.add(Dense(512, kernel_initializer=init_mode, activation='relu'))\n",
    "    model.add(Dense(512, kernel_initializer=init_mode, activation='relu'))\n",
    "    model.add(Dropout(0.1))\n",
    "    model.add(Dense(256, kernel_initializer=init_mode, activation='relu'))\n",
    "    model.add(Dropout(0.1))\n",
    "    model.add(Dense(256, kernel_initializer=init_mode, activation='relu'))\n",
    "    model.add(Dropout(0.1))\n",
    "    model.add(Dense(128, kernel_initializer=init_mode, activation='relu'))\n",
    "    model.add(Dropout(0.1))\n",
    "    model.add(Dense(128, kernel_initializer=init_mode, activation='relu'))\n",
    "\n",
    "    model.add(Dense(64, kernel_initializer=init_mode, activation='relu'))\n",
    "\n",
    "    model.add(Dense(64, kernel_initializer=init_mode, activation='relu'))\n",
    "\n",
    "    model.add(Dense(32, kernel_initializer=init_mode, activation='relu'))\n",
    "    model.add(Dense(32, kernel_initializer=init_mode, activation='relu'))\n",
    "    model.add(Dense(2, kernel_initializer=init_mode, activation='softmax'))\n",
    "\n",
    "    # compile model\n",
    "    model.compile(loss='categorical_crossentropy', \n",
    "                  optimizer='adam', \n",
    "                  metrics=['accuracy'])\n",
    "\n",
    "    return model"
   ]
  },
  {
   "cell_type": "code",
   "execution_count": 10,
   "id": "110217c1",
   "metadata": {
    "scrolled": true
   },
   "outputs": [
    {
     "name": "stdout",
     "output_type": "stream",
     "text": [
      "Epoch 1/50\n",
      "24/29 [=======================>......] - ETA: 0s - loss: 0.7634 - accuracy: 0.4954\n",
      "Epoch 1: val_accuracy improved from -inf to 0.49474, saving model to C:/Users/norma/Desktop/BITIRME/Models/MLP\\best_model.01-0.4947.h5\n",
      "29/29 [==============================] - 2s 25ms/step - loss: 0.7511 - accuracy: 0.5072 - val_loss: 0.7075 - val_accuracy: 0.4947\n",
      "Epoch 2/50\n",
      "24/29 [=======================>......] - ETA: 0s - loss: 0.7092 - accuracy: 0.5093\n",
      "Epoch 2: val_accuracy improved from 0.49474 to 0.50000, saving model to C:/Users/norma/Desktop/BITIRME/Models/MLP\\best_model.02-0.5000.h5\n",
      "29/29 [==============================] - 0s 16ms/step - loss: 0.7078 - accuracy: 0.4967 - val_loss: 0.6915 - val_accuracy: 0.5000\n",
      "Epoch 3/50\n",
      "24/29 [=======================>......] - ETA: 0s - loss: 0.6972 - accuracy: 0.5123\n",
      "Epoch 3: val_accuracy did not improve from 0.50000\n",
      "29/29 [==============================] - 0s 11ms/step - loss: 0.6952 - accuracy: 0.5138 - val_loss: 0.6938 - val_accuracy: 0.5000\n",
      "Epoch 4/50\n",
      "25/29 [========================>.....] - ETA: 0s - loss: 0.6902 - accuracy: 0.5259\n",
      "Epoch 4: val_accuracy improved from 0.50000 to 0.52105, saving model to C:/Users/norma/Desktop/BITIRME/Models/MLP\\best_model.04-0.5211.h5\n",
      "29/29 [==============================] - 0s 15ms/step - loss: 0.6903 - accuracy: 0.5270 - val_loss: 0.6917 - val_accuracy: 0.5211\n",
      "Epoch 5/50\n",
      "25/29 [========================>.....] - ETA: 0s - loss: 0.6900 - accuracy: 0.5452\n",
      "Epoch 5: val_accuracy improved from 0.52105 to 0.55789, saving model to C:/Users/norma/Desktop/BITIRME/Models/MLP\\best_model.05-0.5579.h5\n",
      "29/29 [==============================] - 0s 16ms/step - loss: 0.6891 - accuracy: 0.5441 - val_loss: 0.6856 - val_accuracy: 0.5579\n",
      "Epoch 6/50\n",
      "25/29 [========================>.....] - ETA: 0s - loss: 0.6600 - accuracy: 0.6044\n",
      "Epoch 6: val_accuracy improved from 0.55789 to 0.60000, saving model to C:/Users/norma/Desktop/BITIRME/Models/MLP\\best_model.06-0.6000.h5\n",
      "29/29 [==============================] - 0s 14ms/step - loss: 0.6644 - accuracy: 0.6008 - val_loss: 0.6641 - val_accuracy: 0.6000\n",
      "Epoch 7/50\n",
      "24/29 [=======================>......] - ETA: 0s - loss: 0.6551 - accuracy: 0.6157\n",
      "Epoch 7: val_accuracy improved from 0.60000 to 0.64737, saving model to C:/Users/norma/Desktop/BITIRME/Models/MLP\\best_model.07-0.6474.h5\n",
      "29/29 [==============================] - 0s 13ms/step - loss: 0.6405 - accuracy: 0.6311 - val_loss: 0.7031 - val_accuracy: 0.6474\n",
      "Epoch 8/50\n",
      "25/29 [========================>.....] - ETA: 0s - loss: 0.5985 - accuracy: 0.7022\n",
      "Epoch 8: val_accuracy improved from 0.64737 to 0.66842, saving model to C:/Users/norma/Desktop/BITIRME/Models/MLP\\best_model.08-0.6684.h5\n",
      "29/29 [==============================] - 0s 13ms/step - loss: 0.6073 - accuracy: 0.6983 - val_loss: 0.6060 - val_accuracy: 0.6684\n",
      "Epoch 9/50\n",
      "24/29 [=======================>......] - ETA: 0s - loss: 0.5803 - accuracy: 0.6929\n",
      "Epoch 9: val_accuracy did not improve from 0.66842\n",
      "29/29 [==============================] - 0s 10ms/step - loss: 0.5743 - accuracy: 0.6983 - val_loss: 0.6170 - val_accuracy: 0.6421\n",
      "Epoch 10/50\n",
      "24/29 [=======================>......] - ETA: 0s - loss: 0.5363 - accuracy: 0.7438\n",
      "Epoch 10: val_accuracy did not improve from 0.66842\n",
      "29/29 [==============================] - 0s 11ms/step - loss: 0.5240 - accuracy: 0.7536 - val_loss: 0.6810 - val_accuracy: 0.6316\n",
      "Epoch 11/50\n",
      "25/29 [========================>.....] - ETA: 0s - loss: 0.5099 - accuracy: 0.7659\n",
      "Epoch 11: val_accuracy did not improve from 0.66842\n",
      "29/29 [==============================] - 0s 10ms/step - loss: 0.5095 - accuracy: 0.7602 - val_loss: 0.6833 - val_accuracy: 0.6368\n",
      "Epoch 12/50\n",
      "25/29 [========================>.....] - ETA: 0s - loss: 0.4664 - accuracy: 0.7585\n",
      "Epoch 12: val_accuracy did not improve from 0.66842\n",
      "29/29 [==============================] - 0s 10ms/step - loss: 0.4644 - accuracy: 0.7642 - val_loss: 0.6288 - val_accuracy: 0.6632\n",
      "Epoch 12: early stopping\n"
     ]
    }
   ],
   "source": [
    "ckpt = keras.callbacks.ModelCheckpoint(\n",
    "        filepath='C:/Users/norma/Desktop/BITIRME/Models/MLP/best_model.{epoch:02d}-{val_accuracy:.4f}.h5',\n",
    "        monitor='val_accuracy', save_best_only=True,verbose=1)\n",
    "\n",
    "callbacks = [EarlyStopping(monitor='val_accuracy', patience=4, mode='auto', verbose=1, min_delta=0.0001),\n",
    "         ckpt]\n",
    "\n",
    "model = build_model(principalDf.shape[1])\n",
    "history = model.fit(\n",
    "          x = np.asarray(x_train_225).astype('float32'),\n",
    "          y = y_train_225,\n",
    "          steps_per_epoch=len(principalDf)//32,\n",
    "          validation_data=(x_test_225, y_test_225),\n",
    "          epochs=50,\n",
    "          callbacks=[callbacks]\n",
    "          )\n",
    "model.save(\"finishModel.h5\")"
   ]
  },
  {
   "cell_type": "markdown",
   "id": "3a2f8025",
   "metadata": {},
   "source": [
    "# Model Load"
   ]
  },
  {
   "cell_type": "code",
   "execution_count": 24,
   "id": "f189be2f",
   "metadata": {},
   "outputs": [],
   "source": [
    "mlp_model = tf.keras.models.load_model(\"C:/Users/norma/Desktop/BITIRME/Models/mlp2class.h5\")"
   ]
  },
  {
   "cell_type": "code",
   "execution_count": 17,
   "id": "04e57d21",
   "metadata": {},
   "outputs": [],
   "source": [
    "y_pred = model.predict(x_test_225)\n",
    "y_pred_ = np.argmax(y_pred, axis=1)\n",
    "\n",
    "class_d = 'C:/Users/norma/Desktop/BITIRME/duzgun_GSE_OrtakData_NormR.csv'\n",
    "class_df = pd.read_csv(class_d, sep = ';', decimal = ',')\n",
    "class_df = class_df[class_df.Class != 2]\n",
    "#creating instance of one-hot-encoder\n",
    "encoder = OneHotEncoder(handle_unknown='ignore')\n",
    "\n",
    "encoder_df = pd.DataFrame(encoder.fit_transform(class_df[['Class']]).toarray())\n",
    "encoder_df.columns = ['AD','CTL']\n",
    "\n",
    "y_test = encoder.inverse_transform(y_test_225).ravel()"
   ]
  },
  {
   "cell_type": "code",
   "execution_count": 18,
   "id": "3543cd7a",
   "metadata": {},
   "outputs": [
    {
     "name": "stdout",
     "output_type": "stream",
     "text": [
      "Classification report : \n",
      "               precision    recall  f1-score   support\n",
      "\n",
      "           1       0.63      0.79      0.70        95\n",
      "           0       0.72      0.54      0.61        95\n",
      "\n",
      "    accuracy                           0.66       190\n",
      "   macro avg       0.67      0.66      0.66       190\n",
      "weighted avg       0.67      0.66      0.66       190\n",
      "\n"
     ]
    },
    {
     "data": {
      "image/png": "[encoded data removed]",
      "text/plain": [
       "<Figure size 432x288 with 2 Axes>"
      ]
     },
     "metadata": {
      "needs_background": "light"
     },
     "output_type": "display_data"
    }
   ],
   "source": [
    "# classification report for precision, recall f1-score and accuracy\n",
    "matrix = classification_report(y_test,y_pred_,labels=[1,0])\n",
    "print('Classification report : \\n',matrix)\n",
    "\n",
    "labels = ['AD','CTL']\n",
    "ax= plt.subplot()\n",
    "\n",
    "# confusion matrix\n",
    "matrix = confusion_matrix(\n",
    "    y_test, y_pred_)\n",
    "\n",
    "sns.heatmap(matrix, annot=True, fmt='g', ax=ax);  #annot=True to annotate cells, ftm='g' to disable scientific notation\n",
    "\n",
    "# labels, title and ticks\n",
    "ax.set_xlabel('Predicted labels');ax.set_ylabel('True labels'); \n",
    "ax.set_title('Confusion Matrix'); \n",
    "ax.xaxis.set_ticklabels(labels); ax.yaxis.set_ticklabels(labels);"
   ]
  },
  {
   "cell_type": "code",
   "execution_count": 15,
   "id": "6fcce83d",
   "metadata": {
    "scrolled": true
   },
   "outputs": [],
   "source": [
    "# print(\"\\n\")\n",
    "# print(history.history.keys())\n",
    "\n",
    "# # summarize history for accuracy\n",
    "# plt.plot(history.history['accuracy'])\n",
    "# plt.plot(history.history['val_accuracy'])\n",
    "# plt.title('model accuracy')\n",
    "# plt.ylabel('accuracy')\n",
    "# plt.xlabel('epoch')\n",
    "# plt.legend(['train', 'test'], loc='upper left')\n",
    "# plt.show()\n",
    "\n",
    "# # summarize history for loss\n",
    "# plt.plot(history.history['loss'])\n",
    "# plt.plot(history.history['val_loss'])\n",
    "# plt.title('model loss')\n",
    "# plt.ylabel('loss')\n",
    "# plt.xlabel('epoch')\n",
    "# plt.legend(['train', 'test'], loc='upper left')\n",
    "# plt.show()"
   ]
  },
  {
   "cell_type": "markdown",
   "id": "5ffc4013",
   "metadata": {},
   "source": [
    "# AUC - ROC"
   ]
  },
  {
   "cell_type": "code",
   "execution_count": 21,
   "id": "ce4a8d20",
   "metadata": {},
   "outputs": [
    {
     "data": {
      "image/png": "[encoded data removed]",
      "text/plain": [
       "<Figure size 500x500 with 1 Axes>"
      ]
     },
     "metadata": {
      "needs_background": "light"
     },
     "output_type": "display_data"
    }
   ],
   "source": [
    "from sklearn.metrics import roc_curve, auc\n",
    "\n",
    "fpr, tpr, threshold = roc_curve(y_test, y_pred[:,1])\n",
    "auc_mlp = auc(fpr,tpr)\n",
    "\n",
    "plt.figure(figsize=(5,5), dpi=100)\n",
    "plt.plot(fpr, tpr, linestyle = '-', label = 'MLP (auc = %0.3f)' % auc_mlp)\n",
    "\n",
    "plt.xlabel('False Positive Rate -->')\n",
    "plt.ylabel('True Positive Rate -->')\n",
    "plt.legend()\n",
    "plt.show()"
   ]
  },
  {
   "cell_type": "markdown",
   "id": "358108db",
   "metadata": {},
   "source": [
    "# Model Save"
   ]
  },
  {
   "cell_type": "code",
   "execution_count": 23,
   "id": "0a004035",
   "metadata": {},
   "outputs": [],
   "source": [
    "model.save(\"C:/Users/norma/Desktop/BITIRME/Models/mlp2class.h5\")"
   ]
  },
  {
   "cell_type": "code",
   "execution_count": null,
   "id": "09c4ae7b",
   "metadata": {},
   "outputs": [],
   "source": []
  }
 ],
 "metadata": {
  "kernelspec": {
   "display_name": "Python 3 (ipykernel)",
   "language": "python",
   "name": "python3"
  },
  "language_info": {
   "codemirror_mode": {
    "name": "ipython",
    "version": 3
   },
   "file_extension": ".py",
   "mimetype": "text/x-python",
   "name": "python",
   "nbconvert_exporter": "python",
   "pygments_lexer": "ipython3",
   "version": "3.9.7"
  }
 },
 "nbformat": 4,
 "nbformat_minor": 5
}
