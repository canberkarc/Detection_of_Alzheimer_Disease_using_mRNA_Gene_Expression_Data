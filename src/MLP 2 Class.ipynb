{
 "cells": [
  {
   "cell_type": "code",
   "execution_count": 17,
   "id": "292aeac3",
   "metadata": {},
   "outputs": [],
   "source": [
    "from tensorflow import keras\n",
    "import matplotlib.pyplot as plt\n",
    "import numpy as np\n",
    "import pandas as pd\n",
    "from keras.layers import *\n",
    "from keras.models import *\n",
    "from keras.optimizers import *\n",
    "from sklearn.decomposition import PCA\n",
    "from sklearn.compose import make_column_transformer\n",
    "from sklearn.preprocessing import OneHotEncoder\n",
    "from sklearn.metrics import accuracy_score\n",
    "from sklearn.model_selection import train_test_split\n",
    "from tensorflow.keras.callbacks import EarlyStopping, ModelCheckpoint, TensorBoard\n",
    "from sklearn.metrics import plot_confusion_matrix, confusion_matrix, classification_report\n",
    "from tensorflow.python.keras.optimizer_v2.adam import Adam\n",
    "import seaborn as sns"
   ]
  },
  {
   "cell_type": "code",
   "execution_count": 26,
   "id": "20232eda",
   "metadata": {},
   "outputs": [
    {
     "name": "stdout",
     "output_type": "stream",
     "text": [
      "(1262, 11619)\n"
     ]
    },
    {
     "data": {
      "text/plain": [
       "(949, 11619)"
      ]
     },
     "execution_count": 26,
     "metadata": {},
     "output_type": "execute_result"
    }
   ],
   "source": [
    "df = pd.read_csv('C:/Users/norma/Desktop/BITIRME/(Mcisiz)GSE_OrtakData_NormR.csv', sep = \";\", decimal=\",\")\n",
    "print(df.shape)\n",
    "df = df[df.Class != 2]\n",
    "df.shape"
   ]
  },
  {
   "cell_type": "code",
   "execution_count": 27,
   "id": "ad961e9c",
   "metadata": {},
   "outputs": [],
   "source": [
    "features = df.drop('Class',axis=1)\n",
    "labels_dr = 'C:/Users/norma/Desktop/BITIRME/gse_less_feature.csv'\n",
    "labels_df = pd.read_csv(labels_dr, sep = ',')\n",
    "labels = labels_df.iloc[:949,:2]"
   ]
  },
  {
   "cell_type": "code",
   "execution_count": 28,
   "id": "4f18a67c",
   "metadata": {},
   "outputs": [],
   "source": [
    "labels = labels_df.iloc[:949,:2]"
   ]
  },
  {
   "cell_type": "code",
   "execution_count": 29,
   "id": "bbb4b27b",
   "metadata": {},
   "outputs": [],
   "source": [
    "pca = PCA(n_components = 225).fit(features)\n",
    "principalComponents = pca.fit_transform(features)\n",
    "columns = ['Pc' + str(i) for i in range(1,226)]\n",
    "principalDf = pd.DataFrame(data = principalComponents\n",
    "             , columns = columns)"
   ]
  },
  {
   "cell_type": "code",
   "execution_count": 30,
   "id": "1e376f91",
   "metadata": {},
   "outputs": [],
   "source": [
    "x_train_225, x_test_225, y_train_225, y_test_225 = train_test_split(principalDf, labels, test_size= 0.2, random_state=42)\n",
    "#x_train_225, x_val_225, y_train_225, y_val_225 = train_test_split(x_train_225, y_train_225, test_size=0.25, random_state= 42)"
   ]
  },
  {
   "cell_type": "code",
   "execution_count": 31,
   "id": "d50f287d",
   "metadata": {},
   "outputs": [],
   "source": [
    "y_train_225 = y_train_225.astype(int)\n",
    "y_test_225 = y_test_225.astype(int)\n",
    "#y_val_225 = y_val_225.astype(int)"
   ]
  },
  {
   "cell_type": "markdown",
   "id": "569f3028",
   "metadata": {},
   "source": [
    "## MODEL"
   ]
  },
  {
   "cell_type": "code",
   "execution_count": 32,
   "id": "8d8aa9a5",
   "metadata": {},
   "outputs": [],
   "source": [
    "opt = tf.keras.optimizers.Adam(0.0001)"
   ]
  },
  {
   "cell_type": "code",
   "execution_count": 44,
   "id": "bfd8c7c2",
   "metadata": {},
   "outputs": [],
   "source": [
    "# repeat some of the initial values here so we make sure they were not changed\n",
    "input_dim = principalDf.shape[1]\n",
    "\n",
    "# let's create a function that creates the model (required for KerasClassifier) \n",
    "# while accepting the hyperparameters we want to tune \n",
    "# we also pass some default values such as optimizer='rmsprop'\n",
    "def build_model(optimizer=opt, init_mode='he_uniform'):\n",
    "    model = Sequential()\n",
    "    model.add(Dense(64, input_dim=input_dim, kernel_initializer=init_mode, activation='relu'))\n",
    "    model.add(Dropout(0.1))\n",
    "    model.add(Dense(64, kernel_initializer=init_mode, activation='relu'))\n",
    "    model.add(Dense(128, kernel_initializer=init_mode, activation='relu'))\n",
    "    model.add(Dense(128, kernel_initializer=init_mode, activation='relu'))\n",
    "    model.add(Dense(256, kernel_initializer=init_mode, activation='relu'))\n",
    "    model.add(Dense(256, kernel_initializer=init_mode, activation='relu'))\n",
    "    model.add(Dense(512, kernel_initializer=init_mode, activation='relu'))\n",
    "    model.add(Dense(512, kernel_initializer=init_mode, activation='relu'))\n",
    "    model.add(Dropout(0.1))\n",
    "    model.add(Dense(256, kernel_initializer=init_mode, activation='relu'))\n",
    "    model.add(Dropout(0.1))\n",
    "    model.add(Dense(256, kernel_initializer=init_mode, activation='relu'))\n",
    "    model.add(Dropout(0.1))\n",
    "    model.add(Dense(128, kernel_initializer=init_mode, activation='relu'))\n",
    "    model.add(Dropout(0.1))\n",
    "    model.add(Dense(128, kernel_initializer=init_mode, activation='relu'))\n",
    "\n",
    "    model.add(Dense(64, kernel_initializer=init_mode, activation='relu'))\n",
    "\n",
    "    model.add(Dense(64, kernel_initializer=init_mode, activation='relu'))\n",
    "\n",
    "    model.add(Dense(32, kernel_initializer=init_mode, activation='relu'))\n",
    "    model.add(Dense(32, kernel_initializer=init_mode, activation='relu'))\n",
    "    model.add(Dense(2, kernel_initializer=init_mode, activation='softmax'))\n",
    "\n",
    "    # compile model\n",
    "    model.compile(loss='categorical_crossentropy', \n",
    "                  optimizer='adam', \n",
    "                  metrics=['accuracy'])\n",
    "\n",
    "    return model"
   ]
  },
  {
   "cell_type": "code",
   "execution_count": 45,
   "id": "110217c1",
   "metadata": {
    "scrolled": true
   },
   "outputs": [
    {
     "name": "stdout",
     "output_type": "stream",
     "text": [
      "Epoch 1/50\n",
      "29/29 [==============================] - ETA: 0s - loss: 0.7267 - accuracy: 0.4743\n",
      "Epoch 1: val_accuracy improved from -inf to 0.52105, saving model to C:/Users/norma/Desktop/BITIRME/Models/MLP\\best_model.01-0.5211.h5\n",
      "29/29 [==============================] - 1s 23ms/step - loss: 0.7267 - accuracy: 0.4743 - val_loss: 0.6819 - val_accuracy: 0.5211\n",
      "Epoch 2/50\n",
      "24/29 [=======================>......] - ETA: 0s - loss: 0.6978 - accuracy: 0.5139\n",
      "Epoch 2: val_accuracy did not improve from 0.52105\n",
      "29/29 [==============================] - 0s 10ms/step - loss: 0.6996 - accuracy: 0.4967 - val_loss: 0.6849 - val_accuracy: 0.5000\n",
      "Epoch 3/50\n",
      "24/29 [=======================>......] - ETA: 0s - loss: 0.6849 - accuracy: 0.5123\n",
      "Epoch 3: val_accuracy improved from 0.52105 to 0.65263, saving model to C:/Users/norma/Desktop/BITIRME/Models/MLP\\best_model.03-0.6526.h5\n",
      "29/29 [==============================] - 0s 14ms/step - loss: 0.6835 - accuracy: 0.5244 - val_loss: 0.6534 - val_accuracy: 0.6526\n",
      "Epoch 4/50\n",
      "24/29 [=======================>......] - ETA: 0s - loss: 0.6836 - accuracy: 0.5463\n",
      "Epoch 4: val_accuracy did not improve from 0.65263\n",
      "29/29 [==============================] - 0s 10ms/step - loss: 0.6879 - accuracy: 0.5455 - val_loss: 0.6745 - val_accuracy: 0.5895\n",
      "Epoch 5/50\n",
      "24/29 [=======================>......] - ETA: 0s - loss: 0.6668 - accuracy: 0.5540\n",
      "Epoch 5: val_accuracy did not improve from 0.65263\n",
      "29/29 [==============================] - 0s 10ms/step - loss: 0.6682 - accuracy: 0.5547 - val_loss: 0.6820 - val_accuracy: 0.5842\n",
      "Epoch 6/50\n",
      "28/29 [===========================>..] - ETA: 0s - loss: 0.6580 - accuracy: 0.5860\n",
      "Epoch 6: val_accuracy did not improve from 0.65263\n",
      "29/29 [==============================] - 0s 12ms/step - loss: 0.6575 - accuracy: 0.5876 - val_loss: 0.8453 - val_accuracy: 0.5000\n",
      "Epoch 7/50\n",
      "26/29 [=========================>....] - ETA: 0s - loss: 0.6644 - accuracy: 0.5755\n",
      "Epoch 7: val_accuracy improved from 0.65263 to 0.68421, saving model to C:/Users/norma/Desktop/BITIRME/Models/MLP\\best_model.07-0.6842.h5\n",
      "29/29 [==============================] - 0s 15ms/step - loss: 0.6660 - accuracy: 0.5705 - val_loss: 0.5961 - val_accuracy: 0.6842\n",
      "Epoch 8/50\n",
      "24/29 [=======================>......] - ETA: 0s - loss: 0.6396 - accuracy: 0.6528\n",
      "Epoch 8: val_accuracy improved from 0.68421 to 0.68947, saving model to C:/Users/norma/Desktop/BITIRME/Models/MLP\\best_model.08-0.6895.h5\n",
      "29/29 [==============================] - 0s 17ms/step - loss: 0.6308 - accuracy: 0.6601 - val_loss: 0.5809 - val_accuracy: 0.6895\n",
      "Epoch 9/50\n",
      "24/29 [=======================>......] - ETA: 0s - loss: 0.5646 - accuracy: 0.6991\n",
      "Epoch 9: val_accuracy improved from 0.68947 to 0.72632, saving model to C:/Users/norma/Desktop/BITIRME/Models/MLP\\best_model.09-0.7263.h5\n",
      "29/29 [==============================] - 0s 13ms/step - loss: 0.5749 - accuracy: 0.6917 - val_loss: 0.6230 - val_accuracy: 0.7263\n",
      "Epoch 10/50\n",
      "26/29 [=========================>....] - ETA: 0s - loss: 0.5232 - accuracy: 0.7379\n",
      "Epoch 10: val_accuracy did not improve from 0.72632\n",
      "29/29 [==============================] - 0s 12ms/step - loss: 0.5235 - accuracy: 0.7404 - val_loss: 0.7129 - val_accuracy: 0.6158\n",
      "Epoch 11/50\n",
      "26/29 [=========================>....] - ETA: 0s - loss: 0.5140 - accuracy: 0.7479\n",
      "Epoch 11: val_accuracy did not improve from 0.72632\n",
      "29/29 [==============================] - 0s 12ms/step - loss: 0.5099 - accuracy: 0.7510 - val_loss: 0.6003 - val_accuracy: 0.6316\n",
      "Epoch 12/50\n",
      "27/29 [==========================>...] - ETA: 0s - loss: 0.4546 - accuracy: 0.7846\n",
      "Epoch 12: val_accuracy did not improve from 0.72632\n",
      "29/29 [==============================] - 0s 12ms/step - loss: 0.4503 - accuracy: 0.7905 - val_loss: 0.6813 - val_accuracy: 0.6737\n",
      "Epoch 13/50\n",
      "28/29 [===========================>..] - ETA: 0s - loss: 0.3854 - accuracy: 0.8347\n",
      "Epoch 13: val_accuracy did not improve from 0.72632\n",
      "29/29 [==============================] - 0s 11ms/step - loss: 0.3855 - accuracy: 0.8340 - val_loss: 0.6148 - val_accuracy: 0.7211\n",
      "Epoch 13: early stopping\n"
     ]
    }
   ],
   "source": [
    "ckpt = keras.callbacks.ModelCheckpoint(\n",
    "        filepath='C:/Users/norma/Desktop/BITIRME/Models/MLP/best_model.{epoch:02d}-{val_accuracy:.4f}.h5',\n",
    "        monitor='val_accuracy', save_best_only=True,verbose=1)\n",
    "\n",
    "callbacks = [EarlyStopping(monitor='val_accuracy', patience=4, mode='auto', verbose=1, min_delta=0.0001),\n",
    "         ckpt]\n",
    "\n",
    "model = build_model(principalDf.shape[1])\n",
    "history = model.fit(\n",
    "          x = np.asarray(x_train_225).astype('float32'),\n",
    "          y = y_train_225,\n",
    "          steps_per_epoch=len(principalDf)//32,\n",
    "          validation_data=(x_test_225, y_test_225),\n",
    "          epochs=50,\n",
    "          callbacks=[callbacks]\n",
    "          )\n",
    "model.save(\"finishModel.h5\")"
   ]
  },
  {
   "cell_type": "code",
   "execution_count": 46,
   "id": "04e57d21",
   "metadata": {},
   "outputs": [],
   "source": [
    "y_pred = model.predict(x_test_225)\n",
    "y_pred = np.argmax(y_pred, axis=1)\n",
    "\n",
    "class_d = 'C:/Users/norma/Desktop/BITIRME/duzgun_GSE_OrtakData_NormR.csv'\n",
    "class_df = pd.read_csv(class_d, sep = ';', decimal = ',')\n",
    "class_df = class_df[class_df.Class != 2]\n",
    "#creating instance of one-hot-encoder\n",
    "encoder = OneHotEncoder(handle_unknown='ignore')\n",
    "\n",
    "encoder_df = pd.DataFrame(encoder.fit_transform(class_df[['Class']]).toarray())\n",
    "encoder_df.columns = ['AD','CTL']\n",
    "\n",
    "y_test = encoder.inverse_transform(y_test_225).ravel()"
   ]
  },
  {
   "cell_type": "code",
   "execution_count": 47,
   "id": "3543cd7a",
   "metadata": {},
   "outputs": [
    {
     "name": "stdout",
     "output_type": "stream",
     "text": [
      "Classification report : \n",
      "               precision    recall  f1-score   support\n",
      "\n",
      "           1       0.74      0.68      0.71        95\n",
      "           0       0.71      0.76      0.73        95\n",
      "\n",
      "    accuracy                           0.72       190\n",
      "   macro avg       0.72      0.72      0.72       190\n",
      "weighted avg       0.72      0.72      0.72       190\n",
      "\n"
     ]
    },
    {
     "data": {
      "image/png": "[encoded data removed]",
      "text/plain": [
       "<Figure size 432x288 with 2 Axes>"
      ]
     },
     "metadata": {
      "needs_background": "light"
     },
     "output_type": "display_data"
    }
   ],
   "source": [
    "# classification report for precision, recall f1-score and accuracy\n",
    "matrix = classification_report(y_test,y_pred,labels=[1,0])\n",
    "print('Classification report : \\n',matrix)\n",
    "\n",
    "labels = ['AD','CTL']\n",
    "ax= plt.subplot()\n",
    "\n",
    "# confusion matrix\n",
    "matrix = confusion_matrix(\n",
    "    y_test, y_pred)\n",
    "\n",
    "sns.heatmap(matrix, annot=True, fmt='g', ax=ax);  #annot=True to annotate cells, ftm='g' to disable scientific notation\n",
    "\n",
    "# labels, title and ticks\n",
    "ax.set_xlabel('Predicted labels');ax.set_ylabel('True labels'); \n",
    "ax.set_title('Confusion Matrix'); \n",
    "ax.xaxis.set_ticklabels(labels); ax.yaxis.set_ticklabels(labels);"
   ]
  },
  {
   "cell_type": "code",
   "execution_count": 48,
   "id": "0a20fd6e",
   "metadata": {},
   "outputs": [
    {
     "name": "stdout",
     "output_type": "stream",
     "text": [
      "0.7210526315789474\n"
     ]
    }
   ],
   "source": [
    "print(accuracy_score(y_test,y_pred))"
   ]
  },
  {
   "cell_type": "code",
   "execution_count": 49,
   "id": "6fcce83d",
   "metadata": {},
   "outputs": [
    {
     "name": "stdout",
     "output_type": "stream",
     "text": [
      "\n",
      "\n",
      "dict_keys(['loss', 'accuracy', 'val_loss', 'val_accuracy'])\n"
     ]
    },
    {
     "data": {
      "image/png": "[encoded data removed]",
      "text/plain": [
       "<Figure size 432x288 with 1 Axes>"
      ]
     },
     "metadata": {
      "needs_background": "light"
     },
     "output_type": "display_data"
    },
    {
     "data": {
      "image/png": "[encoded data removed]",
      "text/plain": [
       "<Figure size 432x288 with 1 Axes>"
      ]
     },
     "metadata": {
      "needs_background": "light"
     },
     "output_type": "display_data"
    }
   ],
   "source": [
    "print(\"\\n\")\n",
    "print(history.history.keys())\n",
    "\n",
    "# summarize history for accuracy\n",
    "plt.plot(history.history['accuracy'])\n",
    "plt.plot(history.history['val_accuracy'])\n",
    "plt.title('model accuracy')\n",
    "plt.ylabel('accuracy')\n",
    "plt.xlabel('epoch')\n",
    "plt.legend(['train', 'test'], loc='upper left')\n",
    "plt.show()\n",
    "\n",
    "# summarize history for loss\n",
    "plt.plot(history.history['loss'])\n",
    "plt.plot(history.history['val_loss'])\n",
    "plt.title('model loss')\n",
    "plt.ylabel('loss')\n",
    "plt.xlabel('epoch')\n",
    "plt.legend(['train', 'test'], loc='upper left')\n",
    "plt.show()"
   ]
  },
  {
   "cell_type": "code",
   "execution_count": null,
   "id": "f3485420",
   "metadata": {},
   "outputs": [],
   "source": []
  },
  {
   "cell_type": "code",
   "execution_count": null,
   "id": "ce4a8d20",
   "metadata": {},
   "outputs": [],
   "source": []
  }
 ],
 "metadata": {
  "kernelspec": {
   "display_name": "Python 3 (ipykernel)",
   "language": "python",
   "name": "python3"
  },
  "language_info": {
   "codemirror_mode": {
    "name": "ipython",
    "version": 3
   },
   "file_extension": ".py",
   "mimetype": "text/x-python",
   "name": "python",
   "nbconvert_exporter": "python",
   "pygments_lexer": "ipython3",
   "version": "3.9.7"
  }
 },
 "nbformat": 4,
 "nbformat_minor": 5
}
