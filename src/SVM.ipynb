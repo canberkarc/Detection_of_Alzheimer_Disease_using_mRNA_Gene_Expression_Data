{
 "cells": [
  {
   "cell_type": "code",
   "execution_count": 1,
   "id": "01548baa",
   "metadata": {},
   "outputs": [],
   "source": [
    "import matplotlib.pyplot as plt\n",
    "import numpy as np\n",
    "import pandas as pd\n",
    "from keras.optimizers import *\n",
    "from sklearn.decomposition import PCA\n",
    "from sklearn.compose import make_column_transformer\n",
    "from sklearn.preprocessing import OneHotEncoder\n",
    "from sklearn.metrics import accuracy_score\n",
    "from sklearn.model_selection import train_test_split, validation_curve, GridSearchCV, ShuffleSplit, learning_curve\n",
    "from sklearn.metrics import plot_confusion_matrix, confusion_matrix, classification_report\n",
    "from sklearn.svm import SVC\n",
    "import seaborn as sns\n",
    "from sklearn.multiclass import OneVsRestClassifier\n",
    "import joblib\n",
    "from sklearn.pipeline import Pipeline"
   ]
  },
  {
   "cell_type": "markdown",
   "id": "49815b29",
   "metadata": {},
   "source": [
    "# READ DATASET"
   ]
  },
  {
   "cell_type": "code",
   "execution_count": 2,
   "id": "7e957950",
   "metadata": {},
   "outputs": [],
   "source": [
    "df = pd.read_csv('C:/Users/norma/Desktop/BİTİRME/BITIRME/Without_MCI_GSE_OrtakData_NormR.csv', sep = \";\", decimal=\",\")\n",
    "# Keeping only 2 classes which are AD and CTL\n",
    "df = df[df.Class != 2]"
   ]
  },
  {
   "cell_type": "code",
   "execution_count": 3,
   "id": "5b666c55",
   "metadata": {},
   "outputs": [],
   "source": [
    "features = df.drop('Class',axis=1)\n",
    "labels_dr = 'C:/Users/norma/Desktop/BİTİRME/BITIRME/OneHotEncoded_Labels.csv'\n",
    "labels_df = pd.read_csv(labels_dr, sep = ',')\n",
    "labels = labels_df.iloc[:949,:2]"
   ]
  },
  {
   "cell_type": "markdown",
   "id": "04c6dacc",
   "metadata": {},
   "source": [
    "# PCA"
   ]
  },
  {
   "cell_type": "code",
   "execution_count": 4,
   "id": "39becdb3",
   "metadata": {},
   "outputs": [],
   "source": [
    "n_components = 225\n",
    "pca = PCA(n_components = n_components).fit(features)\n",
    "principalComponents = pca.fit_transform(features)\n",
    "columns = ['Pc' + str(i) for i in range(1,n_components+1)]\n",
    "principalDf = pd.DataFrame(data = principalComponents\n",
    "             , columns = columns)"
   ]
  },
  {
   "cell_type": "code",
   "execution_count": 5,
   "id": "d7fa92ee",
   "metadata": {},
   "outputs": [],
   "source": [
    "x_train, x_test, y_train, y_test = train_test_split(principalDf, labels, test_size = 0.22, random_state=41)"
   ]
  },
  {
   "cell_type": "markdown",
   "id": "c71e1e73",
   "metadata": {},
   "source": [
    "# SELECT OPTIMAL PARAMETERS WITH GRIDSEARCHCV"
   ]
  },
  {
   "cell_type": "code",
   "execution_count": 6,
   "id": "c00d1469",
   "metadata": {},
   "outputs": [
    {
     "name": "stdout",
     "output_type": "stream",
     "text": [
      "Fitting 5 folds for each of 432 candidates, totalling 2160 fits\n",
      "              precision    recall  f1-score   support\n",
      "\n",
      "           0       0.65      0.78      0.71        87\n",
      "           1       0.82      0.70      0.75       122\n",
      "\n",
      "   micro avg       0.73      0.73      0.73       209\n",
      "   macro avg       0.73      0.74      0.73       209\n",
      "weighted avg       0.75      0.73      0.73       209\n",
      " samples avg       0.73      0.73      0.73       209\n",
      "\n"
     ]
    }
   ],
   "source": [
    "clf = OneVsRestClassifier(SVC())\n",
    "\n",
    "# defining parameter range\n",
    "param_grid = {\"estimator__C\": [0.1, 1, 10, 100, 1000, 10000],\n",
    "               \"estimator__gamma\": [1, 0.1, 0.01, 0.001, 0.0001, 0.00001],\n",
    "               \"estimator__kernel\": ['rbf', 'poly', 'sigmoid'],\n",
    "               \"estimator__degree\":[1, 2, 3, 4]\n",
    "             }\n",
    " \n",
    "grid = GridSearchCV(clf, param_grid, refit = True, verbose = 1)\n",
    "\n",
    "grid.fit(x_train,y_train)\n",
    "y_pred = grid.predict(x_test)\n",
    "print(classification_report(y_test, y_pred))\n"
   ]
  },
  {
   "cell_type": "code",
   "execution_count": 7,
   "id": "0895631f",
   "metadata": {},
   "outputs": [
    {
     "name": "stdout",
     "output_type": "stream",
     "text": [
      "{'estimator__C': 1000, 'estimator__degree': 1, 'estimator__gamma': 0.001, 'estimator__kernel': 'sigmoid'}\n",
      "OneVsRestClassifier(estimator=SVC(C=1000, degree=1, gamma=0.001,\n",
      "                                  kernel='sigmoid'))\n"
     ]
    },
    {
     "data": {
      "text/plain": [
       "0.7243243243243243"
      ]
     },
     "execution_count": 7,
     "metadata": {},
     "output_type": "execute_result"
    }
   ],
   "source": [
    "# print best parameter after tuning\n",
    "print(grid.best_params_)\n",
    "\n",
    "# print how our model looks after hyper-parameter tuning\n",
    "print(grid.best_estimator_)\n",
    "\n",
    "grid.best_score_"
   ]
  },
  {
   "cell_type": "code",
   "execution_count": 8,
   "id": "dd9b3179",
   "metadata": {},
   "outputs": [],
   "source": [
    "class_d = 'C:/Users/norma/Desktop/BİTİRME/BITIRME/LabelEncoded_GSE_OrtakData_NormR.csv'\n",
    "class_df = pd.read_csv(class_d, sep = ';', decimal = ',')\n",
    "class_df = class_df[class_df.Class != 2]\n",
    "\n",
    "#creating instance of one-hot-encoder\n",
    "encoder = OneHotEncoder(handle_unknown='ignore')\n",
    "\n",
    "encoder_df = pd.DataFrame(encoder.fit_transform(class_df[['Class']]).toarray())\n",
    "encoder_df.columns = ['AD','CTL']\n",
    "\n",
    "y_test_ = encoder.inverse_transform(y_test).ravel()"
   ]
  },
  {
   "cell_type": "markdown",
   "id": "c3f965a3",
   "metadata": {},
   "source": [
    "# The Optimal SVM Model"
   ]
  },
  {
   "cell_type": "code",
   "execution_count": 9,
   "id": "616f41f2",
   "metadata": {},
   "outputs": [],
   "source": [
    "optimal_svm = Pipeline([ ('clf', OneVsRestClassifier(estimator=SVC(C=1000, degree=1, gamma=0.001, kernel='sigmoid'))) ])\n",
    "\n",
    "optimal_svm.fit(x_train, y_train)\n",
    "\n",
    "y_pred = optimal_svm.predict(x_test)\n",
    "\n",
    "y_pred_ = np.argmax(y_pred, axis=1)"
   ]
  },
  {
   "cell_type": "markdown",
   "id": "01661195",
   "metadata": {},
   "source": [
    "# Confusion Matrix"
   ]
  },
  {
   "cell_type": "code",
   "execution_count": 10,
   "id": "dd1e81f5",
   "metadata": {},
   "outputs": [
    {
     "name": "stdout",
     "output_type": "stream",
     "text": [
      "Classification report : \n",
      "               precision    recall  f1-score   support\n",
      "\n",
      "           0       0.65      0.78      0.71        87\n",
      "           1       0.82      0.70      0.75       122\n",
      "\n",
      "    accuracy                           0.73       209\n",
      "   macro avg       0.73      0.74      0.73       209\n",
      "weighted avg       0.75      0.73      0.73       209\n",
      "\n"
     ]
    },
    {
     "data": {
      "image/png": "[encoded data removed]",
      "text/plain": [
       "<Figure size 432x288 with 2 Axes>"
      ]
     },
     "metadata": {
      "needs_background": "light"
     },
     "output_type": "display_data"
    }
   ],
   "source": [
    "# classification report for precision, recall f1-score and accuracy\n",
    "matrix = classification_report(y_test_, y_pred_, labels=[0,1])\n",
    "print('Classification report : \\n',matrix)\n",
    "\n",
    "labels_ = ['AD','CTL']\n",
    "ax= plt.subplot()\n",
    "\n",
    "# confusion matrix\n",
    "matrix = confusion_matrix(\n",
    "    y_test_, y_pred_)\n",
    "\n",
    "sns.heatmap(matrix, annot=True, fmt='g', ax=ax);  #annot=True to annotate cells, ftm='g' to disable scientific notation\n",
    "\n",
    "# labels, title and ticks\n",
    "ax.set_xlabel('Predicted labels');ax.set_ylabel('True labels'); \n",
    "ax.set_title('Confusion Matrix'); \n",
    "ax.xaxis.set_ticklabels(labels); ax.yaxis.set_ticklabels(labels_);"
   ]
  },
  {
   "cell_type": "markdown",
   "id": "04a352ca",
   "metadata": {},
   "source": [
    "# AUC-ROC"
   ]
  },
  {
   "cell_type": "code",
   "execution_count": 11,
   "id": "b6215e3e",
   "metadata": {},
   "outputs": [
    {
     "data": {
      "image/png": "[encoded data removed]",
      "text/plain": [
       "<Figure size 500x500 with 1 Axes>"
      ]
     },
     "metadata": {
      "needs_background": "light"
     },
     "output_type": "display_data"
    }
   ],
   "source": [
    "from sklearn.metrics import roc_curve, auc\n",
    "\n",
    "fpr, tpr, threshold = roc_curve(y_test_, y_pred[:,1])\n",
    "auc_svm = auc(fpr,tpr)\n",
    "\n",
    "plt.figure(figsize=(5,5), dpi=100)\n",
    "plt.plot(fpr, tpr, linestyle = '-', label = 'SVM (auc = %0.3f)' % auc_svm)\n",
    "\n",
    "plt.xlabel('False Positive Rate -->')\n",
    "plt.ylabel('True Positive Rate -->')\n",
    "plt.legend()\n",
    "plt.show()"
   ]
  },
  {
   "cell_type": "markdown",
   "id": "cf61c0b3",
   "metadata": {},
   "source": [
    "# Save Model"
   ]
  },
  {
   "cell_type": "code",
   "execution_count": 12,
   "id": "4c8f10ed",
   "metadata": {},
   "outputs": [
    {
     "data": {
      "text/plain": [
       "['C:/Users/norma/Desktop/src/SVM.h5']"
      ]
     },
     "execution_count": 12,
     "metadata": {},
     "output_type": "execute_result"
    }
   ],
   "source": [
    "filename = 'C:/Users/norma/Desktop/src/SVM.h5'\n",
    "joblib.dump(optimal_svm, filename)"
   ]
  },
  {
   "cell_type": "markdown",
   "id": "cd35ec9e",
   "metadata": {},
   "source": [
    "# Load Model"
   ]
  },
  {
   "cell_type": "code",
   "execution_count": 13,
   "id": "1a158082",
   "metadata": {},
   "outputs": [],
   "source": [
    "clf_ = joblib.load(filename)\n",
    "clf_.fit(x_train, y_train)\n",
    "y_pred = clf_.predict(x_test)\n",
    "\n",
    "y_pred_ = np.argmax(y_pred, axis=1)"
   ]
  },
  {
   "cell_type": "code",
   "execution_count": 14,
   "id": "8c588fa7",
   "metadata": {},
   "outputs": [
    {
     "data": {
      "image/png": "[encoded data removed]",
      "text/plain": [
       "<Figure size 500x500 with 1 Axes>"
      ]
     },
     "metadata": {
      "needs_background": "light"
     },
     "output_type": "display_data"
    }
   ],
   "source": [
    "from sklearn.metrics import roc_curve, auc\n",
    "\n",
    "fpr, tpr, threshold = roc_curve(y_test_, y_pred[:,1])\n",
    "auc_rf = auc(fpr,tpr)\n",
    "\n",
    "plt.figure(figsize=(5,5), dpi=100)\n",
    "plt.plot(fpr, tpr, linestyle = '-', label = 'SVM (auc = %0.3f)' % auc_rf)\n",
    "\n",
    "plt.xlabel('False Positive Rate -->')\n",
    "plt.ylabel('True Positive Rate -->')\n",
    "plt.legend()\n",
    "plt.show()"
   ]
  },
  {
   "cell_type": "code",
   "execution_count": null,
   "id": "b87a00e8",
   "metadata": {},
   "outputs": [],
   "source": []
  }
 ],
 "metadata": {
  "kernelspec": {
   "display_name": "Python 3 (ipykernel)",
   "language": "python",
   "name": "python3"
  },
  "language_info": {
   "codemirror_mode": {
    "name": "ipython",
    "version": 3
   },
   "file_extension": ".py",
   "mimetype": "text/x-python",
   "name": "python",
   "nbconvert_exporter": "python",
   "pygments_lexer": "ipython3",
   "version": "3.9.7"
  }
 },
 "nbformat": 4,
 "nbformat_minor": 5
}
