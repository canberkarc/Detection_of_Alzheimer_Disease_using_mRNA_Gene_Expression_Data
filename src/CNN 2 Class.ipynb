{
 "cells": [
  {
   "cell_type": "code",
   "execution_count": 44,
   "id": "04d06235",
   "metadata": {},
   "outputs": [],
   "source": [
    "import keras\n",
    "import matplotlib.pyplot as plt\n",
    "import numpy as np\n",
    "import pandas as pd\n",
    "from keras.layers import *\n",
    "from keras.models import *\n",
    "from keras.optimizers import *\n",
    "from sklearn.decomposition import PCA\n",
    "from sklearn.compose import make_column_transformer\n",
    "from sklearn.preprocessing import OneHotEncoder\n",
    "from sklearn.metrics import accuracy_score, roc_auc_score\n",
    "from sklearn.model_selection import train_test_split\n",
    "from tensorflow.keras.callbacks import EarlyStopping, ModelCheckpoint, TensorBoard\n",
    "from sklearn.metrics import plot_confusion_matrix, confusion_matrix, classification_report\n",
    "import seaborn as sns\n",
    "from sklearn import metrics\n",
    "import joblib"
   ]
  },
  {
   "cell_type": "code",
   "execution_count": 2,
   "id": "35fa3a33",
   "metadata": {},
   "outputs": [
    {
     "name": "stdout",
     "output_type": "stream",
     "text": [
      "(1262, 11619)\n"
     ]
    },
    {
     "data": {
      "text/plain": [
       "(949, 11619)"
      ]
     },
     "execution_count": 2,
     "metadata": {},
     "output_type": "execute_result"
    }
   ],
   "source": [
    "df = pd.read_csv('C:/Users/norma/Desktop/BITIRME/(Mcisiz)GSE_OrtakData_NormR.csv', sep = \";\", decimal=\",\")\n",
    "print(df.shape)\n",
    "df = df[df.Class != 2]\n",
    "df.shape"
   ]
  },
  {
   "cell_type": "code",
   "execution_count": 3,
   "id": "b7dc8bbf",
   "metadata": {},
   "outputs": [],
   "source": [
    "features = df.drop('Class',axis=1)\n",
    "labels_dr = 'C:/Users/norma/Desktop/BITIRME/gse_less_feature.csv'\n",
    "labels_df = pd.read_csv(labels_dr, sep = ',')\n",
    "labels = labels_df.iloc[:949,:2]"
   ]
  },
  {
   "cell_type": "code",
   "execution_count": 4,
   "id": "e7a19757",
   "metadata": {},
   "outputs": [],
   "source": [
    "n_components = 225\n",
    "pca = PCA(n_components = n_components).fit(features)\n",
    "principalComponents = pca.fit_transform(features)\n",
    "columns = ['Pc' + str(i) for i in range(1,n_components+1)]\n",
    "principalDf = pd.DataFrame(data = principalComponents\n",
    "             , columns = columns)"
   ]
  },
  {
   "cell_type": "code",
   "execution_count": 5,
   "id": "b6f9394e",
   "metadata": {},
   "outputs": [],
   "source": [
    "Batch_size = 32\n",
    "def build_model(TIME_PERIODS):\n",
    "    input_shape=(TIME_PERIODS,)\n",
    "    model = Sequential()\n",
    "    model.add(keras.Input(shape=(TIME_PERIODS,1)))\n",
    "    model.add(Conv1D(512, 2,strides=2,input_shape=(TIME_PERIODS,1)))\n",
    "    model.add(Activation('relu'))\n",
    "    model.add(Conv1D(512, 2,strides=2, kernel_initializer='glorot_uniform', padding=\"same\"))\n",
    "    model.add(Activation('relu'))\n",
    "    \n",
    "    model.add(Conv1D(256, 2,strides=2, kernel_initializer='glorot_uniform', padding=\"same\"))\n",
    "    model.add(Activation('relu'))\n",
    "    model.add(Conv1D(256, 2,strides=2, kernel_initializer='glorot_uniform', padding=\"same\"))\n",
    "    model.add(Activation('relu'))\n",
    "    model.add(Conv1D(128, 2,strides=2, kernel_initializer='glorot_uniform', padding=\"same\"))\n",
    "    model.add(Activation('relu'))\n",
    "    model.add(Conv1D(128, 2,strides=2, kernel_initializer='glorot_uniform', padding=\"same\"))\n",
    "    model.add(Activation('relu'))\n",
    "    model.add(Conv1D(64, 1,strides=2, kernel_initializer='glorot_uniform', padding=\"same\"))\n",
    "    model.add(Activation('relu'))\n",
    "    model.add(Conv1D(64, 1,strides=2, kernel_initializer='glorot_uniform', padding=\"same\"))\n",
    "    model.add(Activation('relu'))\n",
    "    model.add(Conv1D(32, 1,strides=1, kernel_initializer='glorot_uniform', padding=\"same\"))\n",
    "    model.add(Activation('relu'))\n",
    "#     model.add(Conv1D(128, 2,strides=1, kernel_initializer='glorot_normal', padding=\"same\"))\n",
    "#     model.add(Activation('relu'))\n",
    "    model.add(Dropout(0.3))\n",
    "    model.add(Dense(32))\n",
    "    model.add(Activation('relu'))\n",
    "    model.add(GlobalAveragePooling1D())\n",
    "    model.add(Dropout(0.3))\n",
    "    model.add(Dense(2))\n",
    "    model.add(Activation('softmax'))\n",
    "    return(model)\n",
    "\n"
   ]
  },
  {
   "cell_type": "code",
   "execution_count": 6,
   "id": "25667231",
   "metadata": {},
   "outputs": [],
   "source": [
    "x_train_225, x_test_225, y_train_225, y_test_225 = train_test_split(principalDf, labels, test_size= 0.2, random_state=42)\n",
    "#x_train_225, x_val_225, y_train_225, y_val_225 = train_test_split(x_train_225, y_train_225, test_size=0.25, random_state= 42)"
   ]
  },
  {
   "cell_type": "code",
   "execution_count": 7,
   "id": "2004d85c",
   "metadata": {},
   "outputs": [],
   "source": [
    "y_train_225 = y_train_225.astype(int)\n",
    "y_test_225 = y_test_225.astype(int)\n",
    "#y_val_225 = y_val_225.astype(int)"
   ]
  },
  {
   "cell_type": "code",
   "execution_count": 8,
   "id": "42141eed",
   "metadata": {},
   "outputs": [],
   "source": [
    "ckpt = keras.callbacks.ModelCheckpoint(\n",
    "        filepath='C:/Users/norma/Desktop/BITIRME/Models/CNN/best_model.{epoch:02d}-{val_accuracy:.4f}.h5',\n",
    "        monitor='val_accuracy', save_best_only=True,verbose=1)\n",
    "\n",
    "callbacks = [EarlyStopping(monitor='val_accuracy', patience=10, mode='auto', verbose=1, min_delta=0.0001),\n",
    "         ckpt]\n",
    "\n",
    "model_225 = build_model(principalDf.shape[1])\n",
    "opt = tf.keras.optimizers.Adam(0.0001)\n",
    "model_225.compile(loss='categorical_crossentropy',\n",
    "            optimizer=opt, metrics=['accuracy'])"
   ]
  },
  {
   "cell_type": "code",
   "execution_count": 9,
   "id": "7cd499c8",
   "metadata": {},
   "outputs": [
    {
     "name": "stdout",
     "output_type": "stream",
     "text": [
      "Epoch 1/30\n",
      "28/29 [===========================>..] - ETA: 0s - loss: 0.6926 - accuracy: 0.4921\n",
      "Epoch 1: val_accuracy improved from -inf to 0.50000, saving model to C:/Users/norma/Desktop/BITIRME/Models/CNN\\best_model.01-0.5000.h5\n",
      "29/29 [==============================] - 4s 116ms/step - loss: 0.6927 - accuracy: 0.4928 - val_loss: 0.6916 - val_accuracy: 0.5000\n",
      "Epoch 2/30\n",
      "28/29 [===========================>..] - ETA: 0s - loss: 0.6913 - accuracy: 0.5278\n",
      "Epoch 2: val_accuracy did not improve from 0.50000\n",
      "29/29 [==============================] - 3s 96ms/step - loss: 0.6910 - accuracy: 0.5296 - val_loss: 0.6890 - val_accuracy: 0.5000\n",
      "Epoch 3/30\n",
      "28/29 [===========================>..] - ETA: 0s - loss: 0.6890 - accuracy: 0.5159\n",
      "Epoch 3: val_accuracy did not improve from 0.50000\n",
      "29/29 [==============================] - 3s 101ms/step - loss: 0.6891 - accuracy: 0.5152 - val_loss: 0.6854 - val_accuracy: 0.5000\n",
      "Epoch 4/30\n",
      "28/29 [===========================>..] - ETA: 0s - loss: 0.6919 - accuracy: 0.5053\n",
      "Epoch 4: val_accuracy did not improve from 0.50000\n",
      "29/29 [==============================] - 3s 98ms/step - loss: 0.6919 - accuracy: 0.5059 - val_loss: 0.6859 - val_accuracy: 0.5000\n",
      "Epoch 5/30\n",
      "28/29 [===========================>..] - ETA: 0s - loss: 0.6881 - accuracy: 0.5053\n",
      "Epoch 5: val_accuracy improved from 0.50000 to 0.50526, saving model to C:/Users/norma/Desktop/BITIRME/Models/CNN\\best_model.05-0.5053.h5\n",
      "29/29 [==============================] - 3s 102ms/step - loss: 0.6879 - accuracy: 0.5059 - val_loss: 0.6814 - val_accuracy: 0.5053\n",
      "Epoch 6/30\n",
      "28/29 [===========================>..] - ETA: 0s - loss: 0.6843 - accuracy: 0.5225\n",
      "Epoch 6: val_accuracy improved from 0.50526 to 0.58947, saving model to C:/Users/norma/Desktop/BITIRME/Models/CNN\\best_model.06-0.5895.h5\n",
      "29/29 [==============================] - 3s 103ms/step - loss: 0.6840 - accuracy: 0.5244 - val_loss: 0.6746 - val_accuracy: 0.5895\n",
      "Epoch 7/30\n",
      "28/29 [===========================>..] - ETA: 0s - loss: 0.6825 - accuracy: 0.5820\n",
      "Epoch 7: val_accuracy improved from 0.58947 to 0.65263, saving model to C:/Users/norma/Desktop/BITIRME/Models/CNN\\best_model.07-0.6526.h5\n",
      "29/29 [==============================] - 3s 103ms/step - loss: 0.6824 - accuracy: 0.5810 - val_loss: 0.6714 - val_accuracy: 0.6526\n",
      "Epoch 8/30\n",
      "28/29 [===========================>..] - ETA: 0s - loss: 0.6742 - accuracy: 0.6151\n",
      "Epoch 8: val_accuracy did not improve from 0.65263\n",
      "29/29 [==============================] - 3s 95ms/step - loss: 0.6746 - accuracy: 0.6126 - val_loss: 0.6513 - val_accuracy: 0.6316\n",
      "Epoch 9/30\n",
      "28/29 [===========================>..] - ETA: 0s - loss: 0.6633 - accuracy: 0.6310\n",
      "Epoch 9: val_accuracy did not improve from 0.65263\n",
      "29/29 [==============================] - 3s 93ms/step - loss: 0.6624 - accuracy: 0.6324 - val_loss: 0.6403 - val_accuracy: 0.6316\n",
      "Epoch 10/30\n",
      "28/29 [===========================>..] - ETA: 0s - loss: 0.6456 - accuracy: 0.6627\n",
      "Epoch 10: val_accuracy did not improve from 0.65263\n",
      "29/29 [==============================] - 3s 96ms/step - loss: 0.6461 - accuracy: 0.6614 - val_loss: 0.6360 - val_accuracy: 0.6421\n",
      "Epoch 11/30\n",
      "28/29 [===========================>..] - ETA: 0s - loss: 0.6440 - accuracy: 0.6217\n",
      "Epoch 11: val_accuracy improved from 0.65263 to 0.71579, saving model to C:/Users/norma/Desktop/BITIRME/Models/CNN\\best_model.11-0.7158.h5\n",
      "29/29 [==============================] - 3s 116ms/step - loss: 0.6438 - accuracy: 0.6219 - val_loss: 0.6032 - val_accuracy: 0.7158\n",
      "Epoch 12/30\n",
      "28/29 [===========================>..] - ETA: 0s - loss: 0.5956 - accuracy: 0.6944\n",
      "Epoch 12: val_accuracy did not improve from 0.71579\n",
      "29/29 [==============================] - 3s 102ms/step - loss: 0.5954 - accuracy: 0.6957 - val_loss: 0.5690 - val_accuracy: 0.6842\n",
      "Epoch 13/30\n",
      "28/29 [===========================>..] - ETA: 0s - loss: 0.5713 - accuracy: 0.7116\n",
      "Epoch 13: val_accuracy did not improve from 0.71579\n",
      "29/29 [==============================] - 3s 98ms/step - loss: 0.5702 - accuracy: 0.7128 - val_loss: 0.5708 - val_accuracy: 0.7158\n",
      "Epoch 14/30\n",
      "28/29 [===========================>..] - ETA: 0s - loss: 0.5691 - accuracy: 0.7288\n",
      "Epoch 14: val_accuracy did not improve from 0.71579\n",
      "29/29 [==============================] - 4s 124ms/step - loss: 0.5680 - accuracy: 0.7299 - val_loss: 0.5657 - val_accuracy: 0.7000\n",
      "Epoch 15/30\n",
      "28/29 [===========================>..] - ETA: 0s - loss: 0.5405 - accuracy: 0.7394\n",
      "Epoch 15: val_accuracy did not improve from 0.71579\n",
      "29/29 [==============================] - 3s 100ms/step - loss: 0.5410 - accuracy: 0.7391 - val_loss: 0.5556 - val_accuracy: 0.7053\n",
      "Epoch 16/30\n",
      "28/29 [===========================>..] - ETA: 0s - loss: 0.5343 - accuracy: 0.7513\n",
      "Epoch 16: val_accuracy did not improve from 0.71579\n",
      "29/29 [==============================] - 3s 102ms/step - loss: 0.5339 - accuracy: 0.7510 - val_loss: 0.5497 - val_accuracy: 0.7105\n",
      "Epoch 17/30\n",
      "28/29 [===========================>..] - ETA: 0s - loss: 0.5228 - accuracy: 0.7619\n",
      "Epoch 17: val_accuracy did not improve from 0.71579\n",
      "29/29 [==============================] - 3s 105ms/step - loss: 0.5229 - accuracy: 0.7615 - val_loss: 0.5576 - val_accuracy: 0.7158\n",
      "Epoch 18/30\n",
      "28/29 [===========================>..] - ETA: 0s - loss: 0.4937 - accuracy: 0.7672\n",
      "Epoch 18: val_accuracy did not improve from 0.71579\n",
      "29/29 [==============================] - 3s 102ms/step - loss: 0.4957 - accuracy: 0.7668 - val_loss: 0.5575 - val_accuracy: 0.6789\n",
      "Epoch 19/30\n",
      "28/29 [===========================>..] - ETA: 0s - loss: 0.4982 - accuracy: 0.7791\n",
      "Epoch 19: val_accuracy improved from 0.71579 to 0.74737, saving model to C:/Users/norma/Desktop/BITIRME/Models/CNN\\best_model.19-0.7474.h5\n",
      "29/29 [==============================] - 3s 103ms/step - loss: 0.4985 - accuracy: 0.7787 - val_loss: 0.5414 - val_accuracy: 0.7474\n",
      "Epoch 20/30\n",
      "28/29 [===========================>..] - ETA: 0s - loss: 0.4800 - accuracy: 0.7725\n",
      "Epoch 20: val_accuracy did not improve from 0.74737\n",
      "29/29 [==============================] - 3s 102ms/step - loss: 0.4800 - accuracy: 0.7734 - val_loss: 0.5445 - val_accuracy: 0.7368\n",
      "Epoch 21/30\n",
      "28/29 [===========================>..] - ETA: 0s - loss: 0.4444 - accuracy: 0.8201\n",
      "Epoch 21: val_accuracy did not improve from 0.74737\n",
      "29/29 [==============================] - 3s 102ms/step - loss: 0.4435 - accuracy: 0.8208 - val_loss: 0.5703 - val_accuracy: 0.7158\n",
      "Epoch 22/30\n",
      "28/29 [===========================>..] - ETA: 0s - loss: 0.4337 - accuracy: 0.8175\n",
      "Epoch 22: val_accuracy did not improve from 0.74737\n",
      "29/29 [==============================] - 3s 108ms/step - loss: 0.4363 - accuracy: 0.8155 - val_loss: 0.5991 - val_accuracy: 0.6684\n",
      "Epoch 23/30\n",
      "28/29 [===========================>..] - ETA: 0s - loss: 0.4956 - accuracy: 0.7804\n",
      "Epoch 23: val_accuracy did not improve from 0.74737\n",
      "29/29 [==============================] - 3s 103ms/step - loss: 0.4951 - accuracy: 0.7813 - val_loss: 0.5710 - val_accuracy: 0.7000\n",
      "Epoch 24/30\n",
      "28/29 [===========================>..] - ETA: 0s - loss: 0.4366 - accuracy: 0.8294\n",
      "Epoch 24: val_accuracy did not improve from 0.74737\n",
      "29/29 [==============================] - 3s 107ms/step - loss: 0.4367 - accuracy: 0.8287 - val_loss: 0.5896 - val_accuracy: 0.6947\n",
      "Epoch 25/30\n",
      "28/29 [===========================>..] - ETA: 0s - loss: 0.4588 - accuracy: 0.8122\n",
      "Epoch 25: val_accuracy did not improve from 0.74737\n",
      "29/29 [==============================] - 3s 111ms/step - loss: 0.4581 - accuracy: 0.8129 - val_loss: 0.5776 - val_accuracy: 0.7053\n",
      "Epoch 26/30\n",
      "28/29 [===========================>..] - ETA: 0s - loss: 0.4328 - accuracy: 0.8307\n",
      "Epoch 26: val_accuracy did not improve from 0.74737\n",
      "29/29 [==============================] - 3s 102ms/step - loss: 0.4325 - accuracy: 0.8314 - val_loss: 0.6029 - val_accuracy: 0.7105\n",
      "Epoch 27/30\n",
      "28/29 [===========================>..] - ETA: 0s - loss: 0.4035 - accuracy: 0.8426\n",
      "Epoch 27: val_accuracy did not improve from 0.74737\n",
      "29/29 [==============================] - 4s 122ms/step - loss: 0.4026 - accuracy: 0.8432 - val_loss: 0.5881 - val_accuracy: 0.7316\n",
      "Epoch 28/30\n",
      "28/29 [===========================>..] - ETA: 0s - loss: 0.3924 - accuracy: 0.8519\n",
      "Epoch 28: val_accuracy did not improve from 0.74737\n",
      "29/29 [==============================] - 3s 111ms/step - loss: 0.3913 - accuracy: 0.8524 - val_loss: 0.5934 - val_accuracy: 0.6895\n"
     ]
    },
    {
     "name": "stdout",
     "output_type": "stream",
     "text": [
      "Epoch 29/30\n",
      "28/29 [===========================>..] - ETA: 0s - loss: 0.3687 - accuracy: 0.8677\n",
      "Epoch 29: val_accuracy did not improve from 0.74737\n",
      "29/29 [==============================] - 3s 105ms/step - loss: 0.3680 - accuracy: 0.8682 - val_loss: 0.6036 - val_accuracy: 0.7000\n",
      "Epoch 29: early stopping\n"
     ]
    }
   ],
   "source": [
    "history_225 = model_225.fit(\n",
    "      x_train_225,y_train_225,\n",
    "      steps_per_epoch=len(principalDf)//Batch_size,\n",
    "      validation_data=(x_test_225, y_test_225),\n",
    "      epochs=30,\n",
    "      callbacks=[callbacks]\n",
    "      )\n",
    "\n",
    "y_pred_225 = model_225.predict(x_test_225)"
   ]
  },
  {
   "cell_type": "markdown",
   "id": "af8070d3",
   "metadata": {},
   "source": [
    "# Load Model"
   ]
  },
  {
   "cell_type": "code",
   "execution_count": 50,
   "id": "fd27e582",
   "metadata": {},
   "outputs": [],
   "source": [
    "cnn_model = tf.keras.models.load_model(\"C:/Users/norma/Desktop/BITIRME/Models/cnn2class.h5\")"
   ]
  },
  {
   "cell_type": "code",
   "execution_count": 10,
   "id": "92a75015",
   "metadata": {},
   "outputs": [],
   "source": [
    "class_d = 'C:/Users/norma/Desktop/BITIRME/duzgun_GSE_OrtakData_NormR.csv'\n",
    "class_df = pd.read_csv(class_d, sep = ';', decimal = ',')\n",
    "class_df = class_df[class_df.Class != 2]\n",
    "\n",
    "#creating instance of one-hot-encoder\n",
    "encoder = OneHotEncoder(handle_unknown='ignore')\n",
    "\n",
    "encoder_df = pd.DataFrame(encoder.fit_transform(class_df[['Class']]).toarray())\n",
    "encoder_df.columns = ['AD','CTL']\n",
    "\n",
    "y_test = encoder.inverse_transform(y_test_225).ravel()"
   ]
  },
  {
   "cell_type": "code",
   "execution_count": 11,
   "id": "1a091ba8",
   "metadata": {},
   "outputs": [],
   "source": [
    "y_pred = np.argmax(y_pred_225, axis=1)"
   ]
  },
  {
   "cell_type": "code",
   "execution_count": 20,
   "id": "253746e3",
   "metadata": {},
   "outputs": [
    {
     "name": "stderr",
     "output_type": "stream",
     "text": [
      "C:\\ProgramData\\Anaconda3\\lib\\site-packages\\sklearn\\metrics\\_ranking.py:999: UndefinedMetricWarning: No positive samples in y_true, true positive value should be meaningless\n",
      "  warnings.warn(\n"
     ]
    }
   ],
   "source": [
    "fpr, tpr, thresholds = metrics.roc_curve(y_pred, y_test, pos_label=2)"
   ]
  },
  {
   "cell_type": "code",
   "execution_count": null,
   "id": "63f3767a",
   "metadata": {},
   "outputs": [],
   "source": [
    "# classification report for precision, recall f1-score and accuracy\n",
    "matrix = classification_report(y_test,y_pred,labels=[0,1])\n",
    "print('Classification report : \\n',matrix)\n",
    "\n",
    "labels_ = ['AD','CTL']\n",
    "ax= plt.subplot()\n",
    "\n",
    "# confusion matrix\n",
    "matrix = confusion_matrix(\n",
    "    y_test, y_pred)\n",
    "\n",
    "sns.heatmap(matrix, annot=True, fmt='g', ax=ax);  #annot=True to annotate cells, ftm='g' to disable scientific notation\n",
    "\n",
    "# labels, title and ticks\n",
    "ax.set_xlabel('Predicted labels');ax.set_ylabel('True labels'); \n",
    "ax.set_title('Confusion Matrix'); \n",
    "ax.xaxis.set_ticklabels(labels); ax.yaxis.set_ticklabels(labels_);"
   ]
  },
  {
   "cell_type": "code",
   "execution_count": null,
   "id": "5dbf469e",
   "metadata": {},
   "outputs": [],
   "source": [
    "print(\"\\n\")\n",
    "print(history_225.history.keys())\n",
    "\n",
    "# summarize history for accuracy\n",
    "plt.plot(history_225.history['accuracy'])\n",
    "plt.plot(history_225.history['val_accuracy'])\n",
    "plt.title('model accuracy')\n",
    "plt.ylabel('accuracy')\n",
    "plt.xlabel('epoch')\n",
    "plt.legend(['train', 'test'], loc='upper left')\n",
    "plt.show()\n",
    "\n",
    "# summarize history for loss\n",
    "plt.plot(history_225.history['loss'])\n",
    "plt.plot(history_225.history['val_loss'])\n",
    "plt.title('model loss')\n",
    "plt.ylabel('loss')\n",
    "plt.xlabel('epoch')\n",
    "plt.legend(['train', 'test'], loc='upper left')\n",
    "plt.show()"
   ]
  },
  {
   "cell_type": "code",
   "execution_count": 36,
   "id": "417bcfbc",
   "metadata": {},
   "outputs": [
    {
     "data": {
      "image/png": "[encoded data removed]",
      "text/plain": [
       "<Figure size 500x500 with 1 Axes>"
      ]
     },
     "metadata": {
      "needs_background": "light"
     },
     "output_type": "display_data"
    }
   ],
   "source": [
    "from sklearn.metrics import roc_curve, auc\n",
    "\n",
    "fpr, tpr, threshold = roc_curve(y_test, y_pred_225[:,1])\n",
    "auc_cnn = auc(fpr,tpr)\n",
    "\n",
    "plt.figure(figsize=(5,5), dpi=100)\n",
    "plt.plot(fpr, tpr, linestyle = '-', label = 'CNN (auc = %0.3f)' % auc_cnn)\n",
    "\n",
    "plt.xlabel('False Positive Rate -->')\n",
    "plt.ylabel('True Positive Rate -->')\n",
    "plt.legend()\n",
    "plt.show()"
   ]
  },
  {
   "cell_type": "markdown",
   "id": "9ecc4f4c",
   "metadata": {},
   "source": [
    "# Save Model"
   ]
  },
  {
   "cell_type": "code",
   "execution_count": 49,
   "id": "9a17dd1e",
   "metadata": {},
   "outputs": [],
   "source": [
    "model_225.save(\"C:/Users/norma/Desktop/BITIRME/Models/cnn2class.h5\")"
   ]
  },
  {
   "cell_type": "code",
   "execution_count": null,
   "id": "1e58b8ca",
   "metadata": {},
   "outputs": [],
   "source": []
  }
 ],
 "metadata": {
  "kernelspec": {
   "display_name": "Python 3 (ipykernel)",
   "language": "python",
   "name": "python3"
  },
  "language_info": {
   "codemirror_mode": {
    "name": "ipython",
    "version": 3
   },
   "file_extension": ".py",
   "mimetype": "text/x-python",
   "name": "python",
   "nbconvert_exporter": "python",
   "pygments_lexer": "ipython3",
   "version": "3.9.7"
  }
 },
 "nbformat": 4,
 "nbformat_minor": 5
}
