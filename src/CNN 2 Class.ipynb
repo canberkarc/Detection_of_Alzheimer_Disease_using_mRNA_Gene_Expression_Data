{
 "cells": [
  {
   "cell_type": "code",
   "execution_count": 1,
   "id": "04d06235",
   "metadata": {},
   "outputs": [],
   "source": [
    "import keras\n",
    "import matplotlib.pyplot as plt\n",
    "import numpy as np\n",
    "import pandas as pd\n",
    "from keras.layers import *\n",
    "from keras.models import *\n",
    "from keras.optimizers import *\n",
    "from sklearn.decomposition import PCA\n",
    "from sklearn.compose import make_column_transformer\n",
    "from sklearn.preprocessing import OneHotEncoder\n",
    "from sklearn.metrics import accuracy_score\n",
    "from sklearn.model_selection import train_test_split\n",
    "from tensorflow.keras.callbacks import EarlyStopping, ModelCheckpoint, TensorBoard\n",
    "from sklearn.metrics import plot_confusion_matrix, confusion_matrix, classification_report\n",
    "import seaborn as sns"
   ]
  },
  {
   "cell_type": "code",
   "execution_count": 2,
   "id": "35fa3a33",
   "metadata": {},
   "outputs": [
    {
     "name": "stdout",
     "output_type": "stream",
     "text": [
      "(1262, 11619)\n"
     ]
    },
    {
     "data": {
      "text/plain": [
       "(949, 11619)"
      ]
     },
     "execution_count": 2,
     "metadata": {},
     "output_type": "execute_result"
    }
   ],
   "source": [
    "df = pd.read_csv('C:/Users/norma/Desktop/BITIRME/(Mcisiz)GSE_OrtakData_NormR.csv', sep = \";\", decimal=\",\")\n",
    "print(df.shape)\n",
    "df = df[df.Class != 2]\n",
    "df.shape"
   ]
  },
  {
   "cell_type": "code",
   "execution_count": 3,
   "id": "b7dc8bbf",
   "metadata": {},
   "outputs": [],
   "source": [
    "features = df.drop('Class',axis=1)\n",
    "labels_dr = 'C:/Users/norma/Desktop/BITIRME/gse_less_feature.csv'\n",
    "labels_df = pd.read_csv(labels_dr, sep = ',')\n",
    "labels = labels_df.iloc[:949,:2]"
   ]
  },
  {
   "cell_type": "code",
   "execution_count": 4,
   "id": "e7a19757",
   "metadata": {},
   "outputs": [],
   "source": [
    "pca = PCA(n_components = 225).fit(features)\n",
    "principalComponents = pca.fit_transform(features)\n",
    "columns = ['Pc' + str(i) for i in range(1,226)]\n",
    "principalDf = pd.DataFrame(data = principalComponents\n",
    "             , columns = columns)"
   ]
  },
  {
   "cell_type": "code",
   "execution_count": 5,
   "id": "b6f9394e",
   "metadata": {},
   "outputs": [],
   "source": [
    "Batch_size = 32\n",
    "def build_model(TIME_PERIODS):\n",
    "    input_shape=(TIME_PERIODS,)\n",
    "    model = Sequential()\n",
    "    model.add(keras.Input(shape=(TIME_PERIODS,1)))\n",
    "    model.add(Conv1D(512, 2,strides=2,input_shape=(TIME_PERIODS,1)))\n",
    "    model.add(Activation('relu'))\n",
    "    model.add(Conv1D(512, 2,strides=2, kernel_initializer='glorot_uniform', padding=\"same\"))\n",
    "    model.add(Activation('relu'))\n",
    "    \n",
    "    model.add(Conv1D(256, 2,strides=2, kernel_initializer='glorot_uniform', padding=\"same\"))\n",
    "    model.add(Activation('relu'))\n",
    "    model.add(Conv1D(256, 2,strides=2, kernel_initializer='glorot_uniform', padding=\"same\"))\n",
    "    model.add(Activation('relu'))\n",
    "    model.add(Conv1D(128, 2,strides=2, kernel_initializer='glorot_uniform', padding=\"same\"))\n",
    "    model.add(Activation('relu'))\n",
    "    model.add(Conv1D(128, 2,strides=2, kernel_initializer='glorot_uniform', padding=\"same\"))\n",
    "    model.add(Activation('relu'))\n",
    "    model.add(Conv1D(64, 1,strides=2, kernel_initializer='glorot_uniform', padding=\"same\"))\n",
    "    model.add(Activation('relu'))\n",
    "    model.add(Conv1D(64, 1,strides=2, kernel_initializer='glorot_uniform', padding=\"same\"))\n",
    "    model.add(Activation('relu'))\n",
    "    model.add(Conv1D(32, 1,strides=1, kernel_initializer='glorot_uniform', padding=\"same\"))\n",
    "    model.add(Activation('relu'))\n",
    "#     model.add(Conv1D(128, 2,strides=1, kernel_initializer='glorot_normal', padding=\"same\"))\n",
    "#     model.add(Activation('relu'))\n",
    "    model.add(Dropout(0.3))\n",
    "    model.add(Dense(32))\n",
    "    model.add(Activation('relu'))\n",
    "    model.add(GlobalAveragePooling1D())\n",
    "    model.add(Dropout(0.3))\n",
    "    model.add(Dense(2))\n",
    "    model.add(Activation('softmax'))\n",
    "    return(model)\n",
    "\n"
   ]
  },
  {
   "cell_type": "code",
   "execution_count": 6,
   "id": "25667231",
   "metadata": {},
   "outputs": [],
   "source": [
    "x_train_225, x_test_225, y_train_225, y_test_225 = train_test_split(principalDf, labels, test_size= 0.2, random_state=42)\n",
    "#x_train_225, x_val_225, y_train_225, y_val_225 = train_test_split(x_train_225, y_train_225, test_size=0.25, random_state= 42)"
   ]
  },
  {
   "cell_type": "code",
   "execution_count": 7,
   "id": "2004d85c",
   "metadata": {},
   "outputs": [],
   "source": [
    "y_train_225 = y_train_225.astype(int)\n",
    "y_test_225 = y_test_225.astype(int)\n",
    "#y_val_225 = y_val_225.astype(int)"
   ]
  },
  {
   "cell_type": "code",
   "execution_count": 8,
   "id": "42141eed",
   "metadata": {},
   "outputs": [],
   "source": [
    "ckpt = keras.callbacks.ModelCheckpoint(\n",
    "        filepath='C:/Users/norma/Desktop/BITIRME/Models/CNN/best_model.{epoch:02d}-{val_accuracy:.4f}.h5',\n",
    "        monitor='val_accuracy', save_best_only=True,verbose=1)\n",
    "\n",
    "callbacks = [EarlyStopping(monitor='val_accuracy', patience=10, mode='auto', verbose=1, min_delta=0.0001),\n",
    "         ckpt]\n",
    "\n",
    "model_225 = build_model(principalDf.shape[1])\n",
    "opt = tf.keras.optimizers.Adam(0.0001)\n",
    "model_225.compile(loss='categorical_crossentropy',\n",
    "            optimizer=opt, metrics=['accuracy'])"
   ]
  },
  {
   "cell_type": "code",
   "execution_count": 9,
   "id": "7cd499c8",
   "metadata": {},
   "outputs": [
    {
     "name": "stdout",
     "output_type": "stream",
     "text": [
      "Epoch 1/50\n",
      "28/29 [===========================>..] - ETA: 0s - loss: 0.6926 - accuracy: 0.5198\n",
      "Epoch 1: val_accuracy improved from -inf to 0.50000, saving model to C:/Users/norma/Desktop/BITIRME/Models/CNN\\best_model.01-0.5000.h5\n",
      "29/29 [==============================] - 5s 124ms/step - loss: 0.6926 - accuracy: 0.5204 - val_loss: 0.6890 - val_accuracy: 0.5000\n",
      "Epoch 2/50\n",
      "28/29 [===========================>..] - ETA: 0s - loss: 0.6901 - accuracy: 0.5119\n",
      "Epoch 2: val_accuracy did not improve from 0.50000\n",
      "29/29 [==============================] - 3s 114ms/step - loss: 0.6902 - accuracy: 0.5099 - val_loss: 0.6863 - val_accuracy: 0.5000\n",
      "Epoch 3/50\n",
      "28/29 [===========================>..] - ETA: 0s - loss: 0.6893 - accuracy: 0.5040\n",
      "Epoch 3: val_accuracy improved from 0.50000 to 0.57368, saving model to C:/Users/norma/Desktop/BITIRME/Models/CNN\\best_model.03-0.5737.h5\n",
      "29/29 [==============================] - 3s 112ms/step - loss: 0.6889 - accuracy: 0.5046 - val_loss: 0.6837 - val_accuracy: 0.5737\n",
      "Epoch 4/50\n",
      "28/29 [===========================>..] - ETA: 0s - loss: 0.6864 - accuracy: 0.5450\n",
      "Epoch 4: val_accuracy did not improve from 0.57368\n",
      "29/29 [==============================] - 3s 116ms/step - loss: 0.6863 - accuracy: 0.5455 - val_loss: 0.6806 - val_accuracy: 0.5000\n",
      "Epoch 5/50\n",
      "28/29 [===========================>..] - ETA: 0s - loss: 0.6808 - accuracy: 0.5820\n",
      "Epoch 5: val_accuracy did not improve from 0.57368\n",
      "29/29 [==============================] - 3s 114ms/step - loss: 0.6807 - accuracy: 0.5823 - val_loss: 0.6723 - val_accuracy: 0.5211\n",
      "Epoch 6/50\n",
      "28/29 [===========================>..] - ETA: 0s - loss: 0.6691 - accuracy: 0.5807\n",
      "Epoch 6: val_accuracy improved from 0.57368 to 0.65789, saving model to C:/Users/norma/Desktop/BITIRME/Models/CNN\\best_model.06-0.6579.h5\n",
      "29/29 [==============================] - 4s 122ms/step - loss: 0.6702 - accuracy: 0.5797 - val_loss: 0.6511 - val_accuracy: 0.6579\n",
      "Epoch 7/50\n",
      "28/29 [===========================>..] - ETA: 0s - loss: 0.6677 - accuracy: 0.6296\n",
      "Epoch 7: val_accuracy did not improve from 0.65789\n",
      "29/29 [==============================] - 3s 117ms/step - loss: 0.6676 - accuracy: 0.6298 - val_loss: 0.6442 - val_accuracy: 0.6316\n",
      "Epoch 8/50\n",
      "28/29 [===========================>..] - ETA: 0s - loss: 0.6396 - accuracy: 0.6720\n",
      "Epoch 8: val_accuracy did not improve from 0.65789\n",
      "29/29 [==============================] - 3s 114ms/step - loss: 0.6394 - accuracy: 0.6719 - val_loss: 0.6185 - val_accuracy: 0.6526\n",
      "Epoch 9/50\n",
      "28/29 [===========================>..] - ETA: 0s - loss: 0.6338 - accuracy: 0.6455\n",
      "Epoch 9: val_accuracy improved from 0.65789 to 0.66316, saving model to C:/Users/norma/Desktop/BITIRME/Models/CNN\\best_model.09-0.6632.h5\n",
      "29/29 [==============================] - 3s 117ms/step - loss: 0.6342 - accuracy: 0.6443 - val_loss: 0.6220 - val_accuracy: 0.6632\n",
      "Epoch 10/50\n",
      "28/29 [===========================>..] - ETA: 0s - loss: 0.6192 - accuracy: 0.6733\n",
      "Epoch 10: val_accuracy improved from 0.66316 to 0.70526, saving model to C:/Users/norma/Desktop/BITIRME/Models/CNN\\best_model.10-0.7053.h5\n",
      "29/29 [==============================] - 3s 121ms/step - loss: 0.6199 - accuracy: 0.6719 - val_loss: 0.5890 - val_accuracy: 0.7053\n",
      "Epoch 11/50\n",
      "28/29 [===========================>..] - ETA: 0s - loss: 0.5943 - accuracy: 0.7143\n",
      "Epoch 11: val_accuracy did not improve from 0.70526\n",
      "29/29 [==============================] - 4s 126ms/step - loss: 0.5952 - accuracy: 0.7128 - val_loss: 0.5838 - val_accuracy: 0.6947\n",
      "Epoch 12/50\n",
      "28/29 [===========================>..] - ETA: 0s - loss: 0.5751 - accuracy: 0.7235\n",
      "Epoch 12: val_accuracy improved from 0.70526 to 0.71579, saving model to C:/Users/norma/Desktop/BITIRME/Models/CNN\\best_model.12-0.7158.h5\n",
      "29/29 [==============================] - 4s 129ms/step - loss: 0.5749 - accuracy: 0.7233 - val_loss: 0.5689 - val_accuracy: 0.7158\n",
      "Epoch 13/50\n",
      "28/29 [===========================>..] - ETA: 0s - loss: 0.5547 - accuracy: 0.7354\n",
      "Epoch 13: val_accuracy did not improve from 0.71579\n",
      "29/29 [==============================] - 3s 119ms/step - loss: 0.5554 - accuracy: 0.7325 - val_loss: 0.5739 - val_accuracy: 0.6684\n",
      "Epoch 14/50\n",
      "28/29 [===========================>..] - ETA: 0s - loss: 0.5320 - accuracy: 0.7394\n",
      "Epoch 14: val_accuracy improved from 0.71579 to 0.72632, saving model to C:/Users/norma/Desktop/BITIRME/Models/CNN\\best_model.14-0.7263.h5\n",
      "29/29 [==============================] - 3s 119ms/step - loss: 0.5313 - accuracy: 0.7404 - val_loss: 0.5395 - val_accuracy: 0.7263\n",
      "Epoch 15/50\n",
      "28/29 [===========================>..] - ETA: 0s - loss: 0.5084 - accuracy: 0.7672\n",
      "Epoch 15: val_accuracy did not improve from 0.72632\n",
      "29/29 [==============================] - 3s 114ms/step - loss: 0.5084 - accuracy: 0.7668 - val_loss: 0.5578 - val_accuracy: 0.7053\n",
      "Epoch 16/50\n",
      "28/29 [===========================>..] - ETA: 0s - loss: 0.5040 - accuracy: 0.7593\n",
      "Epoch 16: val_accuracy improved from 0.72632 to 0.73684, saving model to C:/Users/norma/Desktop/BITIRME/Models/CNN\\best_model.16-0.7368.h5\n",
      "29/29 [==============================] - 3s 114ms/step - loss: 0.5028 - accuracy: 0.7602 - val_loss: 0.5428 - val_accuracy: 0.7368\n",
      "Epoch 17/50\n",
      "28/29 [===========================>..] - ETA: 0s - loss: 0.4888 - accuracy: 0.7831\n",
      "Epoch 17: val_accuracy did not improve from 0.73684\n",
      "29/29 [==============================] - 4s 126ms/step - loss: 0.4878 - accuracy: 0.7839 - val_loss: 0.5774 - val_accuracy: 0.6842\n",
      "Epoch 18/50\n",
      "28/29 [===========================>..] - ETA: 0s - loss: 0.5069 - accuracy: 0.7738\n",
      "Epoch 18: val_accuracy did not improve from 0.73684\n",
      "29/29 [==============================] - 3s 118ms/step - loss: 0.5079 - accuracy: 0.7721 - val_loss: 0.5460 - val_accuracy: 0.7263\n",
      "Epoch 19/50\n",
      "28/29 [===========================>..] - ETA: 0s - loss: 0.5067 - accuracy: 0.7619\n",
      "Epoch 19: val_accuracy did not improve from 0.73684\n",
      "29/29 [==============================] - 3s 113ms/step - loss: 0.5061 - accuracy: 0.7628 - val_loss: 0.6529 - val_accuracy: 0.6684\n",
      "Epoch 20/50\n",
      "28/29 [===========================>..] - ETA: 0s - loss: 0.4812 - accuracy: 0.7963\n",
      "Epoch 20: val_accuracy did not improve from 0.73684\n",
      "29/29 [==============================] - 3s 112ms/step - loss: 0.4813 - accuracy: 0.7958 - val_loss: 0.5649 - val_accuracy: 0.7105\n",
      "Epoch 21/50\n",
      "28/29 [===========================>..] - ETA: 0s - loss: 0.4355 - accuracy: 0.8108\n",
      "Epoch 21: val_accuracy improved from 0.73684 to 0.74211, saving model to C:/Users/norma/Desktop/BITIRME/Models/CNN\\best_model.21-0.7421.h5\n",
      "29/29 [==============================] - 3s 117ms/step - loss: 0.4348 - accuracy: 0.8116 - val_loss: 0.5548 - val_accuracy: 0.7421\n",
      "Epoch 22/50\n",
      "28/29 [===========================>..] - ETA: 0s - loss: 0.4087 - accuracy: 0.8320\n",
      "Epoch 22: val_accuracy did not improve from 0.74211\n",
      "29/29 [==============================] - 3s 118ms/step - loss: 0.4084 - accuracy: 0.8314 - val_loss: 0.5763 - val_accuracy: 0.7158\n",
      "Epoch 23/50\n",
      "28/29 [===========================>..] - ETA: 0s - loss: 0.4504 - accuracy: 0.8069\n",
      "Epoch 23: val_accuracy did not improve from 0.74211\n",
      "29/29 [==============================] - 4s 126ms/step - loss: 0.4494 - accuracy: 0.8076 - val_loss: 0.6055 - val_accuracy: 0.6474\n",
      "Epoch 24/50\n",
      "28/29 [===========================>..] - ETA: 0s - loss: 0.4238 - accuracy: 0.8095\n",
      "Epoch 24: val_accuracy did not improve from 0.74211\n",
      "29/29 [==============================] - 3s 121ms/step - loss: 0.4230 - accuracy: 0.8103 - val_loss: 0.5733 - val_accuracy: 0.7211\n",
      "Epoch 25/50\n",
      "28/29 [===========================>..] - ETA: 0s - loss: 0.3832 - accuracy: 0.8558\n",
      "Epoch 25: val_accuracy did not improve from 0.74211\n",
      "29/29 [==============================] - 3s 120ms/step - loss: 0.3819 - accuracy: 0.8564 - val_loss: 0.6213 - val_accuracy: 0.7316\n",
      "Epoch 26/50\n",
      "28/29 [===========================>..] - ETA: 0s - loss: 0.3981 - accuracy: 0.8519\n",
      "Epoch 26: val_accuracy did not improve from 0.74211\n",
      "29/29 [==============================] - 3s 118ms/step - loss: 0.3972 - accuracy: 0.8524 - val_loss: 0.5732 - val_accuracy: 0.7263\n",
      "Epoch 27/50\n",
      "28/29 [===========================>..] - ETA: 0s - loss: 0.3894 - accuracy: 0.8479\n",
      "Epoch 27: val_accuracy did not improve from 0.74211\n",
      "29/29 [==============================] - 3s 116ms/step - loss: 0.3906 - accuracy: 0.8472 - val_loss: 0.6261 - val_accuracy: 0.7263\n"
     ]
    },
    {
     "name": "stdout",
     "output_type": "stream",
     "text": [
      "Epoch 28/50\n",
      "28/29 [===========================>..] - ETA: 0s - loss: 0.3595 - accuracy: 0.8664\n",
      "Epoch 28: val_accuracy did not improve from 0.74211\n",
      "29/29 [==============================] - 3s 119ms/step - loss: 0.3587 - accuracy: 0.8669 - val_loss: 0.6183 - val_accuracy: 0.6947\n",
      "Epoch 29/50\n",
      "28/29 [===========================>..] - ETA: 0s - loss: 0.3447 - accuracy: 0.8889\n",
      "Epoch 29: val_accuracy did not improve from 0.74211\n",
      "29/29 [==============================] - 3s 119ms/step - loss: 0.3445 - accuracy: 0.8893 - val_loss: 0.6934 - val_accuracy: 0.6789\n",
      "Epoch 30/50\n",
      "28/29 [===========================>..] - ETA: 0s - loss: 0.3172 - accuracy: 0.8902\n",
      "Epoch 30: val_accuracy did not improve from 0.74211\n",
      "29/29 [==============================] - 3s 116ms/step - loss: 0.3166 - accuracy: 0.8906 - val_loss: 0.6395 - val_accuracy: 0.7263\n",
      "Epoch 31/50\n",
      "28/29 [===========================>..] - ETA: 0s - loss: 0.3088 - accuracy: 0.8955\n",
      "Epoch 31: val_accuracy did not improve from 0.74211\n",
      "29/29 [==============================] - 3s 115ms/step - loss: 0.3106 - accuracy: 0.8946 - val_loss: 0.7448 - val_accuracy: 0.7368\n",
      "Epoch 31: early stopping\n"
     ]
    }
   ],
   "source": [
    "history_225 = model_225.fit(\n",
    "      x_train_225,y_train_225,\n",
    "      steps_per_epoch=len(principalDf)//Batch_size,\n",
    "      validation_data=(x_test_225, y_test_225),\n",
    "      epochs=50,\n",
    "      callbacks=[callbacks]\n",
    "      )\n",
    "\n",
    "y_pred_225 = model_225.predict(x_test_225)"
   ]
  },
  {
   "cell_type": "code",
   "execution_count": 10,
   "id": "92a75015",
   "metadata": {},
   "outputs": [],
   "source": [
    "class_d = 'C:/Users/norma/Desktop/BITIRME/duzgun_GSE_OrtakData_NormR.csv'\n",
    "class_df = pd.read_csv(class_d, sep = ';', decimal = ',')\n",
    "class_df = class_df[class_df.Class != 2]\n",
    "\n",
    "#creating instance of one-hot-encoder\n",
    "encoder = OneHotEncoder(handle_unknown='ignore')\n",
    "\n",
    "encoder_df = pd.DataFrame(encoder.fit_transform(class_df[['Class']]).toarray())\n",
    "encoder_df.columns = ['AD','CTL']\n",
    "\n",
    "y_test = encoder.inverse_transform(y_test_225).ravel()"
   ]
  },
  {
   "cell_type": "code",
   "execution_count": 11,
   "id": "1a091ba8",
   "metadata": {},
   "outputs": [],
   "source": [
    "y_pred = np.argmax(y_pred_225, axis=1)"
   ]
  },
  {
   "cell_type": "code",
   "execution_count": 12,
   "id": "5ee808cb",
   "metadata": {},
   "outputs": [
    {
     "name": "stdout",
     "output_type": "stream",
     "text": [
      "0.7368421052631579\n"
     ]
    }
   ],
   "source": [
    "print(accuracy_score(y_pred,y_test))"
   ]
  },
  {
   "cell_type": "code",
   "execution_count": 13,
   "id": "63f3767a",
   "metadata": {},
   "outputs": [
    {
     "name": "stdout",
     "output_type": "stream",
     "text": [
      "Classification report : \n",
      "               precision    recall  f1-score   support\n",
      "\n",
      "           1       0.79      0.64      0.71        95\n",
      "           0       0.70      0.83      0.76        95\n",
      "\n",
      "    accuracy                           0.74       190\n",
      "   macro avg       0.75      0.74      0.73       190\n",
      "weighted avg       0.75      0.74      0.73       190\n",
      "\n"
     ]
    },
    {
     "data": {
      "image/png": "[encoded data removed]",
      "text/plain": [
       "<Figure size 432x288 with 2 Axes>"
      ]
     },
     "metadata": {
      "needs_background": "light"
     },
     "output_type": "display_data"
    }
   ],
   "source": [
    "# classification report for precision, recall f1-score and accuracy\n",
    "matrix = classification_report(y_test,y_pred,labels=[1,0])\n",
    "print('Classification report : \\n',matrix)\n",
    "\n",
    "labels_ = ['AD','CTL']\n",
    "ax= plt.subplot()\n",
    "\n",
    "# confusion matrix\n",
    "matrix = confusion_matrix(\n",
    "    y_test, y_pred)\n",
    "\n",
    "sns.heatmap(matrix, annot=True, fmt='g', ax=ax);  #annot=True to annotate cells, ftm='g' to disable scientific notation\n",
    "\n",
    "# labels, title and ticks\n",
    "ax.set_xlabel('Predicted labels');ax.set_ylabel('True labels'); \n",
    "ax.set_title('Confusion Matrix'); \n",
    "ax.xaxis.set_ticklabels(labels); ax.yaxis.set_ticklabels(labels_);"
   ]
  },
  {
   "cell_type": "code",
   "execution_count": 14,
   "id": "5dbf469e",
   "metadata": {},
   "outputs": [
    {
     "name": "stdout",
     "output_type": "stream",
     "text": [
      "\n",
      "\n",
      "dict_keys(['loss', 'accuracy', 'val_loss', 'val_accuracy'])\n"
     ]
    },
    {
     "data": {
      "image/png": "[encoded data removed]",
      "text/plain": [
       "<Figure size 432x288 with 1 Axes>"
      ]
     },
     "metadata": {
      "needs_background": "light"
     },
     "output_type": "display_data"
    },
    {
     "data": {
      "image/png": "[encoded data removed]",
      "text/plain": [
       "<Figure size 432x288 with 1 Axes>"
      ]
     },
     "metadata": {
      "needs_background": "light"
     },
     "output_type": "display_data"
    }
   ],
   "source": [
    "print(\"\\n\")\n",
    "print(history_225.history.keys())\n",
    "\n",
    "# summarize history for accuracy\n",
    "plt.plot(history_225.history['accuracy'])\n",
    "plt.plot(history_225.history['val_accuracy'])\n",
    "plt.title('model accuracy')\n",
    "plt.ylabel('accuracy')\n",
    "plt.xlabel('epoch')\n",
    "plt.legend(['train', 'test'], loc='upper left')\n",
    "plt.show()\n",
    "\n",
    "# summarize history for loss\n",
    "plt.plot(history_225.history['loss'])\n",
    "plt.plot(history_225.history['val_loss'])\n",
    "plt.title('model loss')\n",
    "plt.ylabel('loss')\n",
    "plt.xlabel('epoch')\n",
    "plt.legend(['train', 'test'], loc='upper left')\n",
    "plt.show()"
   ]
  },
  {
   "cell_type": "code",
   "execution_count": null,
   "id": "5d9bdf4d",
   "metadata": {},
   "outputs": [],
   "source": []
  },
  {
   "cell_type": "code",
   "execution_count": null,
   "id": "95b206a1",
   "metadata": {},
   "outputs": [],
   "source": []
  }
 ],
 "metadata": {
  "kernelspec": {
   "display_name": "Python 3 (ipykernel)",
   "language": "python",
   "name": "python3"
  },
  "language_info": {
   "codemirror_mode": {
    "name": "ipython",
    "version": 3
   },
   "file_extension": ".py",
   "mimetype": "text/x-python",
   "name": "python",
   "nbconvert_exporter": "python",
   "pygments_lexer": "ipython3",
   "version": "3.9.7"
  }
 },
 "nbformat": 4,
 "nbformat_minor": 5
}
