{
 "cells": [
  {
   "cell_type": "code",
   "execution_count": 1,
   "id": "04d06235",
   "metadata": {},
   "outputs": [],
   "source": [
    "import keras\n",
    "import matplotlib.pyplot as plt\n",
    "import numpy as np\n",
    "import pandas as pd\n",
    "from keras.layers import *\n",
    "from keras.models import *\n",
    "from keras.optimizers import *\n",
    "from sklearn.decomposition import PCA\n",
    "from sklearn.compose import make_column_transformer\n",
    "from sklearn.preprocessing import OneHotEncoder\n",
    "from sklearn.metrics import accuracy_score, roc_auc_score\n",
    "from sklearn.model_selection import train_test_split\n",
    "from tensorflow.keras.callbacks import EarlyStopping, ModelCheckpoint, TensorBoard\n",
    "from sklearn.metrics import plot_confusion_matrix, confusion_matrix, classification_report\n",
    "import seaborn as sns\n",
    "from sklearn import metrics\n",
    "import joblib"
   ]
  },
  {
   "cell_type": "markdown",
   "id": "44d7683f",
   "metadata": {},
   "source": [
    "# Used CSV Files in This Notebook Can Be Reached Via The Link Given Below\n",
    "https://drive.google.com/drive/folders/1LJBghznfrr3SfxHZ8sUenAc6pdhb5vKK?usp=sharing"
   ]
  },
  {
   "cell_type": "code",
   "execution_count": 2,
   "id": "35fa3a33",
   "metadata": {},
   "outputs": [
    {
     "name": "stdout",
     "output_type": "stream",
     "text": [
      "(1262, 11619)\n"
     ]
    },
    {
     "data": {
      "text/plain": [
       "(949, 11619)"
      ]
     },
     "execution_count": 2,
     "metadata": {},
     "output_type": "execute_result"
    }
   ],
   "source": [
    "df = pd.read_csv('C:/Users/norma/Desktop/BİTİRME/BITIRME/Without_MCI_GSE_OrtakData_NormR.csv', sep = \";\", decimal=\",\")\n",
    "print(df.shape)\n",
    "df = df[df.Class != 2]\n",
    "df.shape"
   ]
  },
  {
   "cell_type": "code",
   "execution_count": 3,
   "id": "b7dc8bbf",
   "metadata": {},
   "outputs": [],
   "source": [
    "features = df.drop('Class',axis=1)\n",
    "labels_dr = 'C:/Users/norma/Desktop/BİTİRME/BITIRME/OneHotEncoded_Labels.csv'\n",
    "labels_df = pd.read_csv(labels_dr, sep = ',')\n",
    "labels = labels_df.iloc[:949,:2]"
   ]
  },
  {
   "cell_type": "markdown",
   "id": "e68bf983",
   "metadata": {},
   "source": [
    "# PCA"
   ]
  },
  {
   "cell_type": "code",
   "execution_count": 4,
   "id": "e7a19757",
   "metadata": {},
   "outputs": [],
   "source": [
    "n_components = 225\n",
    "pca = PCA(n_components = n_components).fit(features)\n",
    "principalComponents = pca.fit_transform(features)\n",
    "columns = ['Pc' + str(i) for i in range(1,n_components+1)]\n",
    "principalDf = pd.DataFrame(data = principalComponents\n",
    "             , columns = columns)"
   ]
  },
  {
   "cell_type": "code",
   "execution_count": 5,
   "id": "25667231",
   "metadata": {},
   "outputs": [],
   "source": [
    "x_train, x_test, y_train, y_test = train_test_split(principalDf, labels, test_size= 0.22, random_state = 41)"
   ]
  },
  {
   "cell_type": "code",
   "execution_count": 6,
   "id": "2004d85c",
   "metadata": {},
   "outputs": [],
   "source": [
    "x_train = tf.expand_dims(x_train, axis=-1)\n",
    "x_test = tf.expand_dims(x_test, axis=-1)"
   ]
  },
  {
   "cell_type": "markdown",
   "id": "bebb6fa9",
   "metadata": {},
   "source": [
    "# CNN ARCHITECTURE"
   ]
  },
  {
   "cell_type": "code",
   "execution_count": 7,
   "id": "b6f9394e",
   "metadata": {},
   "outputs": [],
   "source": [
    "Batch_size = 32\n",
    "def build_model(TIME_PERIODS):\n",
    "    input_shape=(TIME_PERIODS,)\n",
    "    model = Sequential()\n",
    "    model.add(keras.Input(shape=(TIME_PERIODS,1)))\n",
    "    model.add(Conv1D(512, 2,strides=2,input_shape=(TIME_PERIODS,1)))\n",
    "    model.add(Activation('relu'))\n",
    "    model.add(Conv1D(512, 2,strides=2, kernel_initializer='glorot_uniform', padding=\"same\"))\n",
    "    model.add(Activation('relu'))\n",
    "    model.add(Conv1D(256, 2,strides=2, kernel_initializer='glorot_uniform', padding=\"same\"))\n",
    "    model.add(Activation('relu'))\n",
    "    model.add(Conv1D(256, 2,strides=2, kernel_initializer='glorot_uniform', padding=\"same\"))\n",
    "    model.add(Activation('relu'))\n",
    "    model.add(Conv1D(128, 2,strides=2, kernel_initializer='glorot_uniform', padding=\"same\"))\n",
    "    model.add(Activation('relu'))\n",
    "    model.add(Conv1D(128, 2,strides=2, kernel_initializer='glorot_uniform', padding=\"same\"))\n",
    "    model.add(Activation('relu'))\n",
    "    model.add(Conv1D(64, 1,strides=2, kernel_initializer='glorot_uniform', padding=\"same\"))\n",
    "    model.add(Activation('relu'))\n",
    "    model.add(Conv1D(64, 1,strides=2, kernel_initializer='glorot_uniform', padding=\"same\"))\n",
    "    model.add(Activation('relu'))\n",
    "    model.add(Conv1D(32, 1,strides=1, kernel_initializer='glorot_uniform', padding=\"same\"))\n",
    "    model.add(Activation('relu'))\n",
    "    model.add(Dropout(0.3))\n",
    "    model.add(Dense(32))\n",
    "    model.add(Activation('relu'))\n",
    "    model.add(GlobalAveragePooling1D())\n",
    "    model.add(Dropout(0.3))\n",
    "    model.add(Dense(2))\n",
    "    model.add(Activation('softmax'))\n",
    "    return(model)"
   ]
  },
  {
   "cell_type": "code",
   "execution_count": 8,
   "id": "42141eed",
   "metadata": {},
   "outputs": [],
   "source": [
    "ckpt = keras.callbacks.ModelCheckpoint(\n",
    "        filepath='C:/Users/norma/Desktop/BITIRME/Models/CNN/best_model.{epoch:02d}-{val_categorical_accuracy:.4f}.h5',\n",
    "        monitor='val_categorical_accuracy', save_best_only=True,verbose=1)\n",
    "\n",
    "callbacks = [EarlyStopping(monitor='val_categorical_accuracy', patience=10, mode='auto', verbose=1, min_delta=0.0001),\n",
    "         ckpt]\n",
    "\n",
    "cnn = build_model(principalDf.shape[1])\n",
    "opt = tf.keras.optimizers.Adam(0.0001)\n",
    "cnn.compile(loss='categorical_crossentropy',\n",
    "            optimizer=opt, metrics=['categorical_accuracy'])"
   ]
  },
  {
   "cell_type": "code",
   "execution_count": 9,
   "id": "7cd499c8",
   "metadata": {
    "scrolled": true
   },
   "outputs": [
    {
     "name": "stdout",
     "output_type": "stream",
     "text": [
      "Epoch 1/15\n",
      "29/29 [==============================] - 5s 125ms/step - loss: 0.6930 - categorical_accuracy: 0.5230 - val_loss: 0.6937 - val_categorical_accuracy: 0.4163\n",
      "\n",
      "Epoch 00001: val_categorical_accuracy improved from -inf to 0.41627, saving model to C:/Users/norma/Desktop/BITIRME/Models/CNN\\best_model.01-0.4163.h5\n",
      "Epoch 2/15\n",
      "29/29 [==============================] - 4s 136ms/step - loss: 0.6922 - categorical_accuracy: 0.5365 - val_loss: 0.6938 - val_categorical_accuracy: 0.4163\n",
      "\n",
      "Epoch 00002: val_categorical_accuracy did not improve from 0.41627\n",
      "Epoch 3/15\n",
      "29/29 [==============================] - 4s 153ms/step - loss: 0.6903 - categorical_accuracy: 0.5311 - val_loss: 0.6939 - val_categorical_accuracy: 0.4163\n",
      "\n",
      "Epoch 00003: val_categorical_accuracy did not improve from 0.41627\n",
      "Epoch 4/15\n",
      "29/29 [==============================] - 3s 112ms/step - loss: 0.6899 - categorical_accuracy: 0.5446 - val_loss: 0.6936 - val_categorical_accuracy: 0.4163\n",
      "\n",
      "Epoch 00004: val_categorical_accuracy did not improve from 0.41627\n",
      "Epoch 5/15\n",
      "29/29 [==============================] - 3s 106ms/step - loss: 0.6856 - categorical_accuracy: 0.5554 - val_loss: 0.6972 - val_categorical_accuracy: 0.4163\n",
      "\n",
      "Epoch 00005: val_categorical_accuracy did not improve from 0.41627\n",
      "Epoch 6/15\n",
      "29/29 [==============================] - 4s 120ms/step - loss: 0.6815 - categorical_accuracy: 0.5622 - val_loss: 0.6945 - val_categorical_accuracy: 0.4402\n",
      "\n",
      "Epoch 00006: val_categorical_accuracy improved from 0.41627 to 0.44019, saving model to C:/Users/norma/Desktop/BITIRME/Models/CNN\\best_model.06-0.4402.h5\n",
      "Epoch 7/15\n",
      "29/29 [==============================] - 4s 122ms/step - loss: 0.6699 - categorical_accuracy: 0.5946 - val_loss: 0.6702 - val_categorical_accuracy: 0.5981\n",
      "\n",
      "Epoch 00007: val_categorical_accuracy improved from 0.44019 to 0.59809, saving model to C:/Users/norma/Desktop/BITIRME/Models/CNN\\best_model.07-0.5981.h5\n",
      "Epoch 8/15\n",
      "29/29 [==============================] - 3s 98ms/step - loss: 0.6611 - categorical_accuracy: 0.6162 - val_loss: 0.6889 - val_categorical_accuracy: 0.5263\n",
      "\n",
      "Epoch 00008: val_categorical_accuracy did not improve from 0.59809\n",
      "Epoch 9/15\n",
      "29/29 [==============================] - 3s 99ms/step - loss: 0.6425 - categorical_accuracy: 0.6459 - val_loss: 0.6424 - val_categorical_accuracy: 0.6746\n",
      "\n",
      "Epoch 00009: val_categorical_accuracy improved from 0.59809 to 0.67464, saving model to C:/Users/norma/Desktop/BITIRME/Models/CNN\\best_model.09-0.6746.h5\n",
      "Epoch 10/15\n",
      "29/29 [==============================] - 3s 98ms/step - loss: 0.6247 - categorical_accuracy: 0.6554 - val_loss: 0.6432 - val_categorical_accuracy: 0.6364\n",
      "\n",
      "Epoch 00010: val_categorical_accuracy did not improve from 0.67464\n",
      "Epoch 11/15\n",
      "29/29 [==============================] - 3s 104ms/step - loss: 0.5949 - categorical_accuracy: 0.7054 - val_loss: 0.6083 - val_categorical_accuracy: 0.6746\n",
      "\n",
      "Epoch 00011: val_categorical_accuracy did not improve from 0.67464\n",
      "Epoch 12/15\n",
      "29/29 [==============================] - 3s 109ms/step - loss: 0.5899 - categorical_accuracy: 0.7054 - val_loss: 0.5761 - val_categorical_accuracy: 0.7129\n",
      "\n",
      "Epoch 00012: val_categorical_accuracy improved from 0.67464 to 0.71292, saving model to C:/Users/norma/Desktop/BITIRME/Models/CNN\\best_model.12-0.7129.h5\n",
      "Epoch 13/15\n",
      "29/29 [==============================] - 3s 96ms/step - loss: 0.5696 - categorical_accuracy: 0.7162 - val_loss: 0.5571 - val_categorical_accuracy: 0.7129\n",
      "\n",
      "Epoch 00013: val_categorical_accuracy did not improve from 0.71292\n",
      "Epoch 14/15\n",
      "29/29 [==============================] - 3s 96ms/step - loss: 0.5563 - categorical_accuracy: 0.7419 - val_loss: 0.5304 - val_categorical_accuracy: 0.7464\n",
      "\n",
      "Epoch 00014: val_categorical_accuracy improved from 0.71292 to 0.74641, saving model to C:/Users/norma/Desktop/BITIRME/Models/CNN\\best_model.14-0.7464.h5\n",
      "Epoch 15/15\n",
      "29/29 [==============================] - 3s 103ms/step - loss: 0.5467 - categorical_accuracy: 0.7284 - val_loss: 0.6019 - val_categorical_accuracy: 0.6890\n",
      "\n",
      "Epoch 00015: val_categorical_accuracy did not improve from 0.74641\n"
     ]
    }
   ],
   "source": [
    "history = cnn.fit(\n",
    "      x_train,y_train,\n",
    "      steps_per_epoch=len(principalDf)//Batch_size,\n",
    "      validation_data=(x_test, y_test),\n",
    "      epochs=15,\n",
    "      callbacks=[callbacks]\n",
    "      )\n",
    "\n",
    "y_pred = cnn.predict(x_test)"
   ]
  },
  {
   "cell_type": "code",
   "execution_count": 10,
   "id": "92a75015",
   "metadata": {},
   "outputs": [],
   "source": [
    "class_d = 'C:/Users/norma/Desktop/BİTİRME/BITIRME(linux)/LabelEncoded_GSE_OrtakData_NormR.csv'\n",
    "class_df = pd.read_csv(class_d, sep = ';', decimal = ',')\n",
    "class_df = class_df[class_df.Class != 2]\n",
    "\n",
    "#creating instance of one-hot-encoder\n",
    "encoder = OneHotEncoder(handle_unknown='ignore')\n",
    "\n",
    "encoder_df = pd.DataFrame(encoder.fit_transform(class_df[['Class']]).toarray())\n",
    "encoder_df.columns = ['AD','CTL']\n",
    "\n",
    "y_test_encoded = encoder.inverse_transform(y_test).ravel()"
   ]
  },
  {
   "cell_type": "code",
   "execution_count": 11,
   "id": "1a091ba8",
   "metadata": {},
   "outputs": [],
   "source": [
    "y_pred_ = np.argmax(y_pred, axis=1)"
   ]
  },
  {
   "cell_type": "code",
   "execution_count": 12,
   "id": "63f3767a",
   "metadata": {},
   "outputs": [
    {
     "name": "stdout",
     "output_type": "stream",
     "text": [
      "Classification report : \n",
      "               precision    recall  f1-score   support\n",
      "\n",
      "           0       0.59      0.86      0.70        87\n",
      "           1       0.85      0.57      0.68       122\n",
      "\n",
      "    accuracy                           0.69       209\n",
      "   macro avg       0.72      0.71      0.69       209\n",
      "weighted avg       0.74      0.69      0.69       209\n",
      "\n"
     ]
    },
    {
     "data": {
      "image/png": "[encoded data removed]",
      "text/plain": [
       "<Figure size 432x288 with 2 Axes>"
      ]
     },
     "metadata": {
      "needs_background": "light"
     },
     "output_type": "display_data"
    }
   ],
   "source": [
    "# classification report for precision, recall f1-score and accuracy\n",
    "matrix = classification_report(y_test_encoded, y_pred_,labels=[0,1])\n",
    "print('Classification report : \\n',matrix)\n",
    "\n",
    "labels_ = ['AD','CTL']\n",
    "ax= plt.subplot()\n",
    "\n",
    "# confusion matrix\n",
    "matrix = confusion_matrix(\n",
    "    y_test_encoded, y_pred_)\n",
    "\n",
    "sns.heatmap(matrix, annot=True, fmt='g', ax=ax);  #annot=True to annotate cells, ftm='g' to disable scientific notation\n",
    "\n",
    "# labels, title and ticks\n",
    "ax.set_xlabel('Predicted labels');ax.set_ylabel('True labels'); \n",
    "ax.set_title('Confusion Matrix'); \n",
    "ax.xaxis.set_ticklabels(labels); ax.yaxis.set_ticklabels(labels_);"
   ]
  },
  {
   "cell_type": "code",
   "execution_count": 13,
   "id": "5dbf469e",
   "metadata": {},
   "outputs": [
    {
     "name": "stdout",
     "output_type": "stream",
     "text": [
      "\n",
      "\n",
      "dict_keys(['loss', 'categorical_accuracy', 'val_loss', 'val_categorical_accuracy'])\n"
     ]
    },
    {
     "data": {
      "image/png": "[encoded data removed]",
      "text/plain": [
       "<Figure size 432x288 with 1 Axes>"
      ]
     },
     "metadata": {
      "needs_background": "light"
     },
     "output_type": "display_data"
    },
    {
     "data": {
      "image/png": "[encoded data removed]",
      "text/plain": [
       "<Figure size 432x288 with 1 Axes>"
      ]
     },
     "metadata": {
      "needs_background": "light"
     },
     "output_type": "display_data"
    }
   ],
   "source": [
    "print(\"\\n\")\n",
    "print(history.history.keys())\n",
    "\n",
    "# summarize history for accuracy\n",
    "plt.plot(history.history['categorical_accuracy'])\n",
    "plt.plot(history.history['val_categorical_accuracy'])\n",
    "plt.title('model accuracy')\n",
    "plt.ylabel('accuracy')\n",
    "plt.xlabel('epoch')\n",
    "plt.legend(['train', 'test'], loc='upper left')\n",
    "plt.show()\n",
    "\n",
    "# summarize history for loss\n",
    "plt.plot(history.history['loss'])\n",
    "plt.plot(history.history['val_loss'])\n",
    "plt.title('model loss')\n",
    "plt.ylabel('loss')\n",
    "plt.xlabel('epoch')\n",
    "plt.legend(['train', 'test'], loc='upper left')\n",
    "plt.show()"
   ]
  },
  {
   "cell_type": "markdown",
   "id": "7f0455ed",
   "metadata": {},
   "source": [
    "# AUC - ROC"
   ]
  },
  {
   "cell_type": "code",
   "execution_count": 14,
   "id": "417bcfbc",
   "metadata": {
    "scrolled": true
   },
   "outputs": [
    {
     "data": {
      "image/png": "[encoded data removed]",
      "text/plain": [
       "<Figure size 500x500 with 1 Axes>"
      ]
     },
     "metadata": {
      "needs_background": "light"
     },
     "output_type": "display_data"
    }
   ],
   "source": [
    "from sklearn.metrics import roc_curve, auc\n",
    "\n",
    "fpr, tpr, threshold = roc_curve(y_test_encoded, y_pred[:,1])\n",
    "auc_cnn = auc(fpr,tpr)\n",
    "\n",
    "plt.figure(figsize=(5,5), dpi=100)\n",
    "plt.plot(fpr, tpr, linestyle = '-', label = 'CNN (auc = %0.3f)' % auc_cnn)\n",
    "\n",
    "plt.xlabel('False Positive Rate -->')\n",
    "plt.ylabel('True Positive Rate -->')\n",
    "plt.legend()\n",
    "plt.show()"
   ]
  },
  {
   "cell_type": "markdown",
   "id": "9ecc4f4c",
   "metadata": {},
   "source": [
    "# Save Model"
   ]
  },
  {
   "cell_type": "code",
   "execution_count": 15,
   "id": "9a17dd1e",
   "metadata": {},
   "outputs": [],
   "source": [
    "cnn.save(\"C:/Users/norma/Desktop/src/CNN.h5\")"
   ]
  },
  {
   "cell_type": "markdown",
   "id": "af8070d3",
   "metadata": {},
   "source": [
    "# Load Model"
   ]
  },
  {
   "cell_type": "code",
   "execution_count": 16,
   "id": "fd27e582",
   "metadata": {},
   "outputs": [],
   "source": [
    "cnn_model = tf.keras.models.load_model(\"C:/Users/norma/Desktop/src/CNN.h5\")"
   ]
  },
  {
   "cell_type": "code",
   "execution_count": 17,
   "id": "c045e1bd",
   "metadata": {},
   "outputs": [],
   "source": [
    "y_pred_load = cnn_model.predict(x_test)"
   ]
  },
  {
   "cell_type": "code",
   "execution_count": 18,
   "id": "ed6bb17b",
   "metadata": {},
   "outputs": [
    {
     "data": {
      "image/png": "[encoded data removed]",
      "text/plain": [
       "<Figure size 500x500 with 1 Axes>"
      ]
     },
     "metadata": {
      "needs_background": "light"
     },
     "output_type": "display_data"
    }
   ],
   "source": [
    "from sklearn.metrics import roc_curve, auc\n",
    "\n",
    "fpr, tpr, threshold = roc_curve(y_test_encoded, y_pred_load[:,1])\n",
    "auc_cnn = auc(fpr,tpr)\n",
    "\n",
    "plt.figure(figsize=(5,5), dpi=100)\n",
    "plt.plot(fpr, tpr, linestyle = '-', label = 'CNN (auc = %0.3f)' % auc_cnn)\n",
    "\n",
    "plt.xlabel('False Positive Rate -->')\n",
    "plt.ylabel('True Positive Rate -->')\n",
    "plt.legend()\n",
    "plt.show()"
   ]
  }
 ],
 "metadata": {
  "kernelspec": {
   "display_name": "Python 3 (ipykernel)",
   "language": "python",
   "name": "python3"
  },
  "language_info": {
   "codemirror_mode": {
    "name": "ipython",
    "version": 3
   },
   "file_extension": ".py",
   "mimetype": "text/x-python",
   "name": "python",
   "nbconvert_exporter": "python",
   "pygments_lexer": "ipython3",
   "version": "3.9.7"
  }
 },
 "nbformat": 4,
 "nbformat_minor": 5
}
