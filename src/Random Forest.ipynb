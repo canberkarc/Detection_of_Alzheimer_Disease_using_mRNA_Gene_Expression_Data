{
 "cells": [
  {
   "cell_type": "code",
   "execution_count": 10,
   "id": "60e0bb10",
   "metadata": {},
   "outputs": [],
   "source": [
    "import matplotlib.pyplot as plt\n",
    "import numpy as np\n",
    "import pandas as pd\n",
    "from keras.optimizers import *\n",
    "from sklearn.decomposition import PCA\n",
    "from sklearn.compose import make_column_transformer\n",
    "from sklearn.preprocessing import OneHotEncoder\n",
    "from sklearn.metrics import accuracy_score\n",
    "from sklearn.model_selection import train_test_split, validation_curve, GridSearchCV, ShuffleSplit, learning_curve\n",
    "from sklearn.metrics import plot_confusion_matrix, confusion_matrix, classification_report\n",
    "from sklearn.ensemble import RandomForestClassifier\n",
    "import seaborn as sns\n",
    "import joblib"
   ]
  },
  {
   "cell_type": "code",
   "execution_count": 11,
   "id": "0830069e",
   "metadata": {},
   "outputs": [
    {
     "name": "stdout",
     "output_type": "stream",
     "text": [
      "(1262, 11619)\n"
     ]
    },
    {
     "data": {
      "text/plain": [
       "(949, 11619)"
      ]
     },
     "execution_count": 11,
     "metadata": {},
     "output_type": "execute_result"
    }
   ],
   "source": [
    "df = pd.read_csv('C:/Users/norma/Desktop/BITIRME/(Mcisiz)GSE_OrtakData_NormR.csv', sep = \";\", decimal=\",\")\n",
    "print(df.shape)\n",
    "df = df[df.Class != 2]\n",
    "df.shape"
   ]
  },
  {
   "cell_type": "code",
   "execution_count": 12,
   "id": "2d9e3f8c",
   "metadata": {},
   "outputs": [],
   "source": [
    "features = df.drop('Class',axis=1)\n",
    "labels_dr = 'C:/Users/norma/Desktop/BITIRME/gse_less_feature.csv'\n",
    "labels_df = pd.read_csv(labels_dr, sep = ',')\n",
    "labels = labels_df.iloc[:949,:2]"
   ]
  },
  {
   "cell_type": "code",
   "execution_count": 13,
   "id": "9f62e1d9",
   "metadata": {},
   "outputs": [],
   "source": [
    "n_components = 225\n",
    "pca = PCA(n_components = n_components).fit(features)\n",
    "principalComponents = pca.fit_transform(features)\n",
    "columns = ['Pc' + str(i) for i in range(1,n_components+1)]\n",
    "principalDf = pd.DataFrame(data = principalComponents\n",
    "             , columns = columns)"
   ]
  },
  {
   "cell_type": "code",
   "execution_count": 14,
   "id": "9f879637",
   "metadata": {},
   "outputs": [],
   "source": [
    "x_train, x_test, y_train, y_test = train_test_split(principalDf, labels, test_size= 0.25, random_state=42)"
   ]
  },
  {
   "cell_type": "code",
   "execution_count": null,
   "id": "b685a7e0",
   "metadata": {},
   "outputs": [],
   "source": [
    "n_estimators = [100, 300, 500, 800, 1200]\n",
    "max_depth = [5, 8, 15, 25, 30]\n",
    "min_samples_split = [2, 5, 10, 15, 100]\n",
    "min_samples_leaf = [1, 2, 5, 10] \n",
    "\n",
    "hyperF = dict(n_estimators = n_estimators, max_depth = max_depth,  \n",
    "              min_samples_split = min_samples_split, \n",
    "             min_samples_leaf = min_samples_leaf)\n",
    "\n",
    "gridF = GridSearchCV(RandomForestClassifier(), hyperF, cv = 3, verbose = 1, \n",
    "                      n_jobs = -1)\n",
    "bestF = gridF.fit(x_train, y_train)"
   ]
  },
  {
   "cell_type": "code",
   "execution_count": null,
   "id": "8cb2022e",
   "metadata": {},
   "outputs": [],
   "source": [
    "# print best parameter after tuning\n",
    "print(bestF.best_params_)\n",
    "\n",
    "print('\\n')\n",
    "\n",
    "# print how our model looks after hyper-parameter tuning\n",
    "print(bestF.best_estimator_)"
   ]
  },
  {
   "cell_type": "code",
   "execution_count": null,
   "id": "aa3b8239",
   "metadata": {},
   "outputs": [],
   "source": [
    "criterion = ['gini', 'entropy']\n",
    "max_features = ['sqrt', 'log2', None]\n",
    "\n",
    "hyperF = dict(criterion=criterion, max_features=max_features)\n",
    "\n",
    "gridF = GridSearchCV(RandomForestClassifier(max_depth=30, min_samples_leaf=5, min_samples_split=5,\n",
    "                       n_estimators=300), hyperF, cv = 3, verbose = 1, \n",
    "                      n_jobs = -1)\n",
    "bestF = gridF.fit(x_train, y_train)"
   ]
  },
  {
   "cell_type": "code",
   "execution_count": null,
   "id": "6365d5d8",
   "metadata": {},
   "outputs": [],
   "source": [
    "# print best parameter after tuning\n",
    "print(bestF.best_params_)\n",
    "\n",
    "print('\\n')\n",
    "\n",
    "# print how our model looks after hyper-parameter tuning\n",
    "print(bestF.best_estimator_)"
   ]
  },
  {
   "cell_type": "code",
   "execution_count": null,
   "id": "4edab132",
   "metadata": {},
   "outputs": [],
   "source": [
    "grid_predictions = bestF.predict(x_test)\n",
    "\n",
    "# print classification report\n",
    "print(classification_report(y_test, grid_predictions))"
   ]
  },
  {
   "cell_type": "code",
   "execution_count": 22,
   "id": "a9493a80",
   "metadata": {},
   "outputs": [],
   "source": [
    "class_d = 'C:/Users/norma/Desktop/BITIRME/duzgun_GSE_OrtakData_NormR.csv'\n",
    "class_df = pd.read_csv(class_d, sep = ';', decimal = ',')\n",
    "class_df = class_df[class_df.Class != 2]\n",
    "\n",
    "#creating instance of one-hot-encoder\n",
    "encoder = OneHotEncoder(handle_unknown='ignore')\n",
    "\n",
    "encoder_df = pd.DataFrame(encoder.fit_transform(class_df[['Class']]).toarray())\n",
    "encoder_df.columns = ['AD','CTL']\n",
    "\n",
    "y_test_ = encoder.inverse_transform(y_test).ravel()"
   ]
  },
  {
   "cell_type": "markdown",
   "id": "4b54c754",
   "metadata": {},
   "source": [
    "# Best Random Forest Model"
   ]
  },
  {
   "cell_type": "code",
   "execution_count": 16,
   "id": "9609bbc7",
   "metadata": {},
   "outputs": [],
   "source": [
    "clf = RandomForestClassifier(max_depth=30, min_samples_leaf=5, min_samples_split=5, criterion = 'gini', max_features = 'sqrt',\n",
    "                       n_estimators=300)\n",
    "\n",
    "clf.fit(x_train, y_train)\n",
    "\n",
    "y_pred = clf.predict(x_test)\n",
    "\n",
    "y_pred_ = np.argmax(y_pred, axis=1)"
   ]
  },
  {
   "cell_type": "markdown",
   "id": "7ecdba67",
   "metadata": {},
   "source": [
    "# Load Model"
   ]
  },
  {
   "cell_type": "code",
   "execution_count": 19,
   "id": "01a08249",
   "metadata": {},
   "outputs": [],
   "source": [
    "rf = joblib.load('random_forest2class.pkl')"
   ]
  },
  {
   "cell_type": "markdown",
   "id": "6da571a8",
   "metadata": {},
   "source": [
    "# Confusion Matrix"
   ]
  },
  {
   "cell_type": "code",
   "execution_count": 17,
   "id": "1a5981d3",
   "metadata": {
    "scrolled": true
   },
   "outputs": [
    {
     "name": "stdout",
     "output_type": "stream",
     "text": [
      "Classification report : \n",
      "               precision    recall  f1-score   support\n",
      "\n",
      "           0       0.65      0.72      0.68       119\n",
      "           1       0.69      0.61      0.64       119\n",
      "\n",
      "    accuracy                           0.66       238\n",
      "   macro avg       0.67      0.66      0.66       238\n",
      "weighted avg       0.67      0.66      0.66       238\n",
      "\n"
     ]
    },
    {
     "data": {
      "image/png": "[encoded data removed]",
      "text/plain": [
       "<Figure size 432x288 with 2 Axes>"
      ]
     },
     "metadata": {
      "needs_background": "light"
     },
     "output_type": "display_data"
    }
   ],
   "source": [
    "# classification report for precision, recall f1-score and accuracy\n",
    "matrix = classification_report(y_test_, y_pred_, labels=[0,1])\n",
    "print('Classification report : \\n',matrix)\n",
    "\n",
    "labels_ = ['AD','CTL']\n",
    "ax= plt.subplot()\n",
    "\n",
    "# confusion matrix\n",
    "matrix = confusion_matrix(\n",
    "    y_test_, y_pred_)\n",
    "\n",
    "sns.heatmap(matrix, annot=True, fmt='g', ax=ax);  #annot=True to annotate cells, ftm='g' to disable scientific notation\n",
    "\n",
    "# labels, title and ticks\n",
    "ax.set_xlabel('Predicted labels');ax.set_ylabel('True labels'); \n",
    "ax.set_title('Confusion Matrix'); \n",
    "ax.xaxis.set_ticklabels(labels); ax.yaxis.set_ticklabels(labels_);"
   ]
  },
  {
   "cell_type": "markdown",
   "id": "e11d03c9",
   "metadata": {},
   "source": [
    "# AUC-ROC"
   ]
  },
  {
   "cell_type": "code",
   "execution_count": 23,
   "id": "42d444b6",
   "metadata": {
    "scrolled": true
   },
   "outputs": [
    {
     "data": {
      "image/png": "[encoded data removed]",
      "text/plain": [
       "<Figure size 500x500 with 1 Axes>"
      ]
     },
     "metadata": {
      "needs_background": "light"
     },
     "output_type": "display_data"
    }
   ],
   "source": [
    "from sklearn.metrics import roc_curve, auc\n",
    "\n",
    "fpr, tpr, threshold = roc_curve(y_test_, y_pred[:,1])\n",
    "auc_rf = auc(fpr,tpr)\n",
    "\n",
    "plt.figure(figsize=(5,5), dpi=100)\n",
    "plt.plot(fpr, tpr, linestyle = '-', label = 'Random Forest (auc = %0.3f)' % auc_rf)\n",
    "\n",
    "plt.xlabel('False Positive Rate -->')\n",
    "plt.ylabel('True Positive Rate -->')\n",
    "plt.legend()\n",
    "plt.show()"
   ]
  },
  {
   "cell_type": "markdown",
   "id": "682e5c3a",
   "metadata": {},
   "source": [
    "# Save Model"
   ]
  },
  {
   "cell_type": "code",
   "execution_count": 18,
   "id": "14bf7757",
   "metadata": {},
   "outputs": [
    {
     "data": {
      "text/plain": [
       "['random_forest2class.pkl']"
      ]
     },
     "execution_count": 18,
     "metadata": {},
     "output_type": "execute_result"
    }
   ],
   "source": [
    "# Save the model as a pickle in a file\n",
    "joblib.dump(clf, 'random_forest2class.pkl')"
   ]
  },
  {
   "cell_type": "code",
   "execution_count": null,
   "id": "b0f3cf89",
   "metadata": {},
   "outputs": [],
   "source": []
  }
 ],
 "metadata": {
  "kernelspec": {
   "display_name": "Python 3 (ipykernel)",
   "language": "python",
   "name": "python3"
  },
  "language_info": {
   "codemirror_mode": {
    "name": "ipython",
    "version": 3
   },
   "file_extension": ".py",
   "mimetype": "text/x-python",
   "name": "python",
   "nbconvert_exporter": "python",
   "pygments_lexer": "ipython3",
   "version": "3.9.7"
  }
 },
 "nbformat": 4,
 "nbformat_minor": 5
}
