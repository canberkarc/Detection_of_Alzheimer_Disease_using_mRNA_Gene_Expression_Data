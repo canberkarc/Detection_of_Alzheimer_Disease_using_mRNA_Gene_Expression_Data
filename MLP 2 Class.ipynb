{
 "cells": [
  {
   "cell_type": "code",
   "execution_count": 1,
   "id": "292aeac3",
   "metadata": {},
   "outputs": [],
   "source": [
    "from tensorflow import keras\n",
    "import matplotlib.pyplot as plt\n",
    "import numpy as np\n",
    "import pandas as pd\n",
    "from keras.layers import *\n",
    "from keras.models import *\n",
    "from keras.optimizers import *\n",
    "from sklearn.decomposition import PCA\n",
    "from sklearn.compose import make_column_transformer\n",
    "from sklearn.preprocessing import OneHotEncoder\n",
    "from sklearn.metrics import accuracy_score\n",
    "from sklearn.model_selection import train_test_split\n",
    "from tensorflow.keras.callbacks import EarlyStopping, ModelCheckpoint, TensorBoard\n",
    "from sklearn.metrics import plot_confusion_matrix, confusion_matrix, classification_report\n",
    "from tensorflow.python.keras.optimizer_v2.adam import Adam\n",
    "import seaborn as sns"
   ]
  },
  {
   "cell_type": "code",
   "execution_count": 2,
   "id": "20232eda",
   "metadata": {},
   "outputs": [
    {
     "name": "stdout",
     "output_type": "stream",
     "text": [
      "(1262, 11619)\n"
     ]
    },
    {
     "data": {
      "text/plain": [
       "(949, 11619)"
      ]
     },
     "execution_count": 2,
     "metadata": {},
     "output_type": "execute_result"
    }
   ],
   "source": [
    "df = pd.read_csv('C:/Users/norma/Desktop/BITIRME/(Mcisiz)GSE_OrtakData_NormR.csv', sep = \";\", decimal=\",\")\n",
    "print(df.shape)\n",
    "df = df[df.Class != 2]\n",
    "df.shape"
   ]
  },
  {
   "cell_type": "code",
   "execution_count": 3,
   "id": "ad961e9c",
   "metadata": {},
   "outputs": [],
   "source": [
    "features = df.drop('Class',axis=1)\n",
    "labels_dr = 'C:/Users/norma/Desktop/BITIRME/gse_less_feature.csv'\n",
    "labels_df = pd.read_csv(labels_dr, sep = ',')\n",
    "labels = labels_df.iloc[:949,:2]"
   ]
  },
  {
   "cell_type": "code",
   "execution_count": 4,
   "id": "4f18a67c",
   "metadata": {},
   "outputs": [],
   "source": [
    "labels = labels_df.iloc[:949,:2]"
   ]
  },
  {
   "cell_type": "code",
   "execution_count": 5,
   "id": "bbb4b27b",
   "metadata": {},
   "outputs": [],
   "source": [
    "pca = PCA(n_components = 225).fit(features)\n",
    "principalComponents = pca.fit_transform(features)\n",
    "columns = ['Pc' + str(i) for i in range(1,226)]\n",
    "principalDf = pd.DataFrame(data = principalComponents\n",
    "             , columns = columns)"
   ]
  },
  {
   "cell_type": "code",
   "execution_count": 6,
   "id": "1e376f91",
   "metadata": {},
   "outputs": [],
   "source": [
    "x_train_225, x_test_225, y_train_225, y_test_225 = train_test_split(principalDf, labels, test_size= 0.2, random_state=42)\n",
    "#x_train_225, x_val_225, y_train_225, y_val_225 = train_test_split(x_train_225, y_train_225, test_size=0.25, random_state= 42)"
   ]
  },
  {
   "cell_type": "code",
   "execution_count": 7,
   "id": "d50f287d",
   "metadata": {},
   "outputs": [],
   "source": [
    "y_train_225 = y_train_225.astype(int)\n",
    "y_test_225 = y_test_225.astype(int)\n",
    "#y_val_225 = y_val_225.astype(int)"
   ]
  },
  {
   "cell_type": "markdown",
   "id": "569f3028",
   "metadata": {},
   "source": [
    "## MODEL"
   ]
  },
  {
   "cell_type": "code",
   "execution_count": 8,
   "id": "8d8aa9a5",
   "metadata": {},
   "outputs": [],
   "source": [
    "opt = tf.keras.optimizers.Adam(0.0001)"
   ]
  },
  {
   "cell_type": "code",
   "execution_count": 9,
   "id": "bfd8c7c2",
   "metadata": {},
   "outputs": [],
   "source": [
    "input_dim = principalDf.shape[1]\n",
    "\n",
    "def build_model(optimizer=opt, init_mode='he_uniform'):\n",
    "    model = Sequential()\n",
    "    model.add(Dense(512, input_dim=input_dim, kernel_initializer=init_mode, activation='relu'))\n",
    "    model.add(Dropout(0.1))\n",
    "    model.add(Dense(512, kernel_initializer=init_mode, activation='relu'))\n",
    "    model.add(Dropout(0.1))\n",
    "    model.add(Dense(256, kernel_initializer=init_mode, activation='relu'))\n",
    "    model.add(Dropout(0.1))\n",
    "    model.add(Dense(256, kernel_initializer=init_mode, activation='relu'))\n",
    "    model.add(Dropout(0.1))\n",
    "    model.add(Dense(128, kernel_initializer=init_mode, activation='relu'))\n",
    "    model.add(Dropout(0.1))\n",
    "    model.add(Dense(128, kernel_initializer=init_mode, activation='relu'))\n",
    "\n",
    "    model.add(Dense(64, kernel_initializer=init_mode, activation='relu'))\n",
    "\n",
    "    model.add(Dense(64, kernel_initializer=init_mode, activation='relu'))\n",
    "\n",
    "    model.add(Dense(32, kernel_initializer=init_mode, activation='relu'))\n",
    "\n",
    "    model.add(Dense(2, kernel_initializer=init_mode, activation='softmax'))\n",
    "\n",
    "    # compile model\n",
    "    model.compile(loss='categorical_crossentropy', \n",
    "                  optimizer='adam', \n",
    "                  metrics=['accuracy'])\n",
    "\n",
    "    return model"
   ]
  },
  {
   "cell_type": "code",
   "execution_count": 10,
   "id": "110217c1",
   "metadata": {
    "scrolled": true
   },
   "outputs": [
    {
     "name": "stdout",
     "output_type": "stream",
     "text": [
      "Epoch 1/50\n",
      "23/29 [======================>.......] - ETA: 0s - loss: 0.7497 - accuracy: 0.4944\n",
      "Epoch 1: val_accuracy improved from -inf to 0.50526, saving model to C:/Users/norma/Desktop/BITIRME/Models/MLP\\best_model.01-0.5053.h5\n",
      "29/29 [==============================] - 2s 37ms/step - loss: 0.7508 - accuracy: 0.4967 - val_loss: 0.6959 - val_accuracy: 0.5053\n",
      "Epoch 2/50\n",
      "23/29 [======================>.......] - ETA: 0s - loss: 0.7254 - accuracy: 0.5250\n",
      "Epoch 2: val_accuracy did not improve from 0.50526\n",
      "29/29 [==============================] - 0s 11ms/step - loss: 0.7353 - accuracy: 0.5204 - val_loss: 0.7388 - val_accuracy: 0.5000\n",
      "Epoch 3/50\n",
      "22/29 [=====================>........] - ETA: 0s - loss: 0.6985 - accuracy: 0.5387\n",
      "Epoch 3: val_accuracy improved from 0.50526 to 0.51053, saving model to C:/Users/norma/Desktop/BITIRME/Models/MLP\\best_model.03-0.5105.h5\n",
      "29/29 [==============================] - 0s 12ms/step - loss: 0.7052 - accuracy: 0.5244 - val_loss: 0.6973 - val_accuracy: 0.5105\n",
      "Epoch 4/50\n",
      "23/29 [======================>.......] - ETA: 0s - loss: 0.7210 - accuracy: 0.5121\n",
      "Epoch 4: val_accuracy did not improve from 0.51053\n",
      "29/29 [==============================] - 0s 9ms/step - loss: 0.7202 - accuracy: 0.5059 - val_loss: 0.6985 - val_accuracy: 0.4789\n",
      "Epoch 5/50\n",
      "24/29 [=======================>......] - ETA: 0s - loss: 0.6876 - accuracy: 0.5417\n",
      "Epoch 5: val_accuracy improved from 0.51053 to 0.57895, saving model to C:/Users/norma/Desktop/BITIRME/Models/MLP\\best_model.05-0.5789.h5\n",
      "29/29 [==============================] - 1s 23ms/step - loss: 0.6869 - accuracy: 0.5520 - val_loss: 0.6596 - val_accuracy: 0.5789\n",
      "Epoch 6/50\n",
      "27/29 [==========================>...] - ETA: 0s - loss: 0.6719 - accuracy: 0.5912\n",
      "Epoch 6: val_accuracy improved from 0.57895 to 0.63158, saving model to C:/Users/norma/Desktop/BITIRME/Models/MLP\\best_model.06-0.6316.h5\n",
      "29/29 [==============================] - 0s 12ms/step - loss: 0.6684 - accuracy: 0.5942 - val_loss: 0.6601 - val_accuracy: 0.6316\n",
      "Epoch 7/50\n",
      "22/29 [=====================>........] - ETA: 0s - loss: 0.6648 - accuracy: 0.6077\n",
      "Epoch 7: val_accuracy did not improve from 0.63158\n",
      "29/29 [==============================] - 0s 9ms/step - loss: 0.6642 - accuracy: 0.6047 - val_loss: 0.6381 - val_accuracy: 0.6158\n",
      "Epoch 8/50\n",
      "24/29 [=======================>......] - ETA: 0s - loss: 0.6231 - accuracy: 0.6713\n",
      "Epoch 8: val_accuracy improved from 0.63158 to 0.65789, saving model to C:/Users/norma/Desktop/BITIRME/Models/MLP\\best_model.08-0.6579.h5\n",
      "29/29 [==============================] - 0s 10ms/step - loss: 0.6267 - accuracy: 0.6667 - val_loss: 0.5973 - val_accuracy: 0.6579\n",
      "Epoch 9/50\n",
      "28/29 [===========================>..] - ETA: 0s - loss: 0.5952 - accuracy: 0.6587\n",
      "Epoch 9: val_accuracy did not improve from 0.65789\n",
      "29/29 [==============================] - 0s 9ms/step - loss: 0.5960 - accuracy: 0.6574 - val_loss: 0.6401 - val_accuracy: 0.6105\n",
      "Epoch 10/50\n",
      "28/29 [===========================>..] - ETA: 0s - loss: 0.5850 - accuracy: 0.7024\n",
      "Epoch 10: val_accuracy improved from 0.65789 to 0.69474, saving model to C:/Users/norma/Desktop/BITIRME/Models/MLP\\best_model.10-0.6947.h5\n",
      "29/29 [==============================] - 2s 67ms/step - loss: 0.5853 - accuracy: 0.7022 - val_loss: 0.6118 - val_accuracy: 0.6947\n",
      "Epoch 11/50\n",
      "22/29 [=====================>........] - ETA: 0s - loss: 0.5765 - accuracy: 0.7104\n",
      "Epoch 11: val_accuracy did not improve from 0.69474\n",
      "29/29 [==============================] - 0s 9ms/step - loss: 0.5629 - accuracy: 0.7207 - val_loss: 0.8516 - val_accuracy: 0.6158\n",
      "Epoch 12/50\n",
      "24/29 [=======================>......] - ETA: 0s - loss: 0.5632 - accuracy: 0.7191\n",
      "Epoch 12: val_accuracy did not improve from 0.69474\n",
      "29/29 [==============================] - 0s 9ms/step - loss: 0.5452 - accuracy: 0.7312 - val_loss: 0.6153 - val_accuracy: 0.6632\n",
      "Epoch 13/50\n",
      "21/29 [====================>.........] - ETA: 0s - loss: 0.4824 - accuracy: 0.7831\n",
      "Epoch 13: val_accuracy did not improve from 0.69474\n",
      "29/29 [==============================] - 0s 9ms/step - loss: 0.4835 - accuracy: 0.7826 - val_loss: 0.6487 - val_accuracy: 0.6158\n",
      "Epoch 14/50\n",
      "24/29 [=======================>......] - ETA: 0s - loss: 0.4063 - accuracy: 0.8179\n",
      "Epoch 14: val_accuracy improved from 0.69474 to 0.71579, saving model to C:/Users/norma/Desktop/BITIRME/Models/MLP\\best_model.14-0.7158.h5\n",
      "29/29 [==============================] - 0s 10ms/step - loss: 0.3984 - accuracy: 0.8169 - val_loss: 0.5704 - val_accuracy: 0.7158\n",
      "Epoch 15/50\n",
      "23/29 [======================>.......] - ETA: 0s - loss: 0.3708 - accuracy: 0.8390\n",
      "Epoch 15: val_accuracy did not improve from 0.71579\n",
      "29/29 [==============================] - 0s 9ms/step - loss: 0.3634 - accuracy: 0.8432 - val_loss: 0.5573 - val_accuracy: 0.6895\n",
      "Epoch 16/50\n",
      "24/29 [=======================>......] - ETA: 0s - loss: 0.2822 - accuracy: 0.8796\n",
      "Epoch 16: val_accuracy did not improve from 0.71579\n",
      "29/29 [==============================] - 0s 9ms/step - loss: 0.2798 - accuracy: 0.8814 - val_loss: 0.7351 - val_accuracy: 0.7158\n",
      "Epoch 17/50\n",
      "23/29 [======================>.......] - ETA: 0s - loss: 0.2498 - accuracy: 0.8953\n",
      "Epoch 17: val_accuracy did not improve from 0.71579\n",
      "29/29 [==============================] - 0s 9ms/step - loss: 0.2383 - accuracy: 0.9025 - val_loss: 1.0909 - val_accuracy: 0.6368\n",
      "Epoch 18/50\n",
      "22/29 [=====================>........] - ETA: 0s - loss: 0.2014 - accuracy: 0.9259\n",
      "Epoch 18: val_accuracy improved from 0.71579 to 0.72632, saving model to C:/Users/norma/Desktop/BITIRME/Models/MLP\\best_model.18-0.7263.h5\n",
      "29/29 [==============================] - 0s 11ms/step - loss: 0.2075 - accuracy: 0.9196 - val_loss: 0.8046 - val_accuracy: 0.7263\n",
      "Epoch 19/50\n",
      "23/29 [======================>.......] - ETA: 0s - loss: 0.1630 - accuracy: 0.9308\n",
      "Epoch 19: val_accuracy did not improve from 0.72632\n",
      "29/29 [==============================] - 0s 9ms/step - loss: 0.1882 - accuracy: 0.9262 - val_loss: 1.1489 - val_accuracy: 0.6368\n",
      "Epoch 20/50\n",
      "22/29 [=====================>........] - ETA: 0s - loss: 0.1868 - accuracy: 0.9192\n",
      "Epoch 20: val_accuracy did not improve from 0.72632\n",
      "29/29 [==============================] - 0s 9ms/step - loss: 0.1853 - accuracy: 0.9209 - val_loss: 1.0915 - val_accuracy: 0.6895\n",
      "Epoch 21/50\n",
      "23/29 [======================>.......] - ETA: 0s - loss: 0.1244 - accuracy: 0.9485\n",
      "Epoch 21: val_accuracy did not improve from 0.72632\n",
      "29/29 [==============================] - 0s 9ms/step - loss: 0.1278 - accuracy: 0.9486 - val_loss: 1.2335 - val_accuracy: 0.6895\n",
      "Epoch 22/50\n",
      "22/29 [=====================>........] - ETA: 0s - loss: 0.1388 - accuracy: 0.9461\n",
      "Epoch 22: val_accuracy did not improve from 0.72632\n",
      "29/29 [==============================] - 0s 9ms/step - loss: 0.1402 - accuracy: 0.9433 - val_loss: 1.0839 - val_accuracy: 0.7105\n",
      "Epoch 22: early stopping\n"
     ]
    }
   ],
   "source": [
    "ckpt = keras.callbacks.ModelCheckpoint(\n",
    "        filepath='C:/Users/norma/Desktop/BITIRME/Models/MLP/best_model.{epoch:02d}-{val_accuracy:.4f}.h5',\n",
    "        monitor='val_accuracy', save_best_only=True,verbose=1)\n",
    "\n",
    "callbacks = [EarlyStopping(monitor='val_accuracy', patience=4, mode='auto', verbose=1, min_delta=0.0001),\n",
    "         ckpt]\n",
    "\n",
    "model = build_model(principalDf.shape[1])\n",
    "history = model.fit(\n",
    "          x = np.asarray(x_train_225).astype('float32'),\n",
    "          y = y_train_225,\n",
    "          steps_per_epoch=len(principalDf)//32,\n",
    "          validation_data=(x_test_225, y_test_225),\n",
    "          epochs=50,\n",
    "          callbacks=[callbacks]\n",
    "          )\n",
    "model.save(\"finishModel.h5\")"
   ]
  },
  {
   "cell_type": "code",
   "execution_count": 17,
   "id": "04e57d21",
   "metadata": {},
   "outputs": [
    {
     "name": "stdout",
     "output_type": "stream",
     "text": [
      "     AD  CTL\n",
      "199   1    0\n",
      "660   0    1\n",
      "692   0    1\n",
      "737   0    1\n",
      "774   0    1\n",
      "..   ..  ...\n",
      "597   0    1\n",
      "33    1    0\n",
      "31    1    0\n",
      "797   0    1\n",
      "298   1    0\n",
      "\n",
      "[190 rows x 2 columns]\n",
      "[0 1 1 1 1 1 1 1 1 0 0 0 0 0 1 0 0 0 0 1 0 1 0 0 0 1 1 0 1 0 1 1 1 0 0 0 0\n",
      " 0 1 1 0 0 0 1 0 0 1 0 0 0 1 0 0 1 0 1 1 1 1 0 0 0 0 1 0 0 1 0 1 0 0 0 0 0\n",
      " 0 1 1 0 0 1 1 1 1 1 1 1 1 1 0 1 1 1 1 0 0 1 0 1 0 1 0 1 0 1 0 1 0 0 0 0 0\n",
      " 1 0 0 1 1 1 1 0 0 0 0 1 1 0 1 0 0 0 1 1 0 1 0 0 1 0 0 1 0 1 0 1 1 1 1 0 0\n",
      " 1 0 1 0 1 0 1 1 0 0 0 1 1 1 1 1 0 0 0 1 0 1 1 1 0 1 0 1 0 1 1 1 1 1 1 1 1\n",
      " 1 0 0 1 0]\n"
     ]
    }
   ],
   "source": [
    "y_pred = model.predict(x_test_225)\n",
    "y_pred = np.argmax(y_pred, axis=1)\n",
    "\n",
    "class_d = 'C:/Users/norma/Desktop/BITIRME/duzgun_GSE_OrtakData_NormR.csv'\n",
    "class_df = pd.read_csv(class_d, sep = ';', decimal = ',')\n",
    "class_df = class_df[class_df.Class != 2]\n",
    "print(y_test_225)\n",
    "#creating instance of one-hot-encoder\n",
    "encoder = OneHotEncoder(handle_unknown='ignore')\n",
    "\n",
    "encoder_df = pd.DataFrame(encoder.fit_transform(class_df[['Class']]).toarray())\n",
    "encoder_df.columns = ['AD','CTL']\n",
    "\n",
    "y_test = encoder.inverse_transform(y_test_225).ravel()\n",
    "print(y_test)"
   ]
  },
  {
   "cell_type": "code",
   "execution_count": 16,
   "id": "3543cd7a",
   "metadata": {},
   "outputs": [
    {
     "name": "stdout",
     "output_type": "stream",
     "text": [
      "Classification report : \n",
      "               precision    recall  f1-score   support\n",
      "\n",
      "           1       0.68      0.79      0.73        95\n",
      "           0       0.75      0.63      0.69        95\n",
      "\n",
      "    accuracy                           0.71       190\n",
      "   macro avg       0.72      0.71      0.71       190\n",
      "weighted avg       0.72      0.71      0.71       190\n",
      "\n"
     ]
    },
    {
     "data": {
      "image/png": "[encoded data removed]",
      "text/plain": [
       "<Figure size 432x288 with 2 Axes>"
      ]
     },
     "metadata": {
      "needs_background": "light"
     },
     "output_type": "display_data"
    }
   ],
   "source": [
    "# classification report for precision, recall f1-score and accuracy\n",
    "matrix = classification_report(y_test,y_pred,labels=[1,0])\n",
    "print('Classification report : \\n',matrix)\n",
    "\n",
    "labels = ['AD','CTL']\n",
    "ax= plt.subplot()\n",
    "\n",
    "# confusion matrix\n",
    "matrix = confusion_matrix(\n",
    "    y_test, y_pred)\n",
    "\n",
    "sns.heatmap(matrix, annot=True, fmt='g', ax=ax);  #annot=True to annotate cells, ftm='g' to disable scientific notation\n",
    "\n",
    "# labels, title and ticks\n",
    "ax.set_xlabel('Predicted labels');ax.set_ylabel('True labels'); \n",
    "ax.set_title('Confusion Matrix'); \n",
    "ax.xaxis.set_ticklabels(labels); ax.yaxis.set_ticklabels(labels);"
   ]
  },
  {
   "cell_type": "code",
   "execution_count": 13,
   "id": "0a20fd6e",
   "metadata": {},
   "outputs": [
    {
     "name": "stdout",
     "output_type": "stream",
     "text": [
      "0.7105263157894737\n"
     ]
    }
   ],
   "source": [
    "print(accuracy_score(y_test,y_pred))"
   ]
  },
  {
   "cell_type": "code",
   "execution_count": 14,
   "id": "6fcce83d",
   "metadata": {},
   "outputs": [
    {
     "name": "stdout",
     "output_type": "stream",
     "text": [
      "\n",
      "\n",
      "dict_keys(['loss', 'accuracy', 'val_loss', 'val_accuracy'])\n"
     ]
    },
    {
     "data": {
      "image/png": "[encoded data removed]",
      "text/plain": [
       "<Figure size 432x288 with 1 Axes>"
      ]
     },
     "metadata": {
      "needs_background": "light"
     },
     "output_type": "display_data"
    },
    {
     "data": {
      "image/png": "[encoded data removed]",
      "text/plain": [
       "<Figure size 432x288 with 1 Axes>"
      ]
     },
     "metadata": {
      "needs_background": "light"
     },
     "output_type": "display_data"
    }
   ],
   "source": [
    "print(\"\\n\")\n",
    "print(history.history.keys())\n",
    "\n",
    "# summarize history for accuracy\n",
    "plt.plot(history.history['accuracy'])\n",
    "plt.plot(history.history['val_accuracy'])\n",
    "plt.title('model accuracy')\n",
    "plt.ylabel('accuracy')\n",
    "plt.xlabel('epoch')\n",
    "plt.legend(['train', 'test'], loc='upper left')\n",
    "plt.show()\n",
    "\n",
    "# summarize history for loss\n",
    "plt.plot(history.history['loss'])\n",
    "plt.plot(history.history['val_loss'])\n",
    "plt.title('model loss')\n",
    "plt.ylabel('loss')\n",
    "plt.xlabel('epoch')\n",
    "plt.legend(['train', 'test'], loc='upper left')\n",
    "plt.show()"
   ]
  }
 ],
 "metadata": {
  "kernelspec": {
   "display_name": "Python 3 (ipykernel)",
   "language": "python",
   "name": "python3"
  },
  "language_info": {
   "codemirror_mode": {
    "name": "ipython",
    "version": 3
   },
   "file_extension": ".py",
   "mimetype": "text/x-python",
   "name": "python",
   "nbconvert_exporter": "python",
   "pygments_lexer": "ipython3",
   "version": "3.9.7"
  }
 },
 "nbformat": 4,
 "nbformat_minor": 5
}
