{
 "cells": [
  {
   "cell_type": "code",
   "execution_count": 16,
   "id": "04d06235",
   "metadata": {},
   "outputs": [],
   "source": [
    "import keras\n",
    "import matplotlib.pyplot as plt\n",
    "import numpy as np\n",
    "import pandas as pd\n",
    "from keras.layers import *\n",
    "from keras.models import *\n",
    "from keras.optimizers import *\n",
    "from sklearn.decomposition import PCA\n",
    "from sklearn.compose import make_column_transformer\n",
    "from sklearn.preprocessing import OneHotEncoder\n",
    "from sklearn.metrics import accuracy_score\n",
    "from sklearn.model_selection import train_test_split\n",
    "from tensorflow.keras.callbacks import EarlyStopping, ModelCheckpoint, TensorBoard\n",
    "from sklearn.metrics import plot_confusion_matrix, confusion_matrix, classification_report\n",
    "import seaborn as sns"
   ]
  },
  {
   "cell_type": "code",
   "execution_count": 17,
   "id": "35fa3a33",
   "metadata": {},
   "outputs": [
    {
     "name": "stdout",
     "output_type": "stream",
     "text": [
      "(1262, 11619)\n"
     ]
    },
    {
     "data": {
      "text/plain": [
       "(949, 11619)"
      ]
     },
     "execution_count": 17,
     "metadata": {},
     "output_type": "execute_result"
    }
   ],
   "source": [
    "df = pd.read_csv('C:/Users/norma/Desktop/BITIRME/(Mcisiz)GSE_OrtakData_NormR.csv', sep = \";\", decimal=\",\")\n",
    "print(df.shape)\n",
    "df = df[df.Class != 2]\n",
    "df.shape"
   ]
  },
  {
   "cell_type": "code",
   "execution_count": 18,
   "id": "b7dc8bbf",
   "metadata": {},
   "outputs": [],
   "source": [
    "features = df.drop('Class',axis=1)\n",
    "labels_dr = 'C:/Users/norma/Desktop/BITIRME/gse_less_feature.csv'\n",
    "labels_df = pd.read_csv(labels_dr, sep = ',')\n",
    "labels = labels_df.iloc[:949,:2]"
   ]
  },
  {
   "cell_type": "code",
   "execution_count": 19,
   "id": "e7a19757",
   "metadata": {},
   "outputs": [],
   "source": [
    "pca = PCA(n_components = 225).fit(features)\n",
    "principalComponents = pca.fit_transform(features)\n",
    "columns = ['Pc' + str(i) for i in range(1,226)]\n",
    "principalDf = pd.DataFrame(data = principalComponents\n",
    "             , columns = columns)"
   ]
  },
  {
   "cell_type": "code",
   "execution_count": 48,
   "id": "b6f9394e",
   "metadata": {},
   "outputs": [],
   "source": [
    "Batch_size = 32\n",
    "def build_model(TIME_PERIODS):\n",
    "    input_shape=(TIME_PERIODS,)\n",
    "    model = Sequential()\n",
    "    model.add(keras.Input(shape=(TIME_PERIODS,1)))\n",
    "    model.add(Conv1D(512, 2,strides=2,input_shape=(TIME_PERIODS,1)))\n",
    "    model.add(Dropout(0.1))\n",
    "    model.add(Conv1D(512, 2,strides=2, kernel_initializer='glorot_normal', padding=\"same\", activation='relu'))\n",
    "    model.add(Dropout(0.1))\n",
    "    model.add(Conv1D(256, 2,strides=2, kernel_initializer='glorot_normal', padding=\"same\", activation='relu'))\n",
    "    model.add(Dropout(0.1))\n",
    "    model.add(Conv1D(256, 2,strides=2, kernel_initializer='glorot_normal', padding=\"same\", activation='relu'))\n",
    "    model.add(Dropout(0.1))\n",
    "    model.add(Conv1D(128, 2,strides=2, kernel_initializer='glorot_normal', padding=\"same\", activation='relu'))\n",
    "    model.add(Conv1D(128, 2,strides=2, kernel_initializer='glorot_normal', padding=\"same\", activation='relu'))\n",
    "    model.add(Conv1D(64, 1,strides=2, kernel_initializer='glorot_normal', padding=\"same\", activation='relu'))\n",
    "    model.add(Conv1D(64, 1,strides=2, kernel_initializer='glorot_normal', padding=\"same\", activation='relu'))\n",
    "    model.add(Conv1D(32, 1,strides=1, kernel_initializer='glorot_normal', padding=\"same\", activation='relu'))\n",
    "    model.add(Dropout(0.1))\n",
    "    model.add(Dense(32))\n",
    "    model.add(GlobalAveragePooling1D())\n",
    "    model.add(Dropout(0.1))\n",
    "    model.add(Dense(2))\n",
    "    model.add(Activation('softmax'))\n",
    "    return(model)"
   ]
  },
  {
   "cell_type": "code",
   "execution_count": 49,
   "id": "25667231",
   "metadata": {},
   "outputs": [],
   "source": [
    "x_train_225, x_test_225, y_train_225, y_test_225 = train_test_split(principalDf, labels, test_size= 0.2, random_state=42)\n",
    "#x_train_225, x_val_225, y_train_225, y_val_225 = train_test_split(x_train_225, y_train_225, test_size=0.25, random_state= 42)"
   ]
  },
  {
   "cell_type": "code",
   "execution_count": 50,
   "id": "2004d85c",
   "metadata": {},
   "outputs": [],
   "source": [
    "y_train_225 = y_train_225.astype(int)\n",
    "y_test_225 = y_test_225.astype(int)\n",
    "#y_val_225 = y_val_225.astype(int)"
   ]
  },
  {
   "cell_type": "code",
   "execution_count": 51,
   "id": "42141eed",
   "metadata": {},
   "outputs": [],
   "source": [
    "ckpt = keras.callbacks.ModelCheckpoint(\n",
    "        filepath='C:/Users/norma/Desktop/BITIRME/Models/CNN/best_model.{epoch:02d}-{val_accuracy:.4f}.h5',\n",
    "        monitor='val_accuracy', save_best_only=True,verbose=1)\n",
    "\n",
    "callbacks = [EarlyStopping(monitor='val_accuracy', patience=10, mode='auto', verbose=1, min_delta=0.0001),\n",
    "         ckpt]\n",
    "\n",
    "model_225 = build_model(principalDf.shape[1])\n",
    "opt = tf.keras.optimizers.Adam(0.0001)\n",
    "model_225.compile(loss='categorical_crossentropy',\n",
    "            optimizer=opt, metrics=['accuracy'])"
   ]
  },
  {
   "cell_type": "code",
   "execution_count": 52,
   "id": "7cd499c8",
   "metadata": {},
   "outputs": [
    {
     "name": "stdout",
     "output_type": "stream",
     "text": [
      "Epoch 1/50\n",
      "28/29 [===========================>..] - ETA: 0s - loss: 0.6931 - accuracy: 0.5093\n",
      "Epoch 1: val_accuracy improved from -inf to 0.56842, saving model to C:/Users/norma/Desktop/BITIRME/Models/CNN\\best_model.01-0.5684.h5\n",
      "29/29 [==============================] - 5s 157ms/step - loss: 0.6931 - accuracy: 0.5072 - val_loss: 0.6918 - val_accuracy: 0.5684\n",
      "Epoch 2/50\n",
      "28/29 [===========================>..] - ETA: 0s - loss: 0.6923 - accuracy: 0.5291\n",
      "Epoch 2: val_accuracy improved from 0.56842 to 0.59474, saving model to C:/Users/norma/Desktop/BITIRME/Models/CNN\\best_model.02-0.5947.h5\n",
      "29/29 [==============================] - 4s 148ms/step - loss: 0.6923 - accuracy: 0.5296 - val_loss: 0.6903 - val_accuracy: 0.5947\n",
      "Epoch 3/50\n",
      "28/29 [===========================>..] - ETA: 0s - loss: 0.6905 - accuracy: 0.5675\n",
      "Epoch 3: val_accuracy did not improve from 0.59474\n",
      "29/29 [==============================] - 4s 128ms/step - loss: 0.6905 - accuracy: 0.5679 - val_loss: 0.6861 - val_accuracy: 0.5895\n",
      "Epoch 4/50\n",
      "28/29 [===========================>..] - ETA: 0s - loss: 0.6898 - accuracy: 0.5648\n",
      "Epoch 4: val_accuracy improved from 0.59474 to 0.60000, saving model to C:/Users/norma/Desktop/BITIRME/Models/CNN\\best_model.04-0.6000.h5\n",
      "29/29 [==============================] - 4s 143ms/step - loss: 0.6896 - accuracy: 0.5652 - val_loss: 0.6827 - val_accuracy: 0.6000\n",
      "Epoch 5/50\n",
      "28/29 [===========================>..] - ETA: 0s - loss: 0.6837 - accuracy: 0.5741\n",
      "Epoch 5: val_accuracy did not improve from 0.60000\n",
      "29/29 [==============================] - 4s 127ms/step - loss: 0.6836 - accuracy: 0.5744 - val_loss: 0.6752 - val_accuracy: 0.5895\n",
      "Epoch 6/50\n",
      "28/29 [===========================>..] - ETA: 0s - loss: 0.6752 - accuracy: 0.6005\n",
      "Epoch 6: val_accuracy improved from 0.60000 to 0.63684, saving model to C:/Users/norma/Desktop/BITIRME/Models/CNN\\best_model.06-0.6368.h5\n",
      "29/29 [==============================] - 4s 132ms/step - loss: 0.6749 - accuracy: 0.6021 - val_loss: 0.6556 - val_accuracy: 0.6368\n",
      "Epoch 7/50\n",
      "28/29 [===========================>..] - ETA: 0s - loss: 0.6564 - accuracy: 0.6296\n",
      "Epoch 7: val_accuracy did not improve from 0.63684\n",
      "29/29 [==============================] - 4s 129ms/step - loss: 0.6575 - accuracy: 0.6285 - val_loss: 0.6573 - val_accuracy: 0.5842\n",
      "Epoch 8/50\n",
      "28/29 [===========================>..] - ETA: 0s - loss: 0.6526 - accuracy: 0.6098\n",
      "Epoch 8: val_accuracy improved from 0.63684 to 0.66316, saving model to C:/Users/norma/Desktop/BITIRME/Models/CNN\\best_model.08-0.6632.h5\n",
      "29/29 [==============================] - 4s 133ms/step - loss: 0.6523 - accuracy: 0.6100 - val_loss: 0.6182 - val_accuracy: 0.6632\n",
      "Epoch 9/50\n",
      "28/29 [===========================>..] - ETA: 0s - loss: 0.6202 - accuracy: 0.6495\n",
      "Epoch 9: val_accuracy improved from 0.66316 to 0.66842, saving model to C:/Users/norma/Desktop/BITIRME/Models/CNN\\best_model.09-0.6684.h5\n",
      "29/29 [==============================] - 4s 152ms/step - loss: 0.6206 - accuracy: 0.6495 - val_loss: 0.5988 - val_accuracy: 0.6684\n",
      "Epoch 10/50\n",
      "28/29 [===========================>..] - ETA: 0s - loss: 0.6027 - accuracy: 0.6706\n",
      "Epoch 10: val_accuracy did not improve from 0.66842\n",
      "29/29 [==============================] - 4s 137ms/step - loss: 0.6024 - accuracy: 0.6706 - val_loss: 0.5836 - val_accuracy: 0.6526\n",
      "Epoch 11/50\n",
      "28/29 [===========================>..] - ETA: 0s - loss: 0.5714 - accuracy: 0.6944\n",
      "Epoch 11: val_accuracy did not improve from 0.66842\n",
      "29/29 [==============================] - 4s 133ms/step - loss: 0.5712 - accuracy: 0.6943 - val_loss: 0.5863 - val_accuracy: 0.6474\n",
      "Epoch 12/50\n",
      "28/29 [===========================>..] - ETA: 0s - loss: 0.5559 - accuracy: 0.7275\n",
      "Epoch 12: val_accuracy did not improve from 0.66842\n",
      "29/29 [==============================] - 4s 137ms/step - loss: 0.5552 - accuracy: 0.7286 - val_loss: 0.6170 - val_accuracy: 0.6579\n",
      "Epoch 13/50\n",
      "28/29 [===========================>..] - ETA: 0s - loss: 0.5518 - accuracy: 0.7183\n",
      "Epoch 13: val_accuracy improved from 0.66842 to 0.68947, saving model to C:/Users/norma/Desktop/BITIRME/Models/CNN\\best_model.13-0.6895.h5\n",
      "29/29 [==============================] - 4s 139ms/step - loss: 0.5507 - accuracy: 0.7194 - val_loss: 0.5727 - val_accuracy: 0.6895\n",
      "Epoch 14/50\n",
      "28/29 [===========================>..] - ETA: 0s - loss: 0.5242 - accuracy: 0.7566\n",
      "Epoch 14: val_accuracy did not improve from 0.68947\n",
      "29/29 [==============================] - 4s 134ms/step - loss: 0.5248 - accuracy: 0.7563 - val_loss: 0.6083 - val_accuracy: 0.6526\n",
      "Epoch 15/50\n",
      "28/29 [===========================>..] - ETA: 0s - loss: 0.5169 - accuracy: 0.7434\n",
      "Epoch 15: val_accuracy did not improve from 0.68947\n",
      "29/29 [==============================] - 4s 134ms/step - loss: 0.5158 - accuracy: 0.7444 - val_loss: 0.5729 - val_accuracy: 0.6474\n",
      "Epoch 16/50\n",
      "28/29 [===========================>..] - ETA: 0s - loss: 0.5045 - accuracy: 0.7672\n",
      "Epoch 16: val_accuracy did not improve from 0.68947\n",
      "29/29 [==============================] - 4s 135ms/step - loss: 0.5063 - accuracy: 0.7655 - val_loss: 0.5891 - val_accuracy: 0.6632\n",
      "Epoch 17/50\n",
      "28/29 [===========================>..] - ETA: 0s - loss: 0.5010 - accuracy: 0.7474\n",
      "Epoch 17: val_accuracy improved from 0.68947 to 0.72105, saving model to C:/Users/norma/Desktop/BITIRME/Models/CNN\\best_model.17-0.7211.h5\n",
      "29/29 [==============================] - 4s 139ms/step - loss: 0.5032 - accuracy: 0.7457 - val_loss: 0.5720 - val_accuracy: 0.7211\n",
      "Epoch 18/50\n",
      "28/29 [===========================>..] - ETA: 0s - loss: 0.4764 - accuracy: 0.7817\n",
      "Epoch 18: val_accuracy did not improve from 0.72105\n",
      "29/29 [==============================] - 4s 135ms/step - loss: 0.4795 - accuracy: 0.7800 - val_loss: 0.5562 - val_accuracy: 0.6895\n",
      "Epoch 19/50\n",
      "28/29 [===========================>..] - ETA: 0s - loss: 0.4879 - accuracy: 0.7751\n",
      "Epoch 19: val_accuracy did not improve from 0.72105\n",
      "29/29 [==============================] - 4s 137ms/step - loss: 0.4884 - accuracy: 0.7747 - val_loss: 0.5723 - val_accuracy: 0.6789\n",
      "Epoch 20/50\n",
      "28/29 [===========================>..] - ETA: 0s - loss: 0.4698 - accuracy: 0.7791\n",
      "Epoch 20: val_accuracy did not improve from 0.72105\n",
      "29/29 [==============================] - 4s 135ms/step - loss: 0.4683 - accuracy: 0.7800 - val_loss: 0.5916 - val_accuracy: 0.6737\n",
      "Epoch 21/50\n",
      "28/29 [===========================>..] - ETA: 0s - loss: 0.4700 - accuracy: 0.7606\n",
      "Epoch 21: val_accuracy did not improve from 0.72105\n",
      "29/29 [==============================] - 4s 140ms/step - loss: 0.4720 - accuracy: 0.7589 - val_loss: 0.5861 - val_accuracy: 0.6737\n",
      "Epoch 22/50\n",
      "28/29 [===========================>..] - ETA: 0s - loss: 0.4460 - accuracy: 0.7897\n",
      "Epoch 22: val_accuracy did not improve from 0.72105\n",
      "29/29 [==============================] - 4s 139ms/step - loss: 0.4472 - accuracy: 0.7879 - val_loss: 0.5927 - val_accuracy: 0.6632\n",
      "Epoch 23/50\n",
      "28/29 [===========================>..] - ETA: 0s - loss: 0.4662 - accuracy: 0.7857\n",
      "Epoch 23: val_accuracy did not improve from 0.72105\n",
      "29/29 [==============================] - 4s 145ms/step - loss: 0.4649 - accuracy: 0.7866 - val_loss: 0.5709 - val_accuracy: 0.6895\n",
      "Epoch 24/50\n",
      "28/29 [===========================>..] - ETA: 0s - loss: 0.4233 - accuracy: 0.8056\n",
      "Epoch 24: val_accuracy did not improve from 0.72105\n",
      "29/29 [==============================] - 4s 142ms/step - loss: 0.4244 - accuracy: 0.8050 - val_loss: 0.6035 - val_accuracy: 0.7000\n",
      "Epoch 25/50\n",
      "28/29 [===========================>..] - ETA: 0s - loss: 0.4305 - accuracy: 0.7937\n",
      "Epoch 25: val_accuracy did not improve from 0.72105\n",
      "29/29 [==============================] - 4s 142ms/step - loss: 0.4305 - accuracy: 0.7931 - val_loss: 0.6201 - val_accuracy: 0.6789\n",
      "Epoch 26/50\n",
      "28/29 [===========================>..] - ETA: 0s - loss: 0.4083 - accuracy: 0.8307\n",
      "Epoch 26: val_accuracy did not improve from 0.72105\n",
      "29/29 [==============================] - 4s 154ms/step - loss: 0.4083 - accuracy: 0.8300 - val_loss: 0.6570 - val_accuracy: 0.6474\n",
      "Epoch 27/50\n",
      "28/29 [===========================>..] - ETA: 0s - loss: 0.4335 - accuracy: 0.8016\n",
      "Epoch 27: val_accuracy did not improve from 0.72105\n",
      "29/29 [==============================] - 4s 145ms/step - loss: 0.4342 - accuracy: 0.8011 - val_loss: 0.5968 - val_accuracy: 0.6842\n",
      "Epoch 27: early stopping\n"
     ]
    }
   ],
   "source": [
    "history_225 = model_225.fit(\n",
    "      x_train_225,y_train_225,\n",
    "      steps_per_epoch=len(principalDf)//Batch_size,\n",
    "      validation_data=(x_test_225, y_test_225),\n",
    "      epochs=50,\n",
    "      callbacks=[callbacks]\n",
    "      )\n",
    "\n",
    "y_pred_225 = model_225.predict(x_test_225)"
   ]
  },
  {
   "cell_type": "code",
   "execution_count": 53,
   "id": "92a75015",
   "metadata": {},
   "outputs": [],
   "source": [
    "class_d = 'C:/Users/norma/Desktop/BITIRME/duzgun_GSE_OrtakData_NormR.csv'\n",
    "class_df = pd.read_csv(class_d, sep = ';', decimal = ',')\n",
    "class_df = class_df[class_df.Class != 2]\n",
    "\n",
    "#creating instance of one-hot-encoder\n",
    "encoder = OneHotEncoder(handle_unknown='ignore')\n",
    "\n",
    "encoder_df = pd.DataFrame(encoder.fit_transform(class_df[['Class']]).toarray())\n",
    "encoder_df.columns = ['AD','CTL']\n",
    "\n",
    "y_test = encoder.inverse_transform(y_test_225).ravel()"
   ]
  },
  {
   "cell_type": "code",
   "execution_count": 54,
   "id": "1a091ba8",
   "metadata": {},
   "outputs": [],
   "source": [
    "y_pred = np.argmax(y_pred_225, axis=1)"
   ]
  },
  {
   "cell_type": "code",
   "execution_count": 55,
   "id": "5ee808cb",
   "metadata": {},
   "outputs": [
    {
     "name": "stdout",
     "output_type": "stream",
     "text": [
      "0.6842105263157895\n"
     ]
    }
   ],
   "source": [
    "print(accuracy_score(y_pred,y_test))"
   ]
  },
  {
   "cell_type": "code",
   "execution_count": 56,
   "id": "63f3767a",
   "metadata": {},
   "outputs": [
    {
     "name": "stdout",
     "output_type": "stream",
     "text": [
      "Classification report : \n",
      "               precision    recall  f1-score   support\n",
      "\n",
      "           1       0.72      0.60      0.66        95\n",
      "           0       0.66      0.77      0.71        95\n",
      "\n",
      "    accuracy                           0.68       190\n",
      "   macro avg       0.69      0.68      0.68       190\n",
      "weighted avg       0.69      0.68      0.68       190\n",
      "\n"
     ]
    },
    {
     "data": {
      "image/png": "[encoded data removed]",
      "text/plain": [
       "<Figure size 432x288 with 2 Axes>"
      ]
     },
     "metadata": {
      "needs_background": "light"
     },
     "output_type": "display_data"
    }
   ],
   "source": [
    "# classification report for precision, recall f1-score and accuracy\n",
    "matrix = classification_report(y_test,y_pred,labels=[1,0])\n",
    "print('Classification report : \\n',matrix)\n",
    "\n",
    "labels_ = ['AD','CTL']\n",
    "ax= plt.subplot()\n",
    "\n",
    "# confusion matrix\n",
    "matrix = confusion_matrix(\n",
    "    y_test, y_pred)\n",
    "\n",
    "sns.heatmap(matrix, annot=True, fmt='g', ax=ax);  #annot=True to annotate cells, ftm='g' to disable scientific notation\n",
    "\n",
    "# labels, title and ticks\n",
    "ax.set_xlabel('Predicted labels');ax.set_ylabel('True labels'); \n",
    "ax.set_title('Confusion Matrix'); \n",
    "ax.xaxis.set_ticklabels(labels); ax.yaxis.set_ticklabels(labels_);"
   ]
  },
  {
   "cell_type": "code",
   "execution_count": 57,
   "id": "5dbf469e",
   "metadata": {},
   "outputs": [
    {
     "name": "stdout",
     "output_type": "stream",
     "text": [
      "\n",
      "\n",
      "dict_keys(['loss', 'accuracy', 'val_loss', 'val_accuracy'])\n"
     ]
    },
    {
     "data": {
      "image/png": "[encoded data removed]",
      "text/plain": [
       "<Figure size 432x288 with 1 Axes>"
      ]
     },
     "metadata": {
      "needs_background": "light"
     },
     "output_type": "display_data"
    },
    {
     "data": {
      "image/png": "[encoded data removed]",
      "text/plain": [
       "<Figure size 432x288 with 1 Axes>"
      ]
     },
     "metadata": {
      "needs_background": "light"
     },
     "output_type": "display_data"
    }
   ],
   "source": [
    "print(\"\\n\")\n",
    "print(history_225.history.keys())\n",
    "\n",
    "# summarize history for accuracy\n",
    "plt.plot(history_225.history['accuracy'])\n",
    "plt.plot(history_225.history['val_accuracy'])\n",
    "plt.title('model accuracy')\n",
    "plt.ylabel('accuracy')\n",
    "plt.xlabel('epoch')\n",
    "plt.legend(['train', 'test'], loc='upper left')\n",
    "plt.show()\n",
    "\n",
    "# summarize history for loss\n",
    "plt.plot(history_225.history['loss'])\n",
    "plt.plot(history_225.history['val_loss'])\n",
    "plt.title('model loss')\n",
    "plt.ylabel('loss')\n",
    "plt.xlabel('epoch')\n",
    "plt.legend(['train', 'test'], loc='upper left')\n",
    "plt.show()"
   ]
  },
  {
   "cell_type": "code",
   "execution_count": null,
   "id": "5d9bdf4d",
   "metadata": {},
   "outputs": [],
   "source": []
  },
  {
   "cell_type": "code",
   "execution_count": null,
   "id": "95b206a1",
   "metadata": {},
   "outputs": [],
   "source": []
  }
 ],
 "metadata": {
  "kernelspec": {
   "display_name": "Python 3 (ipykernel)",
   "language": "python",
   "name": "python3"
  },
  "language_info": {
   "codemirror_mode": {
    "name": "ipython",
    "version": 3
   },
   "file_extension": ".py",
   "mimetype": "text/x-python",
   "name": "python",
   "nbconvert_exporter": "python",
   "pygments_lexer": "ipython3",
   "version": "3.9.7"
  }
 },
 "nbformat": 4,
 "nbformat_minor": 5
}
